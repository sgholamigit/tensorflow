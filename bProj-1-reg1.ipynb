{
 "cells": [
  {
   "cell_type": "code",
   "execution_count": 1,
   "metadata": {
    "collapsed": true
   },
   "outputs": [],
   "source": [
    "from __future__ import print_function\n",
    "import matplotlib.pyplot as plt\n",
    "import numpy as np\n",
    "import os\n",
    "import sys\n",
    "import tarfile\n",
    "from IPython.display import display, Image\n",
    "from sklearn.linear_model import LogisticRegression\n",
    "from sklearn.linear_model import LinearRegression\n",
    "from scipy import ndimage\n",
    "from six.moves import cPickle as pickle"
   ]
  },
  {
   "cell_type": "code",
   "execution_count": 2,
   "metadata": {
    "collapsed": true
   },
   "outputs": [],
   "source": [
    "train_filename = 'trainsetSimple'\n",
    "test_filename = 'trainsetSimpleTest'"
   ]
  },
  {
   "cell_type": "code",
   "execution_count": 3,
   "metadata": {
    "collapsed": false
   },
   "outputs": [
    {
     "name": "stdout",
     "output_type": "stream",
     "text": [
      "trainsetSimple already present - Skipping extraction of trainsetSimple.\n",
      "['trainsetSimple/0', 'trainsetSimple/105', 'trainsetSimple/135', 'trainsetSimple/15', 'trainsetSimple/165', 'trainsetSimple/195', 'trainsetSimple/225', 'trainsetSimple/255', 'trainsetSimple/45', 'trainsetSimple/75']\n",
      "trainsetSimpleTest already present - Skipping extraction of trainsetSimpleTest.\n",
      "['trainsetSimpleTest/0', 'trainsetSimpleTest/105', 'trainsetSimpleTest/135', 'trainsetSimpleTest/15', 'trainsetSimpleTest/165', 'trainsetSimpleTest/195', 'trainsetSimpleTest/225', 'trainsetSimpleTest/255', 'trainsetSimpleTest/45', 'trainsetSimpleTest/75']\n"
     ]
    }
   ],
   "source": [
    "# extracting the datasets\n",
    "num_classes = 10\n",
    "np.random.seed(133)\n",
    "\n",
    "def maybe_extract(filename, force=False):\n",
    "  root = os.path.splitext(os.path.splitext(filename)[0])[0]  # remove .tar.gz\n",
    "  if os.path.isdir(root) and not force:\n",
    "    # You may override by setting force=True.\n",
    "    print('%s already present - Skipping extraction of %s.' % (root, filename))\n",
    "  else:\n",
    "    print('Extracting data for %s. This may take a while. Please wait.' % root)\n",
    "    tar = tarfile.open(filename)\n",
    "    sys.stdout.flush()\n",
    "    tar.extractall()\n",
    "    tar.close()\n",
    "  data_folders = [\n",
    "    os.path.join(root, d) for d in sorted(os.listdir(root))\n",
    "    if os.path.isdir(os.path.join(root, d))]\n",
    "  if len(data_folders) != num_classes:\n",
    "    raise Exception(\n",
    "      'Expected %d folders, one per class. Found %d instead.' % (\n",
    "        num_classes, len(data_folders)))\n",
    "  print(data_folders)\n",
    "  return data_folders\n",
    "  \n",
    "train_folders = maybe_extract(train_filename)\n",
    "test_folders = maybe_extract(test_filename)"
   ]
  },
  {
   "cell_type": "code",
   "execution_count": 4,
   "metadata": {
    "collapsed": true
   },
   "outputs": [],
   "source": [
    "# have a look at data\n",
    "import random\n",
    "import hashlib\n",
    "\n",
    "def disp_samples(data_folders, sample_size):\n",
    "  for folder in data_folders:\n",
    "    print(folder)\n",
    "    image_files = os.listdir(folder)\n",
    "    image_sample = random.sample(image_files, sample_size)\n",
    "    for image in image_sample:\n",
    "      image_file = os.path.join(folder, image)\n",
    "      i = Image(filename=image_file)\n",
    "      display(i)"
   ]
  },
  {
   "cell_type": "code",
   "execution_count": 5,
   "metadata": {
    "collapsed": false
   },
   "outputs": [
    {
     "name": "stdout",
     "output_type": "stream",
     "text": [
      "trainsetSimple/0\n"
     ]
    },
    {
     "data": {
      "image/png": "[encoded data removed]",
      "text/plain": [
       "<IPython.core.display.Image object>"
      ]
     },
     "metadata": {},
     "output_type": "display_data"
    },
    {
     "name": "stdout",
     "output_type": "stream",
     "text": [
      "trainsetSimple/105\n"
     ]
    },
    {
     "data": {
      "image/png": "[encoded data removed]",
      "text/plain": [
       "<IPython.core.display.Image object>"
      ]
     },
     "metadata": {},
     "output_type": "display_data"
    },
    {
     "name": "stdout",
     "output_type": "stream",
     "text": [
      "trainsetSimple/135\n"
     ]
    },
    {
     "data": {
      "image/png": "[encoded data removed]",
      "text/plain": [
       "<IPython.core.display.Image object>"
      ]
     },
     "metadata": {},
     "output_type": "display_data"
    },
    {
     "name": "stdout",
     "output_type": "stream",
     "text": [
      "trainsetSimple/15\n"
     ]
    },
    {
     "data": {
      "image/png": "[encoded data removed]",
      "text/plain": [
       "<IPython.core.display.Image object>"
      ]
     },
     "metadata": {},
     "output_type": "display_data"
    },
    {
     "name": "stdout",
     "output_type": "stream",
     "text": [
      "trainsetSimple/165\n"
     ]
    },
    {
     "data": {
      "image/png": "[encoded data removed]",
      "text/plain": [
       "<IPython.core.display.Image object>"
      ]
     },
     "metadata": {},
     "output_type": "display_data"
    },
    {
     "name": "stdout",
     "output_type": "stream",
     "text": [
      "trainsetSimple/195\n"
     ]
    },
    {
     "data": {
      "image/png": "[encoded data removed]",
      "text/plain": [
       "<IPython.core.display.Image object>"
      ]
     },
     "metadata": {},
     "output_type": "display_data"
    },
    {
     "name": "stdout",
     "output_type": "stream",
     "text": [
      "trainsetSimple/225\n"
     ]
    },
    {
     "data": {
      "image/png": "[encoded data removed]",
      "text/plain": [
       "<IPython.core.display.Image object>"
      ]
     },
     "metadata": {},
     "output_type": "display_data"
    },
    {
     "name": "stdout",
     "output_type": "stream",
     "text": [
      "trainsetSimple/255\n"
     ]
    },
    {
     "data": {
      "image/png": "[encoded data removed]",
      "text/plain": [
       "<IPython.core.display.Image object>"
      ]
     },
     "metadata": {},
     "output_type": "display_data"
    },
    {
     "name": "stdout",
     "output_type": "stream",
     "text": [
      "trainsetSimple/45\n"
     ]
    },
    {
     "data": {
      "image/png": "[encoded data removed]",
      "text/plain": [
       "<IPython.core.display.Image object>"
      ]
     },
     "metadata": {},
     "output_type": "display_data"
    },
    {
     "name": "stdout",
     "output_type": "stream",
     "text": [
      "trainsetSimple/75\n"
     ]
    },
    {
     "data": {
      "image/png": "[encoded data removed]",
      "text/plain": [
       "<IPython.core.display.Image object>"
      ]
     },
     "metadata": {},
     "output_type": "display_data"
    }
   ],
   "source": [
    "disp_samples(train_folders, 1)"
   ]
  },
  {
   "cell_type": "code",
   "execution_count": 6,
   "metadata": {
    "collapsed": false
   },
   "outputs": [
    {
     "name": "stdout",
     "output_type": "stream",
     "text": [
      "trainsetSimpleTest/0\n"
     ]
    },
    {
     "data": {
      "image/png": "[encoded data removed]",
      "text/plain": [
       "<IPython.core.display.Image object>"
      ]
     },
     "metadata": {},
     "output_type": "display_data"
    },
    {
     "name": "stdout",
     "output_type": "stream",
     "text": [
      "trainsetSimpleTest/105\n"
     ]
    },
    {
     "data": {
      "image/png": "[encoded data removed]",
      "text/plain": [
       "<IPython.core.display.Image object>"
      ]
     },
     "metadata": {},
     "output_type": "display_data"
    },
    {
     "name": "stdout",
     "output_type": "stream",
     "text": [
      "trainsetSimpleTest/135\n"
     ]
    },
    {
     "data": {
      "image/png": "[encoded data removed]",
      "text/plain": [
       "<IPython.core.display.Image object>"
      ]
     },
     "metadata": {},
     "output_type": "display_data"
    },
    {
     "name": "stdout",
     "output_type": "stream",
     "text": [
      "trainsetSimpleTest/15\n"
     ]
    },
    {
     "data": {
      "image/png": "[encoded data removed]",
      "text/plain": [
       "<IPython.core.display.Image object>"
      ]
     },
     "metadata": {},
     "output_type": "display_data"
    },
    {
     "name": "stdout",
     "output_type": "stream",
     "text": [
      "trainsetSimpleTest/165\n"
     ]
    },
    {
     "data": {
      "image/png": "[encoded data removed]",
      "text/plain": [
       "<IPython.core.display.Image object>"
      ]
     },
     "metadata": {},
     "output_type": "display_data"
    },
    {
     "name": "stdout",
     "output_type": "stream",
     "text": [
      "trainsetSimpleTest/195\n"
     ]
    },
    {
     "data": {
      "image/png": "[encoded data removed]",
      "text/plain": [
       "<IPython.core.display.Image object>"
      ]
     },
     "metadata": {},
     "output_type": "display_data"
    },
    {
     "name": "stdout",
     "output_type": "stream",
     "text": [
      "trainsetSimpleTest/225\n"
     ]
    },
    {
     "data": {
      "image/png": "[encoded data removed]",
      "text/plain": [
       "<IPython.core.display.Image object>"
      ]
     },
     "metadata": {},
     "output_type": "display_data"
    },
    {
     "name": "stdout",
     "output_type": "stream",
     "text": [
      "trainsetSimpleTest/255\n"
     ]
    },
    {
     "data": {
      "image/png": "[encoded data removed]",
      "text/plain": [
       "<IPython.core.display.Image object>"
      ]
     },
     "metadata": {},
     "output_type": "display_data"
    },
    {
     "name": "stdout",
     "output_type": "stream",
     "text": [
      "trainsetSimpleTest/45\n"
     ]
    },
    {
     "data": {
      "image/png": "[encoded data removed]",
      "text/plain": [
       "<IPython.core.display.Image object>"
      ]
     },
     "metadata": {},
     "output_type": "display_data"
    },
    {
     "name": "stdout",
     "output_type": "stream",
     "text": [
      "trainsetSimpleTest/75\n"
     ]
    },
    {
     "data": {
      "image/png": "[encoded data removed]",
      "text/plain": [
       "<IPython.core.display.Image object>"
      ]
     },
     "metadata": {},
     "output_type": "display_data"
    }
   ],
   "source": [
    "disp_samples(test_folders, 1)"
   ]
  },
  {
   "cell_type": "code",
   "execution_count": 31,
   "metadata": {
    "collapsed": false
   },
   "outputs": [
    {
     "name": "stdout",
     "output_type": "stream",
     "text": [
      "Merging trainsetSimple/0.\n",
      "Merging trainsetSimple/105.\n",
      "Merging trainsetSimple/135.\n",
      "Merging trainsetSimple/15.\n",
      "Merging trainsetSimple/165.\n",
      "Merging trainsetSimple/195.\n",
      "Merging trainsetSimple/225.\n",
      "Merging trainsetSimple/255.\n",
      "Merging trainsetSimple/45.\n",
      "Merging trainsetSimple/75.\n",
      "Merging trainsetSimpleTest/0.\n",
      "Merging trainsetSimpleTest/105.\n",
      "Merging trainsetSimpleTest/135.\n",
      "Merging trainsetSimpleTest/15.\n",
      "Merging trainsetSimpleTest/165.\n",
      "Merging trainsetSimpleTest/195.\n",
      "Merging trainsetSimpleTest/225.\n",
      "Merging trainsetSimpleTest/255.\n",
      "Merging trainsetSimpleTest/45.\n",
      "Merging trainsetSimpleTest/75.\n",
      "[[[  0   0   0 ...,   0   0   0]\n",
      "  [  0   0   0 ...,   0   0   0]\n",
      "  [  0   0   0 ...,   0   0   0]\n",
      "  ..., \n",
      "  [  0   0   0 ...,   0   0   0]\n",
      "  [  0   0   0 ...,   0   0   0]\n",
      "  [  0   0   0 ...,   0   0   0]]\n",
      "\n",
      " [[  0   0   0 ...,   0   0   0]\n",
      "  [  0   0   0 ...,   0   0   0]\n",
      "  [  0   0   0 ...,   0   0   0]\n",
      "  ..., \n",
      "  [  0   0   0 ...,   0   0   0]\n",
      "  [  0   0   0 ...,   0   0   0]\n",
      "  [  0   0   0 ...,   0   0   0]]\n",
      "\n",
      " [[  0   0   0 ...,   0   0   0]\n",
      "  [  0   0   0 ...,   0   0   0]\n",
      "  [  0   0   0 ...,   0   0   0]\n",
      "  ..., \n",
      "  [  0   0   0 ...,   0   0   0]\n",
      "  [  0   0   0 ...,   0   0   0]\n",
      "  [  0   0   0 ...,   0   0   0]]\n",
      "\n",
      " ..., \n",
      " [[ 75  75  75 ...,  97  97  97]\n",
      "  [ 75  75  75 ...,  97  97  97]\n",
      "  [ 75  75  75 ...,  97  97  97]\n",
      "  ..., \n",
      "  [ 75  75  75 ...,  53  53  53]\n",
      "  [ 75  75  75 ...,  53  53  53]\n",
      "  [ 75  75  75 ...,  53  53  53]]\n",
      "\n",
      " [[156 156 156 ...,  54  54  54]\n",
      "  [156 156 156 ...,  54  54  54]\n",
      "  [156 156 156 ...,  54  54  54]\n",
      "  ..., \n",
      "  [ 56  56  56 ...,  34  34  34]\n",
      "  [ 56  56  56 ...,  34  34  34]\n",
      "  [ 56  56  56 ...,  34  34  34]]\n",
      "\n",
      " [[  9   9   9 ..., 219 219 219]\n",
      "  [  9   9   9 ..., 219 219 219]\n",
      "  [  9   9   9 ..., 219 219 219]\n",
      "  ..., \n",
      "  [ 14  14  14 ...,  58  58  58]\n",
      "  [ 14  14  14 ...,  58  58  58]\n",
      "  [ 14  14  14 ...,  58  58  58]]]\n",
      "[ 0.          0.          0.         ...,  0.29411766  0.29411766\n",
      "  0.29411766]\n",
      "[[[  0   0   0 ...,   0   0   0]\n",
      "  [  0   0   0 ...,   0   0   0]\n",
      "  [  0   0   0 ...,   0   0   0]\n",
      "  ..., \n",
      "  [  0   0   0 ...,   0   0   0]\n",
      "  [  0   0   0 ...,   0   0   0]\n",
      "  [  0   0   0 ...,   0   0   0]]\n",
      "\n",
      " [[  0   0   0 ...,   0   0   0]\n",
      "  [  0   0   0 ...,   0   0   0]\n",
      "  [  0   0   0 ...,   0   0   0]\n",
      "  ..., \n",
      "  [  0   0   0 ...,   0   0   0]\n",
      "  [  0   0   0 ...,   0   0   0]\n",
      "  [  0   0   0 ...,   0   0   0]]\n",
      "\n",
      " [[  0   0   0 ...,   0   0   0]\n",
      "  [  0   0   0 ...,   0   0   0]\n",
      "  [  0   0   0 ...,   0   0   0]\n",
      "  ..., \n",
      "  [  0   0   0 ...,   0   0   0]\n",
      "  [  0   0   0 ...,   0   0   0]\n",
      "  [  0   0   0 ...,   0   0   0]]\n",
      "\n",
      " ..., \n",
      " [[ 13  13  13 ..., 102 102 102]\n",
      "  [ 13  13  13 ..., 102 102 102]\n",
      "  [ 13  13  13 ..., 102 102 102]\n",
      "  ..., \n",
      "  [ 94  94  94 ...,  91  91  91]\n",
      "  [ 94  94  94 ...,  91  91  91]\n",
      "  [ 94  94  94 ...,  91  91  91]]\n",
      "\n",
      " [[148 148 148 ...,   6   6   6]\n",
      "  [148 148 148 ...,   6   6   6]\n",
      "  [148 148 148 ...,   6   6   6]\n",
      "  ..., \n",
      "  [ 57  57  57 ...,  89  89  89]\n",
      "  [ 57  57  57 ...,  89  89  89]\n",
      "  [ 57  57  57 ...,  89  89  89]]\n",
      "\n",
      " [[174 174 174 ...,  75  75  75]\n",
      "  [174 174 174 ...,  75  75  75]\n",
      "  [174 174 174 ...,  75  75  75]\n",
      "  ..., \n",
      "  [ 40  40  40 ...,  11  11  11]\n",
      "  [ 40  40  40 ...,  11  11  11]\n",
      "  [ 40  40  40 ...,  11  11  11]]]\n",
      "[ 0.          0.          0.          0.          0.          0.          0.\n",
      "  0.          0.          0.          0.          0.          0.          0.\n",
      "  0.          0.          0.          0.          0.          0.          0.\n",
      "  0.          0.          0.          0.          0.          0.          0.\n",
      "  0.          0.          0.          0.          0.          0.          0.\n",
      "  0.          0.          0.          0.          0.          0.          0.\n",
      "  0.          0.          0.          0.          0.          0.          0.\n",
      "  0.          0.          0.          0.          0.          0.          0.\n",
      "  0.          0.          0.          0.          0.          0.          0.\n",
      "  0.          0.          0.          0.          0.          0.          0.\n",
      "  0.          0.          0.          0.          0.          0.          0.\n",
      "  0.          0.          0.          0.          0.          0.          0.\n",
      "  0.          0.          0.          0.          0.          0.          0.\n",
      "  0.          0.          0.          0.          0.          0.          0.\n",
      "  0.          0.          0.41176471  0.41176471  0.41176471  0.41176471\n",
      "  0.41176471  0.41176471  0.41176471  0.41176471  0.41176471  0.41176471\n",
      "  0.41176471  0.41176471  0.41176471  0.41176471  0.41176471  0.41176471\n",
      "  0.41176471  0.41176471  0.41176471  0.41176471  0.41176471  0.41176471\n",
      "  0.41176471  0.41176471  0.41176471  0.41176471  0.41176471  0.41176471\n",
      "  0.41176471  0.41176471  0.41176471  0.41176471  0.41176471  0.41176471\n",
      "  0.41176471  0.41176471  0.41176471  0.41176471  0.41176471  0.41176471\n",
      "  0.41176471  0.41176471  0.41176471  0.41176471  0.41176471  0.41176471\n",
      "  0.41176471  0.41176471  0.41176471  0.41176471  0.41176471  0.41176471\n",
      "  0.41176471  0.41176471  0.41176471  0.41176471  0.41176471  0.41176471\n",
      "  0.41176471  0.41176471  0.41176471  0.41176471  0.41176471  0.41176471\n",
      "  0.41176471  0.41176471  0.41176471  0.41176471  0.41176471  0.41176471\n",
      "  0.41176471  0.41176471  0.41176471  0.41176471  0.41176471  0.41176471\n",
      "  0.41176471  0.41176471  0.41176471  0.41176471  0.41176471  0.41176471\n",
      "  0.41176471  0.41176471  0.41176471  0.41176471  0.41176471  0.41176471\n",
      "  0.41176471  0.41176471  0.41176471  0.41176471  0.41176471  0.41176471\n",
      "  0.41176471  0.41176471  0.41176471  0.41176471  0.41176471  0.41176471\n",
      "  0.52941179  0.52941179  0.52941179  0.52941179  0.52941179  0.52941179\n",
      "  0.52941179  0.52941179  0.52941179  0.52941179  0.52941179  0.52941179\n",
      "  0.52941179  0.52941179  0.52941179  0.52941179  0.52941179  0.52941179\n",
      "  0.52941179  0.52941179  0.52941179  0.52941179  0.52941179  0.52941179\n",
      "  0.52941179  0.52941179  0.52941179  0.52941179  0.52941179  0.52941179\n",
      "  0.52941179  0.52941179  0.52941179  0.52941179  0.52941179  0.52941179\n",
      "  0.52941179  0.52941179  0.52941179  0.52941179  0.52941179  0.52941179\n",
      "  0.52941179  0.52941179  0.52941179  0.52941179  0.52941179  0.52941179\n",
      "  0.52941179  0.52941179  0.52941179  0.52941179  0.52941179  0.52941179\n",
      "  0.52941179  0.52941179  0.52941179  0.52941179  0.52941179  0.52941179\n",
      "  0.52941179  0.52941179  0.52941179  0.52941179  0.52941179  0.52941179\n",
      "  0.52941179  0.52941179  0.52941179  0.52941179  0.52941179  0.52941179\n",
      "  0.52941179  0.52941179  0.52941179  0.52941179  0.52941179  0.52941179\n",
      "  0.52941179  0.52941179  0.52941179  0.52941179  0.52941179  0.52941179\n",
      "  0.52941179  0.52941179  0.52941179  0.52941179  0.52941179  0.52941179\n",
      "  0.52941179  0.52941179  0.52941179  0.52941179  0.52941179  0.52941179\n",
      "  0.52941179  0.52941179  0.52941179  0.52941179  0.05882353  0.05882353\n",
      "  0.05882353  0.05882353  0.05882353  0.05882353  0.05882353  0.05882353\n",
      "  0.05882353  0.05882353  0.05882353  0.05882353  0.05882353  0.05882353\n",
      "  0.05882353  0.05882353  0.05882353  0.05882353  0.05882353  0.05882353\n",
      "  0.05882353  0.05882353  0.05882353  0.05882353  0.05882353  0.05882353\n",
      "  0.05882353  0.05882353  0.05882353  0.05882353  0.05882353  0.05882353\n",
      "  0.05882353  0.05882353  0.05882353  0.05882353  0.05882353  0.05882353\n",
      "  0.05882353  0.05882353  0.05882353  0.05882353  0.05882353  0.05882353\n",
      "  0.05882353  0.05882353  0.05882353  0.05882353  0.05882353  0.05882353\n",
      "  0.05882353  0.05882353  0.05882353  0.05882353  0.05882353  0.05882353\n",
      "  0.05882353  0.05882353  0.05882353  0.05882353  0.05882353  0.05882353\n",
      "  0.05882353  0.05882353  0.05882353  0.05882353  0.05882353  0.05882353\n",
      "  0.05882353  0.05882353  0.05882353  0.05882353  0.05882353  0.05882353\n",
      "  0.05882353  0.05882353  0.05882353  0.05882353  0.05882353  0.05882353\n",
      "  0.05882353  0.05882353  0.05882353  0.05882353  0.05882353  0.05882353\n",
      "  0.05882353  0.05882353  0.05882353  0.05882353  0.05882353  0.05882353\n",
      "  0.05882353  0.05882353  0.05882353  0.05882353  0.05882353  0.05882353\n",
      "  0.05882353  0.05882353  0.64705884  0.64705884  0.64705884  0.64705884\n",
      "  0.64705884  0.64705884  0.64705884  0.64705884  0.64705884  0.64705884\n",
      "  0.64705884  0.64705884  0.64705884  0.64705884  0.64705884  0.64705884\n",
      "  0.64705884  0.64705884  0.64705884  0.64705884  0.64705884  0.64705884\n",
      "  0.64705884  0.64705884  0.64705884  0.64705884  0.64705884  0.64705884\n",
      "  0.64705884  0.64705884  0.64705884  0.64705884  0.64705884  0.64705884\n",
      "  0.64705884  0.64705884  0.64705884  0.64705884  0.64705884  0.64705884\n",
      "  0.64705884  0.64705884  0.64705884  0.64705884  0.64705884  0.64705884\n",
      "  0.64705884  0.64705884  0.64705884  0.64705884  0.64705884  0.64705884\n",
      "  0.64705884  0.64705884  0.64705884  0.64705884  0.64705884  0.64705884\n",
      "  0.64705884  0.64705884  0.64705884  0.64705884  0.64705884  0.64705884\n",
      "  0.64705884  0.64705884  0.64705884  0.64705884  0.64705884  0.64705884\n",
      "  0.64705884  0.64705884  0.64705884  0.64705884  0.64705884  0.64705884\n",
      "  0.64705884  0.64705884  0.64705884  0.64705884  0.64705884  0.64705884\n",
      "  0.64705884  0.64705884  0.64705884  0.64705884  0.64705884  0.64705884\n",
      "  0.64705884  0.64705884  0.64705884  0.64705884  0.64705884  0.64705884\n",
      "  0.64705884  0.64705884  0.64705884  0.64705884  0.64705884  0.64705884\n",
      "  0.7647059   0.7647059   0.7647059   0.7647059   0.7647059   0.7647059\n",
      "  0.7647059   0.7647059   0.7647059   0.7647059   0.7647059   0.7647059\n",
      "  0.7647059   0.7647059   0.7647059   0.7647059   0.7647059   0.7647059\n",
      "  0.7647059   0.7647059   0.7647059   0.7647059   0.7647059   0.7647059\n",
      "  0.7647059   0.7647059   0.7647059   0.7647059   0.7647059   0.7647059\n",
      "  0.7647059   0.7647059   0.7647059   0.7647059   0.7647059   0.7647059\n",
      "  0.7647059   0.7647059   0.7647059   0.7647059   0.7647059   0.7647059\n",
      "  0.7647059   0.7647059   0.7647059   0.7647059   0.7647059   0.7647059\n",
      "  0.7647059   0.7647059   0.7647059   0.7647059   0.7647059   0.7647059\n",
      "  0.7647059   0.7647059   0.7647059   0.7647059   0.7647059   0.7647059\n",
      "  0.7647059   0.7647059   0.7647059   0.7647059   0.7647059   0.7647059\n",
      "  0.7647059   0.7647059   0.7647059   0.7647059   0.7647059   0.7647059\n",
      "  0.7647059   0.7647059   0.7647059   0.7647059   0.7647059   0.7647059\n",
      "  0.7647059   0.7647059   0.7647059   0.7647059   0.7647059   0.7647059\n",
      "  0.7647059   0.7647059   0.7647059   0.7647059   0.7647059   0.7647059\n",
      "  0.7647059   0.7647059   0.7647059   0.7647059   0.7647059   0.7647059\n",
      "  0.7647059   0.7647059   0.7647059   0.7647059   0.88235295  0.88235295\n",
      "  0.88235295  0.88235295  0.88235295  0.88235295  0.88235295  0.88235295\n",
      "  0.88235295  0.88235295  0.88235295  0.88235295  0.88235295  0.88235295\n",
      "  0.88235295  0.88235295  0.88235295  0.88235295  0.88235295  0.88235295\n",
      "  0.88235295  0.88235295  0.88235295  0.88235295  0.88235295  0.88235295\n",
      "  0.88235295  0.88235295  0.88235295  0.88235295  0.88235295  0.88235295\n",
      "  0.88235295  0.88235295  0.88235295  0.88235295  0.88235295  0.88235295\n",
      "  0.88235295  0.88235295  0.88235295  0.88235295  0.88235295  0.88235295\n",
      "  0.88235295  0.88235295  0.88235295  0.88235295  0.88235295  0.88235295\n",
      "  0.88235295  0.88235295  0.88235295  0.88235295  0.88235295  0.88235295\n",
      "  0.88235295  0.88235295  0.88235295  0.88235295  0.88235295  0.88235295\n",
      "  0.88235295  0.88235295  0.88235295  0.88235295  0.88235295  0.88235295\n",
      "  0.88235295  0.88235295  0.88235295  0.88235295  0.88235295  0.88235295\n",
      "  0.88235295  0.88235295  0.88235295  0.88235295  0.88235295  0.88235295\n",
      "  0.88235295  0.88235295  0.88235295  0.88235295  0.88235295  0.88235295\n",
      "  0.88235295  0.88235295  0.88235295  0.88235295  0.88235295  0.88235295\n",
      "  0.88235295  0.88235295  0.88235295  0.88235295  0.88235295  0.88235295\n",
      "  0.88235295  0.88235295  1.          1.          1.          1.          1.\n",
      "  1.          1.          1.          1.          1.          1.          1.\n",
      "  1.          1.          1.          1.          1.          1.          1.\n",
      "  1.          1.          1.          1.          1.          1.          1.\n",
      "  1.          1.          1.          1.          1.          1.          1.\n",
      "  1.          1.          1.          1.          1.          1.          1.\n",
      "  1.          1.          1.          1.          1.          1.          1.\n",
      "  1.          1.          1.          1.          1.          1.          1.\n",
      "  1.          1.          1.          1.          1.          1.          1.\n",
      "  1.          1.          1.          1.          1.          1.          1.\n",
      "  1.          1.          1.          1.          1.          1.          1.\n",
      "  1.          1.          1.          1.          1.          1.          1.\n",
      "  1.          1.          1.          1.          1.          1.          1.\n",
      "  1.          1.          1.          1.          1.          1.          1.\n",
      "  1.          1.          1.          1.          0.17647059  0.17647059\n",
      "  0.17647059  0.17647059  0.17647059  0.17647059  0.17647059  0.17647059\n",
      "  0.17647059  0.17647059  0.17647059  0.17647059  0.17647059  0.17647059\n",
      "  0.17647059  0.17647059  0.17647059  0.17647059  0.17647059  0.17647059\n",
      "  0.17647059  0.17647059  0.17647059  0.17647059  0.17647059  0.17647059\n",
      "  0.17647059  0.17647059  0.17647059  0.17647059  0.17647059  0.17647059\n",
      "  0.17647059  0.17647059  0.17647059  0.17647059  0.17647059  0.17647059\n",
      "  0.17647059  0.17647059  0.17647059  0.17647059  0.17647059  0.17647059\n",
      "  0.17647059  0.17647059  0.17647059  0.17647059  0.17647059  0.17647059\n",
      "  0.17647059  0.17647059  0.17647059  0.17647059  0.17647059  0.17647059\n",
      "  0.17647059  0.17647059  0.17647059  0.17647059  0.17647059  0.17647059\n",
      "  0.17647059  0.17647059  0.17647059  0.17647059  0.17647059  0.17647059\n",
      "  0.17647059  0.17647059  0.17647059  0.17647059  0.17647059  0.17647059\n",
      "  0.17647059  0.17647059  0.17647059  0.17647059  0.17647059  0.17647059\n",
      "  0.17647059  0.17647059  0.17647059  0.17647059  0.17647059  0.17647059\n",
      "  0.17647059  0.17647059  0.17647059  0.17647059  0.17647059  0.17647059\n",
      "  0.17647059  0.17647059  0.17647059  0.17647059  0.17647059  0.17647059\n",
      "  0.17647059  0.17647059  0.29411766  0.29411766  0.29411766  0.29411766\n",
      "  0.29411766  0.29411766  0.29411766  0.29411766  0.29411766  0.29411766\n",
      "  0.29411766  0.29411766  0.29411766  0.29411766  0.29411766  0.29411766\n",
      "  0.29411766  0.29411766  0.29411766  0.29411766  0.29411766  0.29411766\n",
      "  0.29411766  0.29411766  0.29411766  0.29411766  0.29411766  0.29411766\n",
      "  0.29411766  0.29411766  0.29411766  0.29411766  0.29411766  0.29411766\n",
      "  0.29411766  0.29411766  0.29411766  0.29411766  0.29411766  0.29411766\n",
      "  0.29411766  0.29411766  0.29411766  0.29411766  0.29411766  0.29411766\n",
      "  0.29411766  0.29411766  0.29411766  0.29411766  0.29411766  0.29411766\n",
      "  0.29411766  0.29411766  0.29411766  0.29411766  0.29411766  0.29411766\n",
      "  0.29411766  0.29411766  0.29411766  0.29411766  0.29411766  0.29411766\n",
      "  0.29411766  0.29411766  0.29411766  0.29411766  0.29411766  0.29411766\n",
      "  0.29411766  0.29411766  0.29411766  0.29411766  0.29411766  0.29411766\n",
      "  0.29411766  0.29411766  0.29411766  0.29411766  0.29411766  0.29411766\n",
      "  0.29411766  0.29411766  0.29411766  0.29411766  0.29411766  0.29411766\n",
      "  0.29411766  0.29411766  0.29411766  0.29411766  0.29411766  0.29411766\n",
      "  0.29411766  0.29411766  0.29411766  0.29411766  0.29411766  0.29411766]\n",
      "trainDataset.shape (200000, 28, 28)\n",
      "labelsTrainDataset.shape (200000,)\n",
      "testDataset.shape (1000, 28, 28)\n",
      "labelsTestDataset.shape (1000,)\n"
     ]
    }
   ],
   "source": [
    "#Merging the data\n",
    "\n",
    "image_size = 28  # Pixel width and height.\n",
    "pixel_depth = 255.0  # Number of levels per pixel.\n",
    "num_of_classes = 10\n",
    "\n",
    "float_formatter = lambda x: \"%.2f\" % x\n",
    "\n",
    "        \n",
    "def Merge_folders(data_folders, size_per_class):\n",
    "  dataset_names = []\n",
    "  start_t = 0\n",
    "  end_t = size_per_class\n",
    "  required_size = size_per_class * num_of_classes\n",
    "  trainDataset = np.ndarray((required_size, image_size, image_size), dtype=np.uint8)\n",
    "  labelsDataset = np.ndarray(required_size, dtype=np.float32)\n",
    "  for folder in data_folders:\n",
    "    dataset_names.append(folder)\n",
    "\n",
    "    print('Merging %s.' % folder)\n",
    "    image_files = os.listdir(folder)\n",
    "    dataset = np.ndarray(shape=(len(image_files), image_size, image_size),\n",
    "                         dtype=np.uint8)\n",
    "    image_index = 0\n",
    "    for image in os.listdir(folder):\n",
    "        if image_index < size_per_class:\n",
    "            image_file = os.path.join(folder, image)\n",
    "            image_data = (ndimage.imread(image_file).astype(int))\n",
    "            dataset[image_index, :, :] = image_data\n",
    "            image_index += 1\n",
    "    num_images = image_index\n",
    "    dataset = dataset[0:num_images, :, :]\n",
    "    trainDataset[start_t:end_t, :, :] = dataset\n",
    "    x = float(folder.split(\"/\")[1]) / 255.0\n",
    "    #y = float_formatter(x)\n",
    "    labelsDataset[start_t:end_t] = x\n",
    "    start_t += size_per_class\n",
    "    end_t += size_per_class\n",
    "\n",
    "  \n",
    "  return dataset_names, trainDataset, labelsDataset\n",
    "\n",
    "train_datasets, trainDataset, labelsTrainDataset = Merge_folders(train_folders, 20000)\n",
    "test_datasets, testDataset, labelsTestDataset = Merge_folders(test_folders, 100)\n",
    "\n",
    "print(trainDataset)\n",
    "print(labelsTrainDataset)\n",
    "\n",
    "print(testDataset)\n",
    "print(labelsTestDataset)\n",
    "\n",
    "print('trainDataset.shape' , trainDataset.shape)\n",
    "print('labelsTrainDataset.shape' , labelsTrainDataset.shape)\n",
    "\n",
    "print('testDataset.shape' , testDataset.shape)\n",
    "print('labelsTestDataset.shape' , labelsTestDataset.shape)"
   ]
  },
  {
   "cell_type": "code",
   "execution_count": 33,
   "metadata": {
    "collapsed": false
   },
   "outputs": [
    {
     "name": "stdout",
     "output_type": "stream",
     "text": [
      "119219\n",
      "0.764706\n"
     ]
    },
    {
     "data": {
      "image/png": "[encoded data removed]",
      "text/plain": [
       "<matplotlib.figure.Figure at 0x7f039a241ed0>"
      ]
     },
     "metadata": {},
     "output_type": "display_data"
    },
    {
     "data": {
      "text/plain": [
       "0.76470588235294112"
      ]
     },
     "execution_count": 33,
     "metadata": {},
     "output_type": "execute_result"
    }
   ],
   "source": [
    "#test the data\n",
    "rand_image = random.randint(0, 200000)\n",
    "print (rand_image)\n",
    "plt.imshow(trainDataset[rand_image], cmap='gray', interpolation='nearest', vmin=0, vmax=255)\n",
    "print (labelsTrainDataset[rand_image])\n",
    "plt.show()\n",
    "np.mean(trainDataset[rand_image])/ 255.0"
   ]
  },
  {
   "cell_type": "code",
   "execution_count": 34,
   "metadata": {
    "collapsed": true
   },
   "outputs": [],
   "source": [
    "# randomize the data\n",
    "def randomize(dataset, labels):\n",
    "  permutation = np.random.permutation(labels.shape[0])\n",
    "  shuffled_dataset = dataset[permutation,:,:]\n",
    "  shuffled_labels = labels[permutation]\n",
    "  return shuffled_dataset, shuffled_labels\n",
    "train_dataset, train_labels = randomize(trainDataset, labelsTrainDataset)\n",
    "test_dataset, test_labels = randomize(testDataset, labelsTestDataset)"
   ]
  },
  {
   "cell_type": "code",
   "execution_count": 35,
   "metadata": {
    "collapsed": false
   },
   "outputs": [
    {
     "name": "stdout",
     "output_type": "stream",
     "text": [
      "79276\n",
      "0.882353\n"
     ]
    },
    {
     "data": {
      "image/png": "[encoded data removed]",
      "text/plain": [
       "<matplotlib.figure.Figure at 0x7f039a16d0d0>"
      ]
     },
     "metadata": {},
     "output_type": "display_data"
    },
    {
     "data": {
      "text/plain": [
       "0.88235294117647056"
      ]
     },
     "execution_count": 35,
     "metadata": {},
     "output_type": "execute_result"
    }
   ],
   "source": [
    "#test the data\n",
    "rand_image = random.randint(0, 200000)\n",
    "print (rand_image)\n",
    "plt.imshow(train_dataset[rand_image], cmap='gray', interpolation='nearest', vmin=0, vmax=255)\n",
    "print (train_labels[rand_image])\n",
    "plt.show()\n",
    "np.mean(train_dataset[rand_image]) / 255.0"
   ]
  },
  {
   "cell_type": "code",
   "execution_count": 37,
   "metadata": {
    "collapsed": false
   },
   "outputs": [
    {
     "name": "stdout",
     "output_type": "stream",
     "text": [
      "386\n",
      "0.647059\n"
     ]
    },
    {
     "data": {
      "image/png": "[encoded data removed]",
      "text/plain": [
       "<matplotlib.figure.Figure at 0x7f039a238f50>"
      ]
     },
     "metadata": {},
     "output_type": "display_data"
    },
    {
     "data": {
      "text/plain": [
       "0.6470588235294118"
      ]
     },
     "execution_count": 37,
     "metadata": {},
     "output_type": "execute_result"
    }
   ],
   "source": [
    "#test the data\n",
    "rand_image = random.randint(0, 1000)\n",
    "print (rand_image)\n",
    "plt.imshow(test_dataset[rand_image], cmap='gray', interpolation='nearest', vmin=0, vmax=255)\n",
    "print (test_labels[rand_image])\n",
    "plt.show()\n",
    "np.mean(test_dataset[rand_image]) / 255.0"
   ]
  },
  {
   "cell_type": "code",
   "execution_count": 38,
   "metadata": {
    "collapsed": true
   },
   "outputs": [],
   "source": [
    "# save the data\n",
    "pickle_file = 'brData10class14DomainReg.pickle'\n",
    "\n",
    "try:\n",
    "  f = open(pickle_file, 'wb')\n",
    "  save = {\n",
    "    'train_dataset': train_dataset,\n",
    "    'train_labels': train_labels,\n",
    "    'test_dataset': test_dataset,\n",
    "    'test_labels': test_labels,\n",
    "    }\n",
    "  pickle.dump(save, f, pickle.HIGHEST_PROTOCOL)\n",
    "  f.close()\n",
    "except Exception as e:\n",
    "  print('Unable to save data to', pickle_file, ':', e)\n",
    "  raise"
   ]
  },
  {
   "cell_type": "code",
   "execution_count": 39,
   "metadata": {
    "collapsed": false
   },
   "outputs": [
    {
     "name": "stdout",
     "output_type": "stream",
     "text": [
      "Compressed pickle size: 158388342\n"
     ]
    }
   ],
   "source": [
    "statinfo = os.stat(pickle_file)\n",
    "print('Compressed pickle size:', statinfo.st_size)"
   ]
  },
  {
   "cell_type": "code",
   "execution_count": 41,
   "metadata": {
    "collapsed": false
   },
   "outputs": [
    {
     "name": "stdout",
     "output_type": "stream",
     "text": [
      "73415\n"
     ]
    }
   ],
   "source": [
    "#estimate the duplicates\n",
    "\n",
    "all_data = pickle.load(open('brData10class14DomainReg.pickle', 'rb'))\n",
    "\n",
    "def count_duplicates(dataset1, dataset2):\n",
    "    hashes = [hashlib.sha1(x).hexdigest() for x in dataset1]\n",
    "    dup_indices = []\n",
    "    for i in range(0, len(dataset2)):\n",
    "        if hashlib.sha1(dataset2[i]).hexdigest() in hashes:\n",
    "            dup_indices.append(i)\n",
    "    return len(dup_indices)\n",
    "\n",
    "\n",
    "print(count_duplicates(all_data['test_dataset'], all_data['train_dataset']))"
   ]
  },
  {
   "cell_type": "code",
   "execution_count": 42,
   "metadata": {
    "collapsed": false
   },
   "outputs": [
    {
     "name": "stdout",
     "output_type": "stream",
     "text": [
      "200000\n",
      "200000\n",
      "1000\n",
      "1000\n"
     ]
    }
   ],
   "source": [
    "# test a regression model\n",
    "\n",
    "train_dataset = all_data['train_dataset']\n",
    "train_labels = all_data['train_labels']\n",
    "test_dataset = all_data['test_dataset']\n",
    "test_labels = all_data['test_labels']\n",
    "\n",
    "print (len(train_dataset))\n",
    "print (len(train_labels))\n",
    "print (len(test_dataset))\n",
    "print (len(test_labels))"
   ]
  },
  {
   "cell_type": "code",
   "execution_count": 43,
   "metadata": {
    "collapsed": false
   },
   "outputs": [
    {
     "name": "stdout",
     "output_type": "stream",
     "text": [
      "100 trainsamples score: 1.0\n",
      "1000 trainsamples score: 1.0\n",
      "5000 trainsamples score: 1.0\n",
      "10000 trainsamples score: 1.0\n",
      "200000 trainsamples score: 1.0\n"
     ]
    }
   ],
   "source": [
    "\n",
    "def get_score(train_dataset, train_labels, test_dataset, test_labels):\n",
    "    model = LinearRegression()\n",
    "    train_flatten_dataset = np.array([x.flatten() for x in train_dataset])\n",
    "    test_flatten_dataset = np.array([x.flatten() for x in test_dataset])\n",
    "    model.fit(train_flatten_dataset, train_labels)\n",
    "\n",
    "    return model.score([x.flatten() for x in test_dataset], test_labels)\n",
    "\n",
    "print(\"100 trainsamples score: \" + str(get_score(train_dataset[:100], train_labels[:100], test_dataset, test_labels)))\n",
    "print(\"1000 trainsamples score: \" + str(get_score(train_dataset[:1000], train_labels[:1000], test_dataset, test_labels)))\n",
    "print(\"5000 trainsamples score: \" + str(get_score(train_dataset[:5000], train_labels[:5000], test_dataset, test_labels)))\n",
    "print(\"10000 trainsamples score: \" + str(get_score(train_dataset[:10000], train_labels[:10000], test_dataset, test_labels)))\n",
    "print(\"200000 trainsamples score: \" + str(get_score(train_dataset[:260000], train_labels[:260000], test_dataset, test_labels)))"
   ]
  },
  {
   "cell_type": "code",
   "execution_count": 54,
   "metadata": {
    "collapsed": false
   },
   "outputs": [
    {
     "name": "stdout",
     "output_type": "stream",
     "text": [
      "Mean squared error: 0.00\n",
      "Variance score: 1.00\n"
     ]
    }
   ],
   "source": [
    "from sklearn import linear_model\n",
    "\n",
    "regr = linear_model.LinearRegression()\n",
    "train_flatten_dataset = np.array([x.flatten() for x in train_dataset])\n",
    "test_flatten_dataset = np.array([x.flatten() for x in test_dataset])\n",
    "regr.fit(train_flatten_dataset, train_labels)\n",
    "print(\"Mean squared error: %.2f\"\n",
    "      % np.mean((regr.predict(test_flatten_dataset) - test_labels) ** 2))\n",
    "# Explained variance score: 1 is perfect prediction\n",
    "print('Variance score: %.2f' % regr.score(test_flatten_dataset, test_labels))\n"
   ]
  },
  {
   "cell_type": "code",
   "execution_count": 55,
   "metadata": {
    "collapsed": false
   },
   "outputs": [
    {
     "data": {
      "text/plain": [
       "array([  5.29411786e-01,   2.94117675e-01,   1.76470611e-01,\n",
       "         1.76470616e-01,   5.29411791e-01,   2.94117678e-01,\n",
       "         6.47058858e-01,   2.94117683e-01,   5.29411797e-01,\n",
       "         1.00000004e+00,   5.29411797e-01,   2.94117679e-01,\n",
       "         2.32539605e-08,   6.47058865e-01,   1.76470613e-01,\n",
       "         2.32539605e-08,   6.47058859e-01,   2.32539605e-08,\n",
       "         8.82352979e-01,   5.88235531e-02,   1.76470617e-01,\n",
       "         4.11764741e-01,   5.29411801e-01,   5.88235527e-02,\n",
       "         1.76470611e-01,   2.94117671e-01,   6.47058868e-01,\n",
       "         5.29411799e-01,   1.00000004e+00,   4.11764743e-01,\n",
       "         4.11764736e-01,   4.11764740e-01,   1.00000004e+00,\n",
       "         4.11764736e-01,   6.47058859e-01,   1.00000004e+00,\n",
       "         6.47058857e-01,   5.88235543e-02,   2.94117670e-01,\n",
       "         2.32539605e-08,   5.29411797e-01,   6.47058857e-01,\n",
       "         5.29411797e-01,   2.94117675e-01,   4.11764739e-01,\n",
       "         2.94117679e-01,   1.00000004e+00,   4.11764736e-01,\n",
       "         2.32539605e-08,   5.29411803e-01,   5.88235539e-02,\n",
       "         2.94117674e-01,   5.88235531e-02,   2.94117674e-01,\n",
       "         6.47058858e-01,   5.29411801e-01,   5.29411791e-01,\n",
       "         2.32539605e-08,   2.32539605e-08,   8.82352977e-01,\n",
       "         7.64705925e-01,   1.00000004e+00,   2.94117673e-01,\n",
       "         5.29411801e-01,   6.47058858e-01,   5.29411797e-01,\n",
       "         8.82352979e-01,   6.47058865e-01,   1.76470618e-01,\n",
       "         8.82352978e-01,   7.64705920e-01,   8.82352977e-01,\n",
       "         5.88235509e-02,   2.32539605e-08,   1.76470617e-01,\n",
       "         1.00000004e+00,   8.82352978e-01,   5.88235537e-02,\n",
       "         1.76470616e-01,   6.47058858e-01,   6.47058858e-01,\n",
       "         4.11764736e-01,   2.32539605e-08,   5.88235554e-02,\n",
       "         4.11764738e-01,   2.94117677e-01,   2.32539605e-08,\n",
       "         7.64705919e-01,   4.11764742e-01,   2.32539605e-08,\n",
       "         4.11764735e-01,   5.29411797e-01,   7.64705920e-01,\n",
       "         6.47058858e-01,   1.76470618e-01,   5.88235537e-02,\n",
       "         6.47058856e-01,   7.64705911e-01,   5.88235558e-02,\n",
       "         5.29411801e-01,   7.64705920e-01,   1.00000004e+00,\n",
       "         5.29411788e-01,   8.82352979e-01,   1.00000004e+00,\n",
       "         5.88235539e-02,   6.47058861e-01,   1.76470616e-01,\n",
       "         7.64705915e-01,   2.32539605e-08,   5.88235543e-02,\n",
       "         1.76470614e-01,   2.94117671e-01,   5.88235510e-02,\n",
       "         6.47058855e-01,   1.76470614e-01,   1.00000004e+00,\n",
       "         1.00000004e+00,   6.47058852e-01,   2.32539605e-08,\n",
       "         5.88235531e-02,   4.11764740e-01,   5.29411793e-01,\n",
       "         6.47058854e-01,   1.76470612e-01,   8.82352978e-01,\n",
       "         2.32539605e-08,   5.29411796e-01,   7.64705915e-01,\n",
       "         8.82352980e-01,   5.29411794e-01,   5.29411799e-01,\n",
       "         1.76470620e-01,   1.00000004e+00,   8.82352978e-01,\n",
       "         6.47058858e-01,   1.00000004e+00,   1.76470610e-01,\n",
       "         8.82352981e-01,   5.29411796e-01,   7.64705920e-01,\n",
       "         1.76470619e-01,   6.47058851e-01,   7.64705916e-01,\n",
       "         5.88235551e-02,   2.32539605e-08,   4.11764740e-01,\n",
       "         5.29411804e-01,   1.76470613e-01,   2.32539605e-08,\n",
       "         8.82352978e-01,   8.82352979e-01,   5.29411793e-01,\n",
       "         6.47058859e-01,   2.32539605e-08,   2.94117683e-01,\n",
       "         1.00000004e+00,   1.00000004e+00,   7.64705912e-01,\n",
       "         2.94117680e-01,   2.94117680e-01,   2.94117678e-01,\n",
       "         6.47058859e-01,   5.29411808e-01,   2.94117672e-01,\n",
       "         4.11764738e-01,   4.11764738e-01,   6.47058854e-01,\n",
       "         5.88235543e-02,   5.29411791e-01,   2.94117675e-01,\n",
       "         5.29411802e-01,   6.47058859e-01,   1.76470614e-01,\n",
       "         5.29411795e-01,   2.94117678e-01,   8.82352977e-01,\n",
       "         1.76470616e-01,   8.82352976e-01,   8.82352978e-01,\n",
       "         2.32539605e-08,   1.76470613e-01,   5.29411798e-01,\n",
       "         1.00000004e+00,   2.32539605e-08,   4.11764734e-01,\n",
       "         1.76470620e-01,   6.47058853e-01,   2.94117675e-01,\n",
       "         1.00000004e+00,   8.82352978e-01,   2.32539605e-08,\n",
       "         1.00000004e+00,   4.11764736e-01,   5.88235537e-02,\n",
       "         8.82352978e-01,   4.11764740e-01,   5.88235553e-02,\n",
       "         2.32539605e-08,   1.00000004e+00,   2.32539605e-08,\n",
       "         5.88235545e-02,   4.11764731e-01,   6.47058868e-01,\n",
       "         1.76470616e-01,   2.94117680e-01,   1.76470619e-01,\n",
       "         2.94117667e-01,   2.32539605e-08,   1.00000004e+00,\n",
       "         2.94117675e-01,   2.32539605e-08,   7.64705918e-01,\n",
       "         1.00000004e+00,   5.29411797e-01,   8.82352978e-01,\n",
       "         5.29411792e-01,   1.76470614e-01,   2.94117668e-01,\n",
       "         7.64705924e-01,   5.88235544e-02,   6.47058850e-01,\n",
       "         5.88235541e-02,   7.64705920e-01,   4.11764747e-01,\n",
       "         7.64705918e-01,   4.11764738e-01,   8.82352981e-01,\n",
       "         4.11764745e-01,   4.11764734e-01,   2.94117679e-01,\n",
       "         8.82352976e-01,   1.00000004e+00,   1.00000004e+00,\n",
       "         8.82352978e-01,   4.11764723e-01,   1.76470617e-01,\n",
       "         8.82352978e-01,   1.76470615e-01,   2.94117672e-01,\n",
       "         1.00000004e+00,   5.29411798e-01,   8.82352978e-01,\n",
       "         5.29411788e-01,   6.47058859e-01,   1.00000004e+00,\n",
       "         1.76470620e-01,   5.29411803e-01,   1.76470616e-01,\n",
       "         2.32539605e-08,   1.00000004e+00,   1.00000004e+00,\n",
       "         7.64705920e-01,   1.00000004e+00,   1.76470613e-01,\n",
       "         1.00000004e+00,   4.11764732e-01,   7.64705918e-01,\n",
       "         5.29411806e-01,   1.76470612e-01,   5.29411796e-01,\n",
       "         7.64705922e-01,   7.64705920e-01,   4.11764734e-01,\n",
       "         5.29411798e-01,   8.82352978e-01,   2.32539605e-08,\n",
       "         5.88235543e-02,   1.76470616e-01,   7.64705920e-01,\n",
       "         2.94117683e-01,   6.47058857e-01,   2.32539605e-08,\n",
       "         6.47058866e-01,   6.47058859e-01,   6.47058857e-01,\n",
       "         4.11764726e-01,   1.00000004e+00,   5.88235539e-02,\n",
       "         7.64705920e-01,   2.94117680e-01,   5.88235544e-02,\n",
       "         4.11764732e-01,   2.94117681e-01,   4.11764733e-01,\n",
       "         6.47058867e-01,   8.82352978e-01,   8.82352982e-01,\n",
       "         1.76470616e-01,   4.11764736e-01,   5.88235535e-02,\n",
       "         1.00000004e+00,   6.47058854e-01,   5.29411801e-01,\n",
       "         6.47058865e-01,   2.94117670e-01,   7.64705913e-01,\n",
       "         5.88235548e-02,   5.88235533e-02,   2.94117673e-01,\n",
       "         8.82352978e-01,   7.64705920e-01,   1.76470614e-01,\n",
       "         5.29411794e-01,   6.47058856e-01,   5.29411787e-01,\n",
       "         2.94117670e-01,   5.29411795e-01,   2.32539605e-08,\n",
       "         2.94117675e-01,   5.88235527e-02,   1.00000004e+00,\n",
       "         2.94117677e-01,   4.11764744e-01,   6.47058857e-01,\n",
       "         1.00000004e+00,   2.32539605e-08,   8.82352976e-01,\n",
       "         2.94117675e-01,   5.88235514e-02,   5.88235532e-02,\n",
       "         6.47058869e-01,   1.00000004e+00,   2.94117675e-01,\n",
       "         6.47058861e-01,   2.94117682e-01,   1.00000004e+00,\n",
       "         2.32539605e-08,   8.82352978e-01,   5.29411794e-01,\n",
       "         2.32539605e-08,   4.11764733e-01,   5.88235559e-02,\n",
       "         1.76470619e-01,   7.64705918e-01,   5.29411789e-01,\n",
       "         2.32539605e-08,   1.76470617e-01,   2.32539605e-08,\n",
       "         5.29411800e-01,   7.64705920e-01,   1.76470611e-01,\n",
       "         7.64705920e-01,   5.29411797e-01,   5.88235539e-02,\n",
       "         7.64705920e-01,   1.00000004e+00,   4.11764736e-01,\n",
       "         8.82352983e-01,   5.88235549e-02,   7.64705918e-01,\n",
       "         5.88235535e-02,   1.76470612e-01,   8.82352978e-01,\n",
       "         4.11764733e-01,   1.76470619e-01,   1.00000004e+00,\n",
       "         8.82352978e-01,   2.32539605e-08,   8.82352978e-01,\n",
       "         2.94117676e-01,   7.64705920e-01,   5.29411807e-01,\n",
       "         1.00000004e+00,   8.82352978e-01,   4.11764727e-01,\n",
       "         5.29411792e-01,   6.47058869e-01,   6.47058866e-01,\n",
       "         2.32539605e-08,   7.64705922e-01,   1.76470614e-01,\n",
       "         7.64705921e-01,   8.82352978e-01,   2.32539605e-08,\n",
       "         8.82352978e-01,   4.11764746e-01,   2.94117678e-01,\n",
       "         5.29411797e-01,   5.88235527e-02,   8.82352978e-01,\n",
       "         8.82352978e-01,   6.47058857e-01,   4.11764741e-01,\n",
       "         2.94117681e-01,   4.11764733e-01,   6.47058867e-01,\n",
       "         5.29411787e-01,   5.88235510e-02,   4.11764740e-01,\n",
       "         1.00000004e+00,   5.29411798e-01,   8.82352978e-01,\n",
       "         4.11764726e-01,   1.00000004e+00,   6.47058855e-01,\n",
       "         1.76470606e-01,   6.47058854e-01,   4.11764736e-01,\n",
       "         6.47058858e-01,   2.94117667e-01,   4.11764737e-01,\n",
       "         1.76470619e-01,   5.29411795e-01,   1.76470616e-01,\n",
       "         1.00000004e+00,   5.29411804e-01,   1.76470609e-01,\n",
       "         1.00000004e+00,   8.82352978e-01,   5.88235537e-02,\n",
       "         5.29411797e-01,   2.32539605e-08,   7.64705919e-01,\n",
       "         8.82352978e-01,   4.11764744e-01,   5.29411804e-01,\n",
       "         1.00000004e+00,   6.47058863e-01,   7.64705914e-01,\n",
       "         2.32539605e-08,   2.94117672e-01,   2.32539605e-08,\n",
       "         8.82352981e-01,   1.00000004e+00,   1.76470614e-01,\n",
       "         1.76470616e-01,   8.82352978e-01,   2.32539605e-08,\n",
       "         2.94117680e-01,   7.64705916e-01,   1.00000004e+00,\n",
       "         5.29411792e-01,   4.11764740e-01,   8.82352978e-01,\n",
       "         1.76470614e-01,   2.32539605e-08,   2.94117682e-01,\n",
       "         7.64705920e-01,   4.11764734e-01,   7.64705919e-01,\n",
       "         8.82352978e-01,   4.11764741e-01,   1.00000004e+00,\n",
       "         5.29411796e-01,   1.76470615e-01,   2.94117676e-01,\n",
       "         2.94117666e-01,   5.88235537e-02,   5.88235545e-02,\n",
       "         5.88235537e-02,   2.32539605e-08,   5.29411797e-01,\n",
       "         5.29411799e-01,   2.32539605e-08,   2.94117665e-01,\n",
       "         4.11764737e-01,   5.29411792e-01,   1.00000004e+00,\n",
       "         4.11764732e-01,   7.64705918e-01,   2.32539605e-08,\n",
       "         2.94117673e-01,   2.94117681e-01,   1.76470615e-01,\n",
       "         1.00000004e+00,   2.32539605e-08,   6.47058858e-01,\n",
       "         8.82352978e-01,   7.64705920e-01,   1.00000004e+00,\n",
       "         4.11764743e-01,   7.64705914e-01,   4.11764737e-01,\n",
       "         8.82352980e-01,   4.11764739e-01,   2.32539605e-08,\n",
       "         5.88235538e-02,   7.64705920e-01,   2.32539605e-08,\n",
       "         2.32539605e-08,   1.76470614e-01,   1.76470614e-01,\n",
       "         7.64705920e-01,   1.76470617e-01,   4.11764739e-01,\n",
       "         1.76470615e-01,   2.94117677e-01,   2.94117677e-01,\n",
       "         4.11764740e-01,   1.00000004e+00,   8.82352980e-01,\n",
       "         2.32539605e-08,   4.11764734e-01,   1.00000004e+00,\n",
       "         5.88235547e-02,   4.11764728e-01,   7.64705918e-01,\n",
       "         1.76470614e-01,   6.47058855e-01,   5.29411789e-01,\n",
       "         4.11764736e-01,   1.76470619e-01,   6.47058855e-01,\n",
       "         7.64705922e-01,   5.29411795e-01,   2.32539605e-08,\n",
       "         1.76470614e-01,   1.76470614e-01,   7.64705920e-01,\n",
       "         1.00000004e+00,   5.88235536e-02,   5.88235544e-02,\n",
       "         7.64705920e-01,   8.82352977e-01,   1.00000004e+00,\n",
       "         5.88235546e-02,   1.00000004e+00,   2.94117677e-01,\n",
       "         5.29411797e-01,   2.94117678e-01,   5.88235545e-02,\n",
       "         2.94117672e-01,   1.76470614e-01,   6.47058855e-01,\n",
       "         5.88235548e-02,   6.47058861e-01,   2.94117682e-01,\n",
       "         2.32539605e-08,   8.82352976e-01,   2.32539605e-08,\n",
       "         1.76470618e-01,   5.29411799e-01,   1.76470614e-01,\n",
       "         2.32539605e-08,   8.82352978e-01,   8.82352982e-01,\n",
       "         1.76470614e-01,   7.64705918e-01,   5.29411798e-01,\n",
       "         5.29411803e-01,   5.29411803e-01,   2.94117678e-01,\n",
       "         5.88235531e-02,   6.47058856e-01,   2.32539605e-08,\n",
       "         5.88235514e-02,   6.47058851e-01,   8.82352978e-01,\n",
       "         5.88235536e-02,   6.47058860e-01,   5.88235535e-02,\n",
       "         1.76470614e-01,   5.29411793e-01,   1.76470616e-01,\n",
       "         6.47058858e-01,   8.82352979e-01,   1.00000004e+00,\n",
       "         7.64705917e-01,   8.82352977e-01,   1.76470619e-01,\n",
       "         7.64705916e-01,   8.82352978e-01,   1.76470612e-01,\n",
       "         5.29411795e-01,   8.82352978e-01,   5.88235539e-02,\n",
       "         5.88235532e-02,   6.47058855e-01,   5.88235537e-02,\n",
       "         1.76470608e-01,   5.29411794e-01,   5.88235532e-02,\n",
       "         1.76470615e-01,   6.47058857e-01,   2.32539605e-08,\n",
       "         2.32539605e-08,   1.00000004e+00,   2.32539605e-08,\n",
       "         2.32539605e-08,   2.94117681e-01,   1.00000004e+00,\n",
       "         2.94117671e-01,   5.88235541e-02,   7.64705919e-01,\n",
       "         4.11764739e-01,   1.76470614e-01,   4.11764736e-01,\n",
       "         1.00000004e+00,   7.64705920e-01,   5.29411798e-01,\n",
       "         5.88235537e-02,   7.64705920e-01,   1.00000004e+00,\n",
       "         2.32539605e-08,   2.32539605e-08,   4.11764736e-01,\n",
       "         4.11764728e-01,   7.64705920e-01,   7.64705910e-01,\n",
       "         2.94117679e-01,   6.47058858e-01,   6.47058855e-01,\n",
       "         6.47058858e-01,   8.82352978e-01,   5.88235544e-02,\n",
       "         2.32539605e-08,   4.11764739e-01,   2.32539605e-08,\n",
       "         4.11764737e-01,   2.94117680e-01,   1.00000004e+00,\n",
       "         2.32539605e-08,   8.82352978e-01,   7.64705925e-01,\n",
       "         4.11764736e-01,   1.00000004e+00,   5.29411788e-01,\n",
       "         7.64705913e-01,   5.29411796e-01,   5.88235537e-02,\n",
       "         1.76470610e-01,   7.64705918e-01,   4.11764738e-01,\n",
       "         5.88235530e-02,   5.88235536e-02,   5.29411807e-01,\n",
       "         1.00000004e+00,   2.94117676e-01,   7.64705913e-01,\n",
       "         1.76470615e-01,   1.76470610e-01,   8.82352978e-01,\n",
       "         6.47058858e-01,   5.29411788e-01,   1.00000004e+00,\n",
       "         1.00000004e+00,   8.82352978e-01,   6.47058871e-01,\n",
       "         5.29411797e-01,   1.00000004e+00,   7.64705928e-01,\n",
       "         6.47058858e-01,   6.47058859e-01,   2.32539605e-08,\n",
       "         7.64705920e-01,   5.29411801e-01,   5.88235533e-02,\n",
       "         5.29411798e-01,   5.88235528e-02,   1.00000004e+00,\n",
       "         5.88235535e-02,   8.82352978e-01,   8.82352979e-01,\n",
       "         2.94117685e-01,   1.76470616e-01,   4.11764736e-01,\n",
       "         5.29411792e-01,   1.00000004e+00,   4.11764738e-01,\n",
       "         1.00000004e+00,   8.82352979e-01,   7.64705918e-01,\n",
       "         5.88235513e-02,   2.32539605e-08,   6.47058858e-01,\n",
       "         6.47058858e-01,   8.82352978e-01,   1.00000004e+00,\n",
       "         8.82352980e-01,   2.94117674e-01,   6.47058858e-01,\n",
       "         2.32539605e-08,   4.11764725e-01,   4.11764740e-01,\n",
       "         8.82352978e-01,   1.00000004e+00,   1.00000004e+00,\n",
       "         1.00000004e+00,   1.00000004e+00,   1.00000004e+00,\n",
       "         5.29411802e-01,   6.47058858e-01,   8.82352978e-01,\n",
       "         5.88235537e-02,   5.29411788e-01,   1.76470614e-01,\n",
       "         2.94117675e-01,   2.94117678e-01,   1.76470615e-01,\n",
       "         6.47058851e-01,   4.11764733e-01,   5.88235515e-02,\n",
       "         7.64705914e-01,   2.94117675e-01,   6.47058858e-01,\n",
       "         4.11764736e-01,   2.94117676e-01,   7.64705911e-01,\n",
       "         2.94117679e-01,   1.00000004e+00,   2.32539605e-08,\n",
       "         4.11764739e-01,   8.82352978e-01,   1.00000004e+00,\n",
       "         8.82352980e-01,   6.47058856e-01,   5.88235537e-02,\n",
       "         2.94117674e-01,   1.00000004e+00,   2.94117674e-01,\n",
       "         4.11764739e-01,   5.88235554e-02,   6.47058864e-01,\n",
       "         5.88235534e-02,   5.88235556e-02,   4.11764729e-01,\n",
       "         2.94117673e-01,   1.76470615e-01,   2.32539605e-08,\n",
       "         2.32539605e-08,   2.94117679e-01,   8.82352978e-01,\n",
       "         8.82352978e-01,   2.94117685e-01,   1.00000004e+00,\n",
       "         2.94117671e-01,   1.00000004e+00,   5.88235520e-02,\n",
       "         1.76470619e-01,   5.88235523e-02,   7.64705920e-01,\n",
       "         2.94117671e-01,   1.00000004e+00,   2.94117669e-01,\n",
       "         4.11764746e-01,   4.11764741e-01,   1.76470615e-01,\n",
       "         7.64705920e-01,   6.47058858e-01,   2.32539605e-08,\n",
       "         2.32539605e-08,   7.64705920e-01,   5.88235540e-02,\n",
       "         6.47058865e-01,   5.29411800e-01,   8.82352978e-01,\n",
       "         7.64705916e-01,   7.64705917e-01,   1.76470615e-01,\n",
       "         7.64705920e-01,   5.88235548e-02,   5.29411793e-01,\n",
       "         5.88235529e-02,   5.29411802e-01,   8.82352978e-01,\n",
       "         7.64705916e-01,   7.64705917e-01,   7.64705918e-01,\n",
       "         5.88235543e-02,   8.82352980e-01,   4.11764736e-01,\n",
       "         4.11764738e-01,   4.11764740e-01,   8.82352978e-01,\n",
       "         2.94117676e-01,   2.94117672e-01,   7.64705920e-01,\n",
       "         8.82352978e-01,   5.88235530e-02,   6.47058858e-01,\n",
       "         1.00000004e+00,   2.94117676e-01,   6.47058852e-01,\n",
       "         2.32539605e-08,   7.64705919e-01,   4.11764732e-01,\n",
       "         8.82352978e-01,   7.64705916e-01,   5.29411801e-01,\n",
       "         5.88235521e-02,   1.00000004e+00,   8.82352978e-01,\n",
       "         1.76470616e-01,   8.82352978e-01,   1.00000004e+00,\n",
       "         8.82352980e-01,   2.32539605e-08,   2.32539605e-08,\n",
       "         5.88235541e-02,   2.94117672e-01,   6.47058864e-01,\n",
       "         5.88235537e-02,   2.32539605e-08,   1.76470619e-01,\n",
       "         2.94117666e-01,   2.32539605e-08,   5.88235536e-02,\n",
       "         6.47058853e-01,   4.11764734e-01,   2.94117678e-01,\n",
       "         7.64705914e-01,   5.29411796e-01,   8.82352977e-01,\n",
       "         2.94117676e-01,   4.11764735e-01,   7.64705915e-01,\n",
       "         2.32539605e-08,   7.64705916e-01,   8.82352978e-01,\n",
       "         2.32539605e-08,   2.32539605e-08,   1.00000004e+00,\n",
       "         7.64705920e-01,   7.64705915e-01,   6.47058858e-01,\n",
       "         1.76470616e-01,   7.64705923e-01,   4.11764731e-01,\n",
       "         5.88235525e-02,   1.00000004e+00,   8.82352978e-01,\n",
       "         5.29411810e-01,   2.94117675e-01,   2.94117671e-01,\n",
       "         6.47058857e-01,   2.94117675e-01,   6.47058853e-01,\n",
       "         7.64705920e-01,   1.76470615e-01,   4.11764739e-01,\n",
       "         8.82352979e-01,   7.64705920e-01,   2.32539605e-08,\n",
       "         7.64705918e-01,   6.47058858e-01,   6.47058851e-01,\n",
       "         1.00000004e+00,   2.94117665e-01,   5.88235552e-02,\n",
       "         2.32539605e-08,   2.32539605e-08,   1.76470614e-01,\n",
       "         1.00000004e+00,   7.64705920e-01,   1.00000004e+00,\n",
       "         5.29411800e-01,   6.47058855e-01,   1.00000004e+00,\n",
       "         2.32539605e-08,   1.00000004e+00,   2.94117667e-01,\n",
       "         8.82352981e-01,   2.32539605e-08,   5.29411798e-01,\n",
       "         8.82352983e-01,   6.47058862e-01,   2.32539605e-08,\n",
       "         7.64705924e-01,   5.29411799e-01,   4.11764736e-01,\n",
       "         1.00000004e+00,   5.29411798e-01,   6.47058857e-01,\n",
       "         1.76470613e-01,   6.47058870e-01,   7.64705925e-01,\n",
       "         8.82352977e-01,   7.64705920e-01,   2.32539605e-08,\n",
       "         4.11764741e-01,   2.94117675e-01,   6.47058858e-01,\n",
       "         5.88235529e-02,   2.94117682e-01,   2.32539605e-08,\n",
       "         6.47058858e-01,   6.47058857e-01,   5.88235534e-02,\n",
       "         5.88235539e-02,   8.82352978e-01,   1.76470619e-01,\n",
       "         5.88235534e-02,   5.88235532e-02,   1.76470611e-01,\n",
       "         6.47058856e-01,   7.64705931e-01,   4.11764749e-01,\n",
       "         1.76470618e-01,   7.64705918e-01,   8.82352978e-01,\n",
       "         1.76470617e-01,   5.29411796e-01,   2.94117675e-01,\n",
       "         8.82352982e-01,   4.11764736e-01,   4.11764747e-01,\n",
       "         1.76470611e-01,   2.94117675e-01,   1.00000004e+00,\n",
       "         8.82352978e-01,   5.29411792e-01,   7.64705920e-01,\n",
       "         6.47058863e-01,   2.32539605e-08,   2.32539605e-08,\n",
       "         1.76470609e-01,   6.47058860e-01,   7.64705920e-01,\n",
       "         4.11764739e-01,   5.88235539e-02,   2.32539605e-08,\n",
       "         8.82352978e-01,   8.82352980e-01,   5.29411792e-01,\n",
       "         1.00000004e+00,   2.94117679e-01,   7.64705917e-01,\n",
       "         5.88235532e-02,   2.32539605e-08,   1.76470619e-01,\n",
       "         1.76470609e-01,   6.47058859e-01,   4.11764742e-01,\n",
       "         2.32539605e-08,   1.76470614e-01,   2.32539605e-08,\n",
       "         2.32539605e-08,   2.94117673e-01,   2.32539605e-08,\n",
       "         2.94117675e-01,   7.64705914e-01,   5.29411797e-01,\n",
       "         2.32539605e-08,   1.00000004e+00,   4.11764736e-01,\n",
       "         5.29411797e-01,   4.11764732e-01,   1.76470617e-01,\n",
       "         7.64705909e-01,   5.88235539e-02,   2.94117673e-01,\n",
       "         2.32539605e-08,   6.47058856e-01,   1.76470614e-01,\n",
       "         5.88235555e-02,   1.00000004e+00,   5.88235541e-02,\n",
       "         1.00000004e+00,   8.82352978e-01,   7.64705916e-01,\n",
       "         5.29411794e-01,   1.76470620e-01,   1.76470615e-01,\n",
       "         4.11764737e-01,   2.32539605e-08,   8.82352978e-01,\n",
       "         6.47058857e-01,   2.32539605e-08,   7.64705920e-01,\n",
       "         5.29411805e-01,   1.76470617e-01,   5.88235535e-02,\n",
       "         5.29411804e-01,   7.64705919e-01,   2.94117677e-01,\n",
       "         4.11764734e-01,   5.88235528e-02,   1.00000004e+00,\n",
       "         6.47058851e-01,   4.11764739e-01,   2.94117681e-01,\n",
       "         7.64705920e-01,   5.88235527e-02,   4.11764739e-01,\n",
       "         5.29411798e-01,   7.64705920e-01,   1.76470609e-01,\n",
       "         8.82352978e-01,   4.11764744e-01,   5.29411802e-01,\n",
       "         1.00000004e+00,   1.00000004e+00,   7.64705920e-01,\n",
       "         5.88235536e-02,   6.47058858e-01,   8.82352977e-01,\n",
       "         5.29411801e-01,   8.82352978e-01,   5.88235526e-02,\n",
       "         1.76470612e-01,   4.11764725e-01,   4.11764742e-01,\n",
       "         2.94117678e-01,   2.32539605e-08,   1.00000004e+00,\n",
       "         6.47058853e-01,   1.76470615e-01,   4.11764742e-01,\n",
       "         5.88235537e-02])"
      ]
     },
     "execution_count": 55,
     "metadata": {},
     "output_type": "execute_result"
    }
   ],
   "source": [
    "regr.predict(test_flatten_dataset)"
   ]
  },
  {
   "cell_type": "code",
   "execution_count": 56,
   "metadata": {
    "collapsed": false
   },
   "outputs": [
    {
     "data": {
      "text/plain": [
       "array([ 0.52941179,  0.29411766,  0.17647059,  0.17647059,  0.52941179,\n",
       "        0.29411766,  0.64705884,  0.29411766,  0.52941179,  1.        ,\n",
       "        0.52941179,  0.29411766,  0.        ,  0.64705884,  0.17647059,\n",
       "        0.        ,  0.64705884,  0.        ,  0.88235295,  0.05882353,\n",
       "        0.17647059,  0.41176471,  0.52941179,  0.05882353,  0.17647059,\n",
       "        0.29411766,  0.64705884,  0.52941179,  1.        ,  0.41176471,\n",
       "        0.41176471,  0.41176471,  1.        ,  0.41176471,  0.64705884,\n",
       "        1.        ,  0.64705884,  0.05882353,  0.29411766,  0.        ,\n",
       "        0.52941179,  0.64705884,  0.52941179,  0.29411766,  0.41176471,\n",
       "        0.29411766,  1.        ,  0.41176471,  0.        ,  0.52941179,\n",
       "        0.05882353,  0.29411766,  0.05882353,  0.29411766,  0.64705884,\n",
       "        0.52941179,  0.52941179,  0.        ,  0.        ,  0.88235295,\n",
       "        0.7647059 ,  1.        ,  0.29411766,  0.52941179,  0.64705884,\n",
       "        0.52941179,  0.88235295,  0.64705884,  0.17647059,  0.88235295,\n",
       "        0.7647059 ,  0.88235295,  0.05882353,  0.        ,  0.17647059,\n",
       "        1.        ,  0.88235295,  0.05882353,  0.17647059,  0.64705884,\n",
       "        0.64705884,  0.41176471,  0.        ,  0.05882353,  0.41176471,\n",
       "        0.29411766,  0.        ,  0.7647059 ,  0.41176471,  0.        ,\n",
       "        0.41176471,  0.52941179,  0.7647059 ,  0.64705884,  0.17647059,\n",
       "        0.05882353,  0.64705884,  0.7647059 ,  0.05882353,  0.52941179,\n",
       "        0.7647059 ,  1.        ,  0.52941179,  0.88235295,  1.        ,\n",
       "        0.05882353,  0.64705884,  0.17647059,  0.7647059 ,  0.        ,\n",
       "        0.05882353,  0.17647059,  0.29411766,  0.05882353,  0.64705884,\n",
       "        0.17647059,  1.        ,  1.        ,  0.64705884,  0.        ,\n",
       "        0.05882353,  0.41176471,  0.52941179,  0.64705884,  0.17647059,\n",
       "        0.88235295,  0.        ,  0.52941179,  0.7647059 ,  0.88235295,\n",
       "        0.52941179,  0.52941179,  0.17647059,  1.        ,  0.88235295,\n",
       "        0.64705884,  1.        ,  0.17647059,  0.88235295,  0.52941179,\n",
       "        0.7647059 ,  0.17647059,  0.64705884,  0.7647059 ,  0.05882353,\n",
       "        0.        ,  0.41176471,  0.52941179,  0.17647059,  0.        ,\n",
       "        0.88235295,  0.88235295,  0.52941179,  0.64705884,  0.        ,\n",
       "        0.29411766,  1.        ,  1.        ,  0.7647059 ,  0.29411766,\n",
       "        0.29411766,  0.29411766,  0.64705884,  0.52941179,  0.29411766,\n",
       "        0.41176471,  0.41176471,  0.64705884,  0.05882353,  0.52941179,\n",
       "        0.29411766,  0.52941179,  0.64705884,  0.17647059,  0.52941179,\n",
       "        0.29411766,  0.88235295,  0.17647059,  0.88235295,  0.88235295,\n",
       "        0.        ,  0.17647059,  0.52941179,  1.        ,  0.        ,\n",
       "        0.41176471,  0.17647059,  0.64705884,  0.29411766,  1.        ,\n",
       "        0.88235295,  0.        ,  1.        ,  0.41176471,  0.05882353,\n",
       "        0.88235295,  0.41176471,  0.05882353,  0.        ,  1.        ,\n",
       "        0.        ,  0.05882353,  0.41176471,  0.64705884,  0.17647059,\n",
       "        0.29411766,  0.17647059,  0.29411766,  0.        ,  1.        ,\n",
       "        0.29411766,  0.        ,  0.7647059 ,  1.        ,  0.52941179,\n",
       "        0.88235295,  0.52941179,  0.17647059,  0.29411766,  0.7647059 ,\n",
       "        0.05882353,  0.64705884,  0.05882353,  0.7647059 ,  0.41176471,\n",
       "        0.7647059 ,  0.41176471,  0.88235295,  0.41176471,  0.41176471,\n",
       "        0.29411766,  0.88235295,  1.        ,  1.        ,  0.88235295,\n",
       "        0.41176471,  0.17647059,  0.88235295,  0.17647059,  0.29411766,\n",
       "        1.        ,  0.52941179,  0.88235295,  0.52941179,  0.64705884,\n",
       "        1.        ,  0.17647059,  0.52941179,  0.17647059,  0.        ,\n",
       "        1.        ,  1.        ,  0.7647059 ,  1.        ,  0.17647059,\n",
       "        1.        ,  0.41176471,  0.7647059 ,  0.52941179,  0.17647059,\n",
       "        0.52941179,  0.7647059 ,  0.7647059 ,  0.41176471,  0.52941179,\n",
       "        0.88235295,  0.        ,  0.05882353,  0.17647059,  0.7647059 ,\n",
       "        0.29411766,  0.64705884,  0.        ,  0.64705884,  0.64705884,\n",
       "        0.64705884,  0.41176471,  1.        ,  0.05882353,  0.7647059 ,\n",
       "        0.29411766,  0.05882353,  0.41176471,  0.29411766,  0.41176471,\n",
       "        0.64705884,  0.88235295,  0.88235295,  0.17647059,  0.41176471,\n",
       "        0.05882353,  1.        ,  0.64705884,  0.52941179,  0.64705884,\n",
       "        0.29411766,  0.7647059 ,  0.05882353,  0.05882353,  0.29411766,\n",
       "        0.88235295,  0.7647059 ,  0.17647059,  0.52941179,  0.64705884,\n",
       "        0.52941179,  0.29411766,  0.52941179,  0.        ,  0.29411766,\n",
       "        0.05882353,  1.        ,  0.29411766,  0.41176471,  0.64705884,\n",
       "        1.        ,  0.        ,  0.88235295,  0.29411766,  0.05882353,\n",
       "        0.05882353,  0.64705884,  1.        ,  0.29411766,  0.64705884,\n",
       "        0.29411766,  1.        ,  0.        ,  0.88235295,  0.52941179,\n",
       "        0.        ,  0.41176471,  0.05882353,  0.17647059,  0.7647059 ,\n",
       "        0.52941179,  0.        ,  0.17647059,  0.        ,  0.52941179,\n",
       "        0.7647059 ,  0.17647059,  0.7647059 ,  0.52941179,  0.05882353,\n",
       "        0.7647059 ,  1.        ,  0.41176471,  0.88235295,  0.05882353,\n",
       "        0.7647059 ,  0.05882353,  0.17647059,  0.88235295,  0.41176471,\n",
       "        0.17647059,  1.        ,  0.88235295,  0.        ,  0.88235295,\n",
       "        0.29411766,  0.7647059 ,  0.52941179,  1.        ,  0.88235295,\n",
       "        0.41176471,  0.52941179,  0.64705884,  0.64705884,  0.        ,\n",
       "        0.7647059 ,  0.17647059,  0.7647059 ,  0.88235295,  0.        ,\n",
       "        0.88235295,  0.41176471,  0.29411766,  0.52941179,  0.05882353,\n",
       "        0.88235295,  0.88235295,  0.64705884,  0.41176471,  0.29411766,\n",
       "        0.41176471,  0.64705884,  0.52941179,  0.05882353,  0.41176471,\n",
       "        1.        ,  0.52941179,  0.88235295,  0.41176471,  1.        ,\n",
       "        0.64705884,  0.17647059,  0.64705884,  0.41176471,  0.64705884,\n",
       "        0.29411766,  0.41176471,  0.17647059,  0.52941179,  0.17647059,\n",
       "        1.        ,  0.52941179,  0.17647059,  1.        ,  0.88235295,\n",
       "        0.05882353,  0.52941179,  0.        ,  0.7647059 ,  0.88235295,\n",
       "        0.41176471,  0.52941179,  1.        ,  0.64705884,  0.7647059 ,\n",
       "        0.        ,  0.29411766,  0.        ,  0.88235295,  1.        ,\n",
       "        0.17647059,  0.17647059,  0.88235295,  0.        ,  0.29411766,\n",
       "        0.7647059 ,  1.        ,  0.52941179,  0.41176471,  0.88235295,\n",
       "        0.17647059,  0.        ,  0.29411766,  0.7647059 ,  0.41176471,\n",
       "        0.7647059 ,  0.88235295,  0.41176471,  1.        ,  0.52941179,\n",
       "        0.17647059,  0.29411766,  0.29411766,  0.05882353,  0.05882353,\n",
       "        0.05882353,  0.        ,  0.52941179,  0.52941179,  0.        ,\n",
       "        0.29411766,  0.41176471,  0.52941179,  1.        ,  0.41176471,\n",
       "        0.7647059 ,  0.        ,  0.29411766,  0.29411766,  0.17647059,\n",
       "        1.        ,  0.        ,  0.64705884,  0.88235295,  0.7647059 ,\n",
       "        1.        ,  0.41176471,  0.7647059 ,  0.41176471,  0.88235295,\n",
       "        0.41176471,  0.        ,  0.05882353,  0.7647059 ,  0.        ,\n",
       "        0.        ,  0.17647059,  0.17647059,  0.7647059 ,  0.17647059,\n",
       "        0.41176471,  0.17647059,  0.29411766,  0.29411766,  0.41176471,\n",
       "        1.        ,  0.88235295,  0.        ,  0.41176471,  1.        ,\n",
       "        0.05882353,  0.41176471,  0.7647059 ,  0.17647059,  0.64705884,\n",
       "        0.52941179,  0.41176471,  0.17647059,  0.64705884,  0.7647059 ,\n",
       "        0.52941179,  0.        ,  0.17647059,  0.17647059,  0.7647059 ,\n",
       "        1.        ,  0.05882353,  0.05882353,  0.7647059 ,  0.88235295,\n",
       "        1.        ,  0.05882353,  1.        ,  0.29411766,  0.52941179,\n",
       "        0.29411766,  0.05882353,  0.29411766,  0.17647059,  0.64705884,\n",
       "        0.05882353,  0.64705884,  0.29411766,  0.        ,  0.88235295,\n",
       "        0.        ,  0.17647059,  0.52941179,  0.17647059,  0.        ,\n",
       "        0.88235295,  0.88235295,  0.17647059,  0.7647059 ,  0.52941179,\n",
       "        0.52941179,  0.52941179,  0.29411766,  0.05882353,  0.64705884,\n",
       "        0.        ,  0.05882353,  0.64705884,  0.88235295,  0.05882353,\n",
       "        0.64705884,  0.05882353,  0.17647059,  0.52941179,  0.17647059,\n",
       "        0.64705884,  0.88235295,  1.        ,  0.7647059 ,  0.88235295,\n",
       "        0.17647059,  0.7647059 ,  0.88235295,  0.17647059,  0.52941179,\n",
       "        0.88235295,  0.05882353,  0.05882353,  0.64705884,  0.05882353,\n",
       "        0.17647059,  0.52941179,  0.05882353,  0.17647059,  0.64705884,\n",
       "        0.        ,  0.        ,  1.        ,  0.        ,  0.        ,\n",
       "        0.29411766,  1.        ,  0.29411766,  0.05882353,  0.7647059 ,\n",
       "        0.41176471,  0.17647059,  0.41176471,  1.        ,  0.7647059 ,\n",
       "        0.52941179,  0.05882353,  0.7647059 ,  1.        ,  0.        ,\n",
       "        0.        ,  0.41176471,  0.41176471,  0.7647059 ,  0.7647059 ,\n",
       "        0.29411766,  0.64705884,  0.64705884,  0.64705884,  0.88235295,\n",
       "        0.05882353,  0.        ,  0.41176471,  0.        ,  0.41176471,\n",
       "        0.29411766,  1.        ,  0.        ,  0.88235295,  0.7647059 ,\n",
       "        0.41176471,  1.        ,  0.52941179,  0.7647059 ,  0.52941179,\n",
       "        0.05882353,  0.17647059,  0.7647059 ,  0.41176471,  0.05882353,\n",
       "        0.05882353,  0.52941179,  1.        ,  0.29411766,  0.7647059 ,\n",
       "        0.17647059,  0.17647059,  0.88235295,  0.64705884,  0.52941179,\n",
       "        1.        ,  1.        ,  0.88235295,  0.64705884,  0.52941179,\n",
       "        1.        ,  0.7647059 ,  0.64705884,  0.64705884,  0.        ,\n",
       "        0.7647059 ,  0.52941179,  0.05882353,  0.52941179,  0.05882353,\n",
       "        1.        ,  0.05882353,  0.88235295,  0.88235295,  0.29411766,\n",
       "        0.17647059,  0.41176471,  0.52941179,  1.        ,  0.41176471,\n",
       "        1.        ,  0.88235295,  0.7647059 ,  0.05882353,  0.        ,\n",
       "        0.64705884,  0.64705884,  0.88235295,  1.        ,  0.88235295,\n",
       "        0.29411766,  0.64705884,  0.        ,  0.41176471,  0.41176471,\n",
       "        0.88235295,  1.        ,  1.        ,  1.        ,  1.        ,\n",
       "        1.        ,  0.52941179,  0.64705884,  0.88235295,  0.05882353,\n",
       "        0.52941179,  0.17647059,  0.29411766,  0.29411766,  0.17647059,\n",
       "        0.64705884,  0.41176471,  0.05882353,  0.7647059 ,  0.29411766,\n",
       "        0.64705884,  0.41176471,  0.29411766,  0.7647059 ,  0.29411766,\n",
       "        1.        ,  0.        ,  0.41176471,  0.88235295,  1.        ,\n",
       "        0.88235295,  0.64705884,  0.05882353,  0.29411766,  1.        ,\n",
       "        0.29411766,  0.41176471,  0.05882353,  0.64705884,  0.05882353,\n",
       "        0.05882353,  0.41176471,  0.29411766,  0.17647059,  0.        ,\n",
       "        0.        ,  0.29411766,  0.88235295,  0.88235295,  0.29411766,\n",
       "        1.        ,  0.29411766,  1.        ,  0.05882353,  0.17647059,\n",
       "        0.05882353,  0.7647059 ,  0.29411766,  1.        ,  0.29411766,\n",
       "        0.41176471,  0.41176471,  0.17647059,  0.7647059 ,  0.64705884,\n",
       "        0.        ,  0.        ,  0.7647059 ,  0.05882353,  0.64705884,\n",
       "        0.52941179,  0.88235295,  0.7647059 ,  0.7647059 ,  0.17647059,\n",
       "        0.7647059 ,  0.05882353,  0.52941179,  0.05882353,  0.52941179,\n",
       "        0.88235295,  0.7647059 ,  0.7647059 ,  0.7647059 ,  0.05882353,\n",
       "        0.88235295,  0.41176471,  0.41176471,  0.41176471,  0.88235295,\n",
       "        0.29411766,  0.29411766,  0.7647059 ,  0.88235295,  0.05882353,\n",
       "        0.64705884,  1.        ,  0.29411766,  0.64705884,  0.        ,\n",
       "        0.7647059 ,  0.41176471,  0.88235295,  0.7647059 ,  0.52941179,\n",
       "        0.05882353,  1.        ,  0.88235295,  0.17647059,  0.88235295,\n",
       "        1.        ,  0.88235295,  0.        ,  0.        ,  0.05882353,\n",
       "        0.29411766,  0.64705884,  0.05882353,  0.        ,  0.17647059,\n",
       "        0.29411766,  0.        ,  0.05882353,  0.64705884,  0.41176471,\n",
       "        0.29411766,  0.7647059 ,  0.52941179,  0.88235295,  0.29411766,\n",
       "        0.41176471,  0.7647059 ,  0.        ,  0.7647059 ,  0.88235295,\n",
       "        0.        ,  0.        ,  1.        ,  0.7647059 ,  0.7647059 ,\n",
       "        0.64705884,  0.17647059,  0.7647059 ,  0.41176471,  0.05882353,\n",
       "        1.        ,  0.88235295,  0.52941179,  0.29411766,  0.29411766,\n",
       "        0.64705884,  0.29411766,  0.64705884,  0.7647059 ,  0.17647059,\n",
       "        0.41176471,  0.88235295,  0.7647059 ,  0.        ,  0.7647059 ,\n",
       "        0.64705884,  0.64705884,  1.        ,  0.29411766,  0.05882353,\n",
       "        0.        ,  0.        ,  0.17647059,  1.        ,  0.7647059 ,\n",
       "        1.        ,  0.52941179,  0.64705884,  1.        ,  0.        ,\n",
       "        1.        ,  0.29411766,  0.88235295,  0.        ,  0.52941179,\n",
       "        0.88235295,  0.64705884,  0.        ,  0.7647059 ,  0.52941179,\n",
       "        0.41176471,  1.        ,  0.52941179,  0.64705884,  0.17647059,\n",
       "        0.64705884,  0.7647059 ,  0.88235295,  0.7647059 ,  0.        ,\n",
       "        0.41176471,  0.29411766,  0.64705884,  0.05882353,  0.29411766,\n",
       "        0.        ,  0.64705884,  0.64705884,  0.05882353,  0.05882353,\n",
       "        0.88235295,  0.17647059,  0.05882353,  0.05882353,  0.17647059,\n",
       "        0.64705884,  0.7647059 ,  0.41176471,  0.17647059,  0.7647059 ,\n",
       "        0.88235295,  0.17647059,  0.52941179,  0.29411766,  0.88235295,\n",
       "        0.41176471,  0.41176471,  0.17647059,  0.29411766,  1.        ,\n",
       "        0.88235295,  0.52941179,  0.7647059 ,  0.64705884,  0.        ,\n",
       "        0.        ,  0.17647059,  0.64705884,  0.7647059 ,  0.41176471,\n",
       "        0.05882353,  0.        ,  0.88235295,  0.88235295,  0.52941179,\n",
       "        1.        ,  0.29411766,  0.7647059 ,  0.05882353,  0.        ,\n",
       "        0.17647059,  0.17647059,  0.64705884,  0.41176471,  0.        ,\n",
       "        0.17647059,  0.        ,  0.        ,  0.29411766,  0.        ,\n",
       "        0.29411766,  0.7647059 ,  0.52941179,  0.        ,  1.        ,\n",
       "        0.41176471,  0.52941179,  0.41176471,  0.17647059,  0.7647059 ,\n",
       "        0.05882353,  0.29411766,  0.        ,  0.64705884,  0.17647059,\n",
       "        0.05882353,  1.        ,  0.05882353,  1.        ,  0.88235295,\n",
       "        0.7647059 ,  0.52941179,  0.17647059,  0.17647059,  0.41176471,\n",
       "        0.        ,  0.88235295,  0.64705884,  0.        ,  0.7647059 ,\n",
       "        0.52941179,  0.17647059,  0.05882353,  0.52941179,  0.7647059 ,\n",
       "        0.29411766,  0.41176471,  0.05882353,  1.        ,  0.64705884,\n",
       "        0.41176471,  0.29411766,  0.7647059 ,  0.05882353,  0.41176471,\n",
       "        0.52941179,  0.7647059 ,  0.17647059,  0.88235295,  0.41176471,\n",
       "        0.52941179,  1.        ,  1.        ,  0.7647059 ,  0.05882353,\n",
       "        0.64705884,  0.88235295,  0.52941179,  0.88235295,  0.05882353,\n",
       "        0.17647059,  0.41176471,  0.41176471,  0.29411766,  0.        ,\n",
       "        1.        ,  0.64705884,  0.17647059,  0.41176471,  0.05882353], dtype=float32)"
      ]
     },
     "execution_count": 56,
     "metadata": {},
     "output_type": "execute_result"
    }
   ],
   "source": [
    "test_labels"
   ]
  },
  {
   "cell_type": "code",
   "execution_count": null,
   "metadata": {
    "collapsed": true
   },
   "outputs": [],
   "source": []
  }
 ],
 "metadata": {
  "anaconda-cloud": {},
  "kernelspec": {
   "display_name": "Python [default]",
   "language": "python",
   "name": "python2"
  },
  "language_info": {
   "codemirror_mode": {
    "name": "ipython",
    "version": 2
   },
   "file_extension": ".py",
   "mimetype": "text/x-python",
   "name": "python",
   "nbconvert_exporter": "python",
   "pygments_lexer": "ipython2",
   "version": "2.7.12"
  }
 },
 "nbformat": 4,
 "nbformat_minor": 1
}
