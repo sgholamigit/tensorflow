{
 "cells": [
  {
   "cell_type": "code",
   "execution_count": null,
   "metadata": {
    "collapsed": false
   },
   "outputs": [
    {
     "name": "stdout",
     "output_type": "stream",
     "text": [
      "pickle file exists!\n",
      "Training set (260000, 28, 28) (260000,)\n",
      "Test set (2600, 28, 28) (2600,)\n",
      "Randomizing is done\n",
      "Training set (260000, 28, 28) (260000,)\n",
      "Test set (2600, 28, 28) (2600,)\n",
      "Reformatted training set (260000, 28, 28, 1) (260000, 26)\n",
      "Reformatted test set (2600, 28, 28, 1) (2600, 26)\n"
     ]
    }
   ],
   "source": [
    "from __future__ import print_function\n",
    "import matplotlib.pyplot as plt\n",
    "import numpy as np\n",
    "import os\n",
    "import sys\n",
    "import tarfile\n",
    "from scipy import ndimage\n",
    "from six.moves import cPickle as pickle\n",
    "import tensorflow as tf\n",
    "import argparse\n",
    "\n",
    "\n",
    "#pickle_file = 'train7d10class10000.pickle'\n",
    "#pickle_file = 'brSimpleclass30.pickle'\n",
    "pickle_file = 'train10step7Domain10000.pickle'\n",
    "\n",
    "# Basic model parameters as external flags.\n",
    "FLAGS = None\n",
    "\n",
    "\n",
    "# Randomizing again the dataset\n",
    "def randomize(dataset, labels):\n",
    "  permutation = np.random.permutation(labels.shape[0])\n",
    "  shuffled_dataset = dataset[permutation,:,:]\n",
    "  shuffled_labels = labels[permutation]\n",
    "  return shuffled_dataset, shuffled_labels\n",
    "\n",
    "def reformat(dataset, labels):\n",
    "  dataset = dataset.reshape(\n",
    "    (-1, FLAGS.image_size, FLAGS.image_size, FLAGS.num_channels)).astype(np.float32)\n",
    "  labels = (np.arange(FLAGS.num_labels) == labels[:,None]).astype(np.float32)\n",
    "  return dataset, labels\n",
    "\n",
    "\n",
    "def main(_):\n",
    "  try:\n",
    "    pickle_file\n",
    "    print (\"pickle file exists!\")\n",
    "    with open(pickle_file, 'rb') as f:\n",
    "      save = pickle.load(f)\n",
    "      train_dataset = save['train_dataset']\n",
    "      train_labels = save['train_labels']\n",
    "      test_dataset = save['test_dataset']\n",
    "      test_labels = save['test_labels']\n",
    "      del save  # hint to help gc free up memory\n",
    "      print('Training set', train_dataset.shape, train_labels.shape)\n",
    "      print('Test set', test_dataset.shape, test_labels.shape)\n",
    "  except NameError:\n",
    "    print (\"pickle file does not exist!\")\n",
    "\n",
    "  # randomize the data\n",
    "  train_dataset, train_labels = randomize(train_dataset, train_labels)\n",
    "  test_dataset, test_labels = randomize(test_dataset, test_labels)\n",
    "  print('Randomizing is done')\n",
    "  print('Training set', train_dataset.shape, train_labels.shape)\n",
    "  print('Test set', test_dataset.shape, test_labels.shape)\n",
    "\n",
    "\n",
    "  # Reformat the data: image data as a cube (width by height by number \n",
    "  # of channels) and labels as float 1-hot encodings.\n",
    "  train_dataset, train_labels = reformat(train_dataset, train_labels)\n",
    "  test_dataset, test_labels = reformat(test_dataset, test_labels)\n",
    "  print('Reformatted training set', train_dataset.shape, train_labels.shape)\n",
    "  print('Reformatted test set', test_dataset.shape, test_labels.shape)\n",
    "\n",
    "  def accuracy(predictions, labels): \n",
    "    return (100.0 * np.sum(np.argmax(predictions, 1) == np.argmax(labels, 1))\n",
    "          / predictions.shape[0])\n",
    "  def accuracy2(predictions, labels):\n",
    "    print ('shape = ', np.argmax(predictions, 1).shape)\n",
    "    sh = np.argmax(predictions, 1).shape\n",
    "    predArg = np.argmax(predictions, 1)\n",
    "    labArg = np.argmax(labels, 1)  \n",
    "    count = 0\n",
    "    pred = []\n",
    "    lab = []\n",
    "    print ('sh[0]', sh[0])\n",
    "    \n",
    "    for i in range(sh[0]):\n",
    "      #print (i)\n",
    "      if predArg[i] != labArg[i]:\n",
    "        count = count + 1\n",
    "        #print ('pred = ', predArg[i])\n",
    "        #print ('lab = ', labArg[i]) \n",
    "        pred.append(predArg[i])\n",
    "        lab.append(labArg[i])\n",
    "        #print ('prediction =', predictions[i,:])\n",
    "        #print ('labels =', labels[i,:])  \n",
    "    print ('count =', count)  \n",
    "    print ('pred =', pred)\n",
    "    print ('lab =', lab)\n",
    "    return (100.0 * np.sum(np.argmax(predictions, 1) == np.argmax(labels, 1))\n",
    "          / predictions.shape[0])\n",
    "\n",
    "  def weight_variable(shape):\n",
    "    initial = tf.truncated_normal(shape, stddev=0.1)\n",
    "    return tf.Variable(initial)\n",
    "\n",
    "  def bias_variable(shape):\n",
    "    initial = tf.constant(0.1, shape=shape)\n",
    "    return tf.Variable(initial)\n",
    "\n",
    "  def conv2d(x, W):\n",
    "    return tf.nn.conv2d(x, W, strides=[1, 1, 1, 1], padding='SAME')\n",
    "\n",
    "  def max_pool_2x2(x):\n",
    "    return tf.nn.max_pool(x, ksize=[1, 2, 2, 1],\n",
    "\t                  strides=[1, 2, 2, 1], padding='SAME')\n",
    "\n",
    "  def drop_out(x, keep_prob):\n",
    "    return tf.nn.dropout(x, keep_prob)\n",
    "\n",
    "  graph = tf.Graph()\n",
    "\n",
    "  with graph.as_default():\n",
    "    # Input data.\n",
    "    tf_train_dataset = tf.placeholder(\n",
    "      tf.float32, shape=(FLAGS.batch_size, FLAGS.image_size, FLAGS.image_size, FLAGS.num_channels))\n",
    "    tf_train_labels = tf.placeholder(tf.float32, shape=(FLAGS.batch_size, FLAGS.num_labels))\n",
    "    tf_test_dataset = tf.constant(test_dataset)\n",
    "  \n",
    "    # Variables.\n",
    "    W_conv1 = weight_variable([5, 5, 1, 20])\n",
    "    b_conv1 = bias_variable([20])\n",
    "\n",
    "    W_conv2 = weight_variable([5, 5, 20, 50])\n",
    "    b_conv2 = bias_variable([50])\n",
    "\n",
    "    W_fc1 = weight_variable([7 * 7 * 50, 500])\n",
    "    b_fc1 = bias_variable([500])\n",
    "\n",
    "    W_fc2 = weight_variable([500, FLAGS.num_labels])\n",
    "    b_fc2 = bias_variable([FLAGS.num_labels])\n",
    "\n",
    "  \n",
    "    # Model.\n",
    "    def model(data):\n",
    "      h_conv1 = tf.nn.relu(conv2d(data, W_conv1) + b_conv1)\n",
    "      h_pool1 = max_pool_2x2(h_conv1)\n",
    "      h_conv2 = tf.nn.relu(conv2d(h_pool1, W_conv2) + b_conv2)\n",
    "      h_pool2 = max_pool_2x2(h_conv2)\n",
    "      shape = h_pool2.get_shape().as_list()\n",
    "      reshape = tf.reshape(h_pool2, [shape[0], shape[1] * shape[2] * shape[3]])\n",
    "      h_fc1 = tf.nn.tanh(tf.matmul(reshape, W_fc1) + b_fc1)\n",
    "      return tf.matmul(h_fc1, W_fc2) + b_fc2\n",
    "   \n",
    "  \n",
    "    # Training computation.\n",
    "    logits = model(tf_train_dataset)\n",
    "    loss = tf.reduce_mean(\n",
    "      tf.nn.softmax_cross_entropy_with_logits(labels=tf_train_labels, logits=logits))\n",
    "    \n",
    "    # Optimizer.\n",
    "    optimizer = tf.train.AdamOptimizer(FLAGS.learning_rate).minimize(loss)\n",
    "  \n",
    "    # Predictions for the training, validation, and test data.\n",
    "    train_prediction = tf.nn.softmax(logits)\n",
    "    test_prediction = tf.nn.softmax(model(tf_test_dataset))\n",
    "\n",
    "    step_plot = []\n",
    "    loss_plot = []\n",
    "    accuracy_plot = []\n",
    "\n",
    "    init = tf.global_variables_initializer()\n",
    "\n",
    "    # Create a session for running Ops on the Graph.\n",
    "    sess = tf.Session()\n",
    "\n",
    "    # Run the Op to initialize the variables.\n",
    "    sess.run(init)\n",
    "\n",
    "    print('Initialized')\n",
    "    for step in range(FLAGS.max_steps):\n",
    "      offset = (step * FLAGS.batch_size) % (train_labels.shape[0] - FLAGS.batch_size)\n",
    "      batch_data = train_dataset[offset:(offset + FLAGS.batch_size), :, :, :]\n",
    "      batch_labels = train_labels[offset:(offset + FLAGS.batch_size), :]\n",
    "      feed_dict = {tf_train_dataset : batch_data, tf_train_labels : batch_labels}\n",
    "      _, l, predictions = sess.run(\n",
    "        [optimizer, loss, train_prediction], feed_dict=feed_dict)\n",
    "      if (step % 50 == 0):\n",
    "        print('Minibatch loss at step %d: %f' % (step, l))\n",
    "        acc = accuracy(predictions, batch_labels)\n",
    "        print('Minibatch accuracy: %.1f%%' % acc)\n",
    "        step_plot.append(step)\n",
    "        loss_plot.append(l)\n",
    "        accuracy_plot.append(acc)\n",
    "    print('Test accuracy: %.1f%%' % accuracy2(test_prediction.eval(session=sess), test_labels))\n",
    "    print (test_prediction.eval(session=sess).shape)\n",
    "    plt.figure(facecolor='white')\n",
    "    plt.plot(step_plot, loss_plot, 'rs--')\n",
    "    plt.xlabel('Steps')\n",
    "    plt.ylabel('Loss')\n",
    "    plt.title('Loss plot')\n",
    "    plt.grid(True)\n",
    "    plt.show()\n",
    "    plt.figure(facecolor='white')\n",
    "    plt.plot(step_plot, accuracy_plot, '--bs')\n",
    "    plt.xlabel('Steps')\n",
    "    plt.ylabel('Accuracy')\n",
    "    plt.title('Accuracy plot')\n",
    "    plt.grid(True)\n",
    "    plt.show()\n",
    "    #print(accuracy_plot)\n",
    "\n",
    "\n",
    "if __name__ == '__main__':\n",
    "  parser = argparse.ArgumentParser()\n",
    "  parser.add_argument(\n",
    "      '--learning_rate',\n",
    "      type=float,\n",
    "      default=0.005,\n",
    "      help='Initial learning rate.'\n",
    "  )\n",
    "  parser.add_argument(\n",
    "      '--max_steps',\n",
    "      type=int,\n",
    "      default=1001,\n",
    "      help='Number of steps to run trainer.'\n",
    "  )\n",
    "  parser.add_argument(\n",
    "      '--batch_size',\n",
    "      type=int,\n",
    "      default=100,\n",
    "      help='Batch size.  Must divide evenly into the dataset sizes.'\n",
    "  )\n",
    "  parser.add_argument(\n",
    "      '--number_classses',\n",
    "      type=int,\n",
    "      default=256,\n",
    "      help='Number of classes in train and test data sets.'\n",
    "  )\n",
    "  parser.add_argument(\n",
    "      '--image_size',\n",
    "      type=int,\n",
    "      default=28,\n",
    "      help='Size of the image.'\n",
    "  )\n",
    "  parser.add_argument(\n",
    "      '--pixel_depth',\n",
    "      type=float,\n",
    "      default=255.0,\n",
    "      help='Number of levels per pixel.'\n",
    "  )\n",
    "  parser.add_argument(\n",
    "      '--num_channels',\n",
    "      type=int,\n",
    "      default=1,\n",
    "      help='1 for grayscale'\n",
    "  )\n",
    "  parser.add_argument(\n",
    "      '--num_images_Train',\n",
    "      type=int,\n",
    "      default=10000,\n",
    "      help='Number of images per label in train floder'\n",
    "  )\n",
    "  parser.add_argument(\n",
    "      '--num_images_Test',\n",
    "      type=int,\n",
    "      default=100,\n",
    "      help='Number of images per label in test floder'\n",
    "  )\n",
    "  parser.add_argument(\n",
    "      '--num_labels',\n",
    "      type=int,\n",
    "      default=26,\n",
    "      help='Number of labels'\n",
    "  )\n",
    "\n",
    " \n",
    "  FLAGS, unparsed = parser.parse_known_args()\n",
    "  tf.app.run(main=main, argv=[sys.argv[0]] + unparsed)\n",
    "  \n",
    "\n"
   ]
  },
  {
   "cell_type": "code",
   "execution_count": 2,
   "metadata": {
    "collapsed": true
   },
   "outputs": [],
   "source": [
    "train_filename = 'train7d10class10000'\n",
    "test_filename = 'test7d10class10000'"
   ]
  },
  {
   "cell_type": "code",
   "execution_count": 3,
   "metadata": {
    "collapsed": false
   },
   "outputs": [
    {
     "name": "stdout",
     "output_type": "stream",
     "text": [
      "train7d10class10000 already present - Skipping extraction of train7d10class10000.\n",
      "['train7d10class10000/0', 'train7d10class10000/105', 'train7d10class10000/135', 'train7d10class10000/15', 'train7d10class10000/165', 'train7d10class10000/195', 'train7d10class10000/225', 'train7d10class10000/255', 'train7d10class10000/45', 'train7d10class10000/75']\n",
      "test7d10class10000 already present - Skipping extraction of test7d10class10000.\n",
      "['test7d10class10000/0', 'test7d10class10000/105', 'test7d10class10000/135', 'test7d10class10000/15', 'test7d10class10000/165', 'test7d10class10000/195', 'test7d10class10000/225', 'test7d10class10000/255', 'test7d10class10000/45', 'test7d10class10000/75']\n"
     ]
    }
   ],
   "source": [
    "# extracting the datasets\n",
    "num_classes = 10\n",
    "np.random.seed(133)\n",
    "\n",
    "def maybe_extract(filename, force=False):\n",
    "  root = os.path.splitext(os.path.splitext(filename)[0])[0]  # remove .tar.gz\n",
    "  if os.path.isdir(root) and not force:\n",
    "    # You may override by setting force=True.\n",
    "    print('%s already present - Skipping extraction of %s.' % (root, filename))\n",
    "  else:\n",
    "    print('Extracting data for %s. This may take a while. Please wait.' % root)\n",
    "    tar = tarfile.open(filename)\n",
    "    sys.stdout.flush()\n",
    "    tar.extractall()\n",
    "    tar.close()\n",
    "  data_folders = [\n",
    "    os.path.join(root, d) for d in sorted(os.listdir(root))\n",
    "    if os.path.isdir(os.path.join(root, d))]\n",
    "  if len(data_folders) != num_classes:\n",
    "    raise Exception(\n",
    "      'Expected %d folders, one per class. Found %d instead.' % (\n",
    "        num_classes, len(data_folders)))\n",
    "  print(data_folders)\n",
    "  return data_folders\n",
    "  \n",
    "train_folders = maybe_extract(train_filename)\n",
    "test_folders = maybe_extract(test_filename)"
   ]
  },
  {
   "cell_type": "code",
   "execution_count": 4,
   "metadata": {
    "collapsed": true
   },
   "outputs": [],
   "source": [
    "# have a look at data\n",
    "import random\n",
    "import hashlib\n",
    "\n",
    "def disp_samples(data_folders, sample_size):\n",
    "  for folder in data_folders:\n",
    "    print(folder)\n",
    "    image_files = os.listdir(folder)\n",
    "    image_sample = random.sample(image_files, sample_size)\n",
    "    for image in image_sample:\n",
    "      image_file = os.path.join(folder, image)\n",
    "      i = Image(filename=image_file)\n",
    "      display(i)"
   ]
  },
  {
   "cell_type": "code",
   "execution_count": 5,
   "metadata": {
    "collapsed": false
   },
   "outputs": [
    {
     "name": "stdout",
     "output_type": "stream",
     "text": [
      "train7d10class10000/0\n"
     ]
    },
    {
     "data": {
      "image/png": "[encoded data removed]",
      "text/plain": [
       "<IPython.core.display.Image object>"
      ]
     },
     "metadata": {},
     "output_type": "display_data"
    },
    {
     "name": "stdout",
     "output_type": "stream",
     "text": [
      "train7d10class10000/105\n"
     ]
    },
    {
     "data": {
      "image/png": "[encoded data removed]",
      "text/plain": [
       "<IPython.core.display.Image object>"
      ]
     },
     "metadata": {},
     "output_type": "display_data"
    },
    {
     "name": "stdout",
     "output_type": "stream",
     "text": [
      "train7d10class10000/135\n"
     ]
    },
    {
     "data": {
      "image/png": "[encoded data removed]",
      "text/plain": [
       "<IPython.core.display.Image object>"
      ]
     },
     "metadata": {},
     "output_type": "display_data"
    },
    {
     "name": "stdout",
     "output_type": "stream",
     "text": [
      "train7d10class10000/15\n"
     ]
    },
    {
     "data": {
      "image/png": "[encoded data removed]",
      "text/plain": [
       "<IPython.core.display.Image object>"
      ]
     },
     "metadata": {},
     "output_type": "display_data"
    },
    {
     "name": "stdout",
     "output_type": "stream",
     "text": [
      "train7d10class10000/165\n"
     ]
    },
    {
     "data": {
      "image/png": "[encoded data removed]",
      "text/plain": [
       "<IPython.core.display.Image object>"
      ]
     },
     "metadata": {},
     "output_type": "display_data"
    },
    {
     "name": "stdout",
     "output_type": "stream",
     "text": [
      "train7d10class10000/195\n"
     ]
    },
    {
     "data": {
      "image/png": "[encoded data removed]",
      "text/plain": [
       "<IPython.core.display.Image object>"
      ]
     },
     "metadata": {},
     "output_type": "display_data"
    },
    {
     "name": "stdout",
     "output_type": "stream",
     "text": [
      "train7d10class10000/225\n"
     ]
    },
    {
     "data": {
      "image/png": "[encoded data removed]",
      "text/plain": [
       "<IPython.core.display.Image object>"
      ]
     },
     "metadata": {},
     "output_type": "display_data"
    },
    {
     "name": "stdout",
     "output_type": "stream",
     "text": [
      "train7d10class10000/255\n"
     ]
    },
    {
     "data": {
      "image/png": "[encoded data removed]",
      "text/plain": [
       "<IPython.core.display.Image object>"
      ]
     },
     "metadata": {},
     "output_type": "display_data"
    },
    {
     "name": "stdout",
     "output_type": "stream",
     "text": [
      "train7d10class10000/45\n"
     ]
    },
    {
     "data": {
      "image/png": "[encoded data removed]",
      "text/plain": [
       "<IPython.core.display.Image object>"
      ]
     },
     "metadata": {},
     "output_type": "display_data"
    },
    {
     "name": "stdout",
     "output_type": "stream",
     "text": [
      "train7d10class10000/75\n"
     ]
    },
    {
     "data": {
      "image/png": "[encoded data removed]",
      "text/plain": [
       "<IPython.core.display.Image object>"
      ]
     },
     "metadata": {},
     "output_type": "display_data"
    }
   ],
   "source": [
    "disp_samples(train_folders, 1)"
   ]
  },
  {
   "cell_type": "code",
   "execution_count": 6,
   "metadata": {
    "collapsed": false
   },
   "outputs": [
    {
     "name": "stdout",
     "output_type": "stream",
     "text": [
      "test7d10class10000/0\n"
     ]
    },
    {
     "data": {
      "image/png": "[encoded data removed]",
      "text/plain": [
       "<IPython.core.display.Image object>"
      ]
     },
     "metadata": {},
     "output_type": "display_data"
    },
    {
     "name": "stdout",
     "output_type": "stream",
     "text": [
      "test7d10class10000/105\n"
     ]
    },
    {
     "data": {
      "image/png": "[encoded data removed]",
      "text/plain": [
       "<IPython.core.display.Image object>"
      ]
     },
     "metadata": {},
     "output_type": "display_data"
    },
    {
     "name": "stdout",
     "output_type": "stream",
     "text": [
      "test7d10class10000/135\n"
     ]
    },
    {
     "data": {
      "image/png": "[encoded data removed]",
      "text/plain": [
       "<IPython.core.display.Image object>"
      ]
     },
     "metadata": {},
     "output_type": "display_data"
    },
    {
     "name": "stdout",
     "output_type": "stream",
     "text": [
      "test7d10class10000/15\n"
     ]
    },
    {
     "data": {
      "image/png": "[encoded data removed]",
      "text/plain": [
       "<IPython.core.display.Image object>"
      ]
     },
     "metadata": {},
     "output_type": "display_data"
    },
    {
     "name": "stdout",
     "output_type": "stream",
     "text": [
      "test7d10class10000/165\n"
     ]
    },
    {
     "data": {
      "image/png": "[encoded data removed]",
      "text/plain": [
       "<IPython.core.display.Image object>"
      ]
     },
     "metadata": {},
     "output_type": "display_data"
    },
    {
     "name": "stdout",
     "output_type": "stream",
     "text": [
      "test7d10class10000/195\n"
     ]
    },
    {
     "data": {
      "image/png": "[encoded data removed]",
      "text/plain": [
       "<IPython.core.display.Image object>"
      ]
     },
     "metadata": {},
     "output_type": "display_data"
    },
    {
     "name": "stdout",
     "output_type": "stream",
     "text": [
      "test7d10class10000/225\n"
     ]
    },
    {
     "data": {
      "image/png": "[encoded data removed]",
      "text/plain": [
       "<IPython.core.display.Image object>"
      ]
     },
     "metadata": {},
     "output_type": "display_data"
    },
    {
     "name": "stdout",
     "output_type": "stream",
     "text": [
      "test7d10class10000/255\n"
     ]
    },
    {
     "data": {
      "image/png": "[encoded data removed]",
      "text/plain": [
       "<IPython.core.display.Image object>"
      ]
     },
     "metadata": {},
     "output_type": "display_data"
    },
    {
     "name": "stdout",
     "output_type": "stream",
     "text": [
      "test7d10class10000/45\n"
     ]
    },
    {
     "data": {
      "image/png": "[encoded data removed]",
      "text/plain": [
       "<IPython.core.display.Image object>"
      ]
     },
     "metadata": {},
     "output_type": "display_data"
    },
    {
     "name": "stdout",
     "output_type": "stream",
     "text": [
      "test7d10class10000/75\n"
     ]
    },
    {
     "data": {
      "image/png": "[encoded data removed]",
      "text/plain": [
       "<IPython.core.display.Image object>"
      ]
     },
     "metadata": {},
     "output_type": "display_data"
    }
   ],
   "source": [
    "disp_samples(test_folders, 1)"
   ]
  },
  {
   "cell_type": "code",
   "execution_count": 7,
   "metadata": {
    "collapsed": false
   },
   "outputs": [
    {
     "name": "stdout",
     "output_type": "stream",
     "text": [
      "Merging train7d10class10000/0.\n",
      "Merging train7d10class10000/105.\n",
      "Merging train7d10class10000/135.\n",
      "Merging train7d10class10000/15.\n",
      "Merging train7d10class10000/165.\n",
      "Merging train7d10class10000/195.\n",
      "Merging train7d10class10000/225.\n",
      "Merging train7d10class10000/255.\n",
      "Merging train7d10class10000/45.\n",
      "Merging train7d10class10000/75.\n",
      "Merging test7d10class10000/0.\n",
      "Merging test7d10class10000/105.\n",
      "Merging test7d10class10000/135.\n",
      "Merging test7d10class10000/15.\n",
      "Merging test7d10class10000/165.\n",
      "Merging test7d10class10000/195.\n",
      "Merging test7d10class10000/225.\n",
      "Merging test7d10class10000/255.\n",
      "Merging test7d10class10000/45.\n",
      "Merging test7d10class10000/75.\n",
      "[[[  0   0   0 ...,   0   0   0]\n",
      "  [  0   0   0 ...,   0   0   0]\n",
      "  [  0   0   0 ...,   0   0   0]\n",
      "  ..., \n",
      "  [  0   0   0 ...,   0   0   0]\n",
      "  [  0   0   0 ...,   0   0   0]\n",
      "  [  0   0   0 ...,   0   0   0]]\n",
      "\n",
      " [[  0   0   0 ...,   0   0   0]\n",
      "  [  0   0   0 ...,   0   0   0]\n",
      "  [  0   0   0 ...,   0   0   0]\n",
      "  ..., \n",
      "  [  0   0   0 ...,   0   0   0]\n",
      "  [  0   0   0 ...,   0   0   0]\n",
      "  [  0   0   0 ...,   0   0   0]]\n",
      "\n",
      " [[  0   0   0 ...,   0   0   0]\n",
      "  [  0   0   0 ...,   0   0   0]\n",
      "  [  0   0   0 ...,   0   0   0]\n",
      "  ..., \n",
      "  [  0   0   0 ...,   0   0   0]\n",
      "  [  0   0   0 ...,   0   0   0]\n",
      "  [  0   0   0 ...,   0   0   0]]\n",
      "\n",
      " ..., \n",
      " [[ 37  37  37 ...,  69  69  69]\n",
      "  [ 37  37  37 ...,  69  69  69]\n",
      "  [ 37  37  37 ...,  69  69  69]\n",
      "  ..., \n",
      "  [ 75  75  75 ..., 189 189 189]\n",
      "  [ 75  75  75 ..., 189 189 189]\n",
      "  [ 75  75  75 ..., 189 189 189]]\n",
      "\n",
      " [[ 75  75  75 ..., 198 198 198]\n",
      "  [ 75  75  75 ..., 198 198 198]\n",
      "  [ 75  75  75 ..., 198 198 198]\n",
      "  ..., \n",
      "  [191 191 191 ...,  69  69  69]\n",
      "  [191 191 191 ...,  69  69  69]\n",
      "  [191 191 191 ...,  69  69  69]]\n",
      "\n",
      " [[ 62  62  62 ..., 255 255 255]\n",
      "  [ 62  62  62 ..., 255 255 255]\n",
      "  [ 62  62  62 ..., 255 255 255]\n",
      "  ..., \n",
      "  [ 27  27  27 ...,   7   7   7]\n",
      "  [ 27  27  27 ...,   7   7   7]\n",
      "  [ 27  27  27 ...,   7   7   7]]]\n",
      "[ 0  0  0 ..., 75 75 75]\n",
      "[[[  0   0   0 ...,   0   0   0]\n",
      "  [  0   0   0 ...,   0   0   0]\n",
      "  [  0   0   0 ...,   0   0   0]\n",
      "  ..., \n",
      "  [  0   0   0 ...,   0   0   0]\n",
      "  [  0   0   0 ...,   0   0   0]\n",
      "  [  0   0   0 ...,   0   0   0]]\n",
      "\n",
      " [[  0   0   0 ...,   0   0   0]\n",
      "  [  0   0   0 ...,   0   0   0]\n",
      "  [  0   0   0 ...,   0   0   0]\n",
      "  ..., \n",
      "  [  0   0   0 ...,   0   0   0]\n",
      "  [  0   0   0 ...,   0   0   0]\n",
      "  [  0   0   0 ...,   0   0   0]]\n",
      "\n",
      " [[  0   0   0 ...,   0   0   0]\n",
      "  [  0   0   0 ...,   0   0   0]\n",
      "  [  0   0   0 ...,   0   0   0]\n",
      "  ..., \n",
      "  [  0   0   0 ...,   0   0   0]\n",
      "  [  0   0   0 ...,   0   0   0]\n",
      "  [  0   0   0 ...,   0   0   0]]\n",
      "\n",
      " ..., \n",
      " [[124 124 124 ...,   1   1   1]\n",
      "  [124 124 124 ...,   1   1   1]\n",
      "  [124 124 124 ...,   1   1   1]\n",
      "  ..., \n",
      "  [ 23  23  23 ...,  54  54  54]\n",
      "  [ 23  23  23 ...,  54  54  54]\n",
      "  [ 23  23  23 ...,  54  54  54]]\n",
      "\n",
      " [[ 29  29  29 ...,  64  64  64]\n",
      "  [ 29  29  29 ...,  64  64  64]\n",
      "  [ 29  29  29 ...,  64  64  64]\n",
      "  ..., \n",
      "  [ 81  81  81 ...,  52  52  52]\n",
      "  [ 81  81  81 ...,  52  52  52]\n",
      "  [ 81  81  81 ...,  52  52  52]]\n",
      "\n",
      " [[ 75  75  75 ...,  31  31  31]\n",
      "  [ 75  75  75 ...,  31  31  31]\n",
      "  [ 75  75  75 ...,  31  31  31]\n",
      "  ..., \n",
      "  [ 29  29  29 ...,   9   9   9]\n",
      "  [ 29  29  29 ...,   9   9   9]\n",
      "  [ 29  29  29 ...,   9   9   9]]]\n",
      "[  0   0   0   0   0   0   0   0   0   0   0   0   0   0   0   0   0   0\n",
      "   0   0   0   0   0   0   0   0   0   0   0   0   0   0   0   0   0   0\n",
      "   0   0   0   0   0   0   0   0   0   0   0   0   0   0   0   0   0   0\n",
      "   0   0   0   0   0   0   0   0   0   0   0   0   0   0   0   0   0   0\n",
      "   0   0   0   0   0   0   0   0   0   0   0   0   0   0   0   0   0   0\n",
      "   0   0   0   0   0   0   0   0   0   0 105 105 105 105 105 105 105 105\n",
      " 105 105 105 105 105 105 105 105 105 105 105 105 105 105 105 105 105 105\n",
      " 105 105 105 105 105 105 105 105 105 105 105 105 105 105 105 105 105 105\n",
      " 105 105 105 105 105 105 105 105 105 105 105 105 105 105 105 105 105 105\n",
      " 105 105 105 105 105 105 105 105 105 105 105 105 105 105 105 105 105 105\n",
      " 105 105 105 105 105 105 105 105 105 105 105 105 105 105 105 105 105 105\n",
      " 105 105 135 135 135 135 135 135 135 135 135 135 135 135 135 135 135 135\n",
      " 135 135 135 135 135 135 135 135 135 135 135 135 135 135 135 135 135 135\n",
      " 135 135 135 135 135 135 135 135 135 135 135 135 135 135 135 135 135 135\n",
      " 135 135 135 135 135 135 135 135 135 135 135 135 135 135 135 135 135 135\n",
      " 135 135 135 135 135 135 135 135 135 135 135 135 135 135 135 135 135 135\n",
      " 135 135 135 135 135 135 135 135 135 135 135 135  15  15  15  15  15  15\n",
      "  15  15  15  15  15  15  15  15  15  15  15  15  15  15  15  15  15  15\n",
      "  15  15  15  15  15  15  15  15  15  15  15  15  15  15  15  15  15  15\n",
      "  15  15  15  15  15  15  15  15  15  15  15  15  15  15  15  15  15  15\n",
      "  15  15  15  15  15  15  15  15  15  15  15  15  15  15  15  15  15  15\n",
      "  15  15  15  15  15  15  15  15  15  15  15  15  15  15  15  15  15  15\n",
      "  15  15  15  15 165 165 165 165 165 165 165 165 165 165 165 165 165 165\n",
      " 165 165 165 165 165 165 165 165 165 165 165 165 165 165 165 165 165 165\n",
      " 165 165 165 165 165 165 165 165 165 165 165 165 165 165 165 165 165 165\n",
      " 165 165 165 165 165 165 165 165 165 165 165 165 165 165 165 165 165 165\n",
      " 165 165 165 165 165 165 165 165 165 165 165 165 165 165 165 165 165 165\n",
      " 165 165 165 165 165 165 165 165 165 165 165 165 165 165 195 195 195 195\n",
      " 195 195 195 195 195 195 195 195 195 195 195 195 195 195 195 195 195 195\n",
      " 195 195 195 195 195 195 195 195 195 195 195 195 195 195 195 195 195 195\n",
      " 195 195 195 195 195 195 195 195 195 195 195 195 195 195 195 195 195 195\n",
      " 195 195 195 195 195 195 195 195 195 195 195 195 195 195 195 195 195 195\n",
      " 195 195 195 195 195 195 195 195 195 195 195 195 195 195 195 195 195 195\n",
      " 195 195 195 195 195 195 225 225 225 225 225 225 225 225 225 225 225 225\n",
      " 225 225 225 225 225 225 225 225 225 225 225 225 225 225 225 225 225 225\n",
      " 225 225 225 225 225 225 225 225 225 225 225 225 225 225 225 225 225 225\n",
      " 225 225 225 225 225 225 225 225 225 225 225 225 225 225 225 225 225 225\n",
      " 225 225 225 225 225 225 225 225 225 225 225 225 225 225 225 225 225 225\n",
      " 225 225 225 225 225 225 225 225 225 225 225 225 225 225 225 225 255 255\n",
      " 255 255 255 255 255 255 255 255 255 255 255 255 255 255 255 255 255 255\n",
      " 255 255 255 255 255 255 255 255 255 255 255 255 255 255 255 255 255 255\n",
      " 255 255 255 255 255 255 255 255 255 255 255 255 255 255 255 255 255 255\n",
      " 255 255 255 255 255 255 255 255 255 255 255 255 255 255 255 255 255 255\n",
      " 255 255 255 255 255 255 255 255 255 255 255 255 255 255 255 255 255 255\n",
      " 255 255 255 255 255 255 255 255  45  45  45  45  45  45  45  45  45  45\n",
      "  45  45  45  45  45  45  45  45  45  45  45  45  45  45  45  45  45  45\n",
      "  45  45  45  45  45  45  45  45  45  45  45  45  45  45  45  45  45  45\n",
      "  45  45  45  45  45  45  45  45  45  45  45  45  45  45  45  45  45  45\n",
      "  45  45  45  45  45  45  45  45  45  45  45  45  45  45  45  45  45  45\n",
      "  45  45  45  45  45  45  45  45  45  45  45  45  45  45  45  45  45  45\n",
      "  75  75  75  75  75  75  75  75  75  75  75  75  75  75  75  75  75  75\n",
      "  75  75  75  75  75  75  75  75  75  75  75  75  75  75  75  75  75  75\n",
      "  75  75  75  75  75  75  75  75  75  75  75  75  75  75  75  75  75  75\n",
      "  75  75  75  75  75  75  75  75  75  75  75  75  75  75  75  75  75  75\n",
      "  75  75  75  75  75  75  75  75  75  75  75  75  75  75  75  75  75  75\n",
      "  75  75  75  75  75  75  75  75  75  75]\n",
      "trainDataset.shape (100000, 28, 28)\n",
      "labelsTrainDataset.shape (100000,)\n",
      "testDataset.shape (1000, 28, 28)\n",
      "labelsTestDataset.shape (1000,)\n"
     ]
    }
   ],
   "source": [
    "#Merging the data\n",
    "\n",
    "image_size = 28  # Pixel width and height.\n",
    "pixel_depth = 255.0  # Number of levels per pixel.\n",
    "num_of_classes = 10\n",
    "\n",
    "        \n",
    "def Merge_folders(data_folders, size_per_class):\n",
    "  dataset_names = []\n",
    "  start_t = 0\n",
    "  end_t = size_per_class\n",
    "  required_size = size_per_class * num_of_classes\n",
    "  trainDataset = np.ndarray((required_size, image_size, image_size), dtype=np.uint8)\n",
    "  labelsDataset = np.ndarray(required_size, dtype=np.int32)\n",
    "  for folder in data_folders:\n",
    "    dataset_names.append(folder)\n",
    "\n",
    "    print('Merging %s.' % folder)\n",
    "    image_files = os.listdir(folder)\n",
    "    np.random.shuffle(image_files)\n",
    "    dataset = np.ndarray(shape=(len(image_files), image_size, image_size),\n",
    "                         dtype=np.uint8)\n",
    "    image_index = 0\n",
    "    for image in image_files:\n",
    "        if image_index < size_per_class:\n",
    "            image_file = os.path.join(folder, image)\n",
    "            image_data = (ndimage.imread(image_file).astype(int))\n",
    "            dataset[image_index, :, :] = image_data\n",
    "            image_index += 1\n",
    "    num_images = image_index\n",
    "    dataset = dataset[0:num_images, :, :]\n",
    "    trainDataset[start_t:end_t, :, :] = dataset\n",
    "    labelsDataset[start_t:end_t] = folder.split(\"/\")[1]\n",
    "    start_t += size_per_class\n",
    "    end_t += size_per_class\n",
    "\n",
    "  \n",
    "  return dataset_names, trainDataset, labelsDataset\n",
    "\n",
    "train_datasets, trainDataset, labelsTrainDataset = Merge_folders(train_folders, 10000)\n",
    "test_datasets, testDataset, labelsTestDataset = Merge_folders(test_folders, 100)\n",
    "\n",
    "print(trainDataset)\n",
    "print(labelsTrainDataset)\n",
    "\n",
    "print(testDataset)\n",
    "print(labelsTestDataset)\n",
    "\n",
    "print('trainDataset.shape' , trainDataset.shape)\n",
    "print('labelsTrainDataset.shape' , labelsTrainDataset.shape)\n",
    "\n",
    "print('testDataset.shape' , testDataset.shape)\n",
    "print('labelsTestDataset.shape' , labelsTestDataset.shape)"
   ]
  },
  {
   "cell_type": "code",
   "execution_count": 8,
   "metadata": {
    "collapsed": false
   },
   "outputs": [
    {
     "name": "stdout",
     "output_type": "stream",
     "text": [
      "12008\n",
      "105\n"
     ]
    },
    {
     "data": {
      "image/png": "[encoded data removed]",
      "text/plain": [
       "<matplotlib.figure.Figure at 0x7fcb1f948ed0>"
      ]
     },
     "metadata": {},
     "output_type": "display_data"
    },
    {
     "data": {
      "text/plain": [
       "105.0"
      ]
     },
     "execution_count": 8,
     "metadata": {},
     "output_type": "execute_result"
    }
   ],
   "source": [
    "#test the data\n",
    "rand_image = random.randint(0, 20000)\n",
    "print (rand_image)\n",
    "plt.imshow(trainDataset[rand_image], cmap='gray', interpolation='nearest', vmin=0, vmax=255)\n",
    "print (labelsTrainDataset[rand_image])\n",
    "plt.show()\n",
    "np.mean(trainDataset[rand_image])"
   ]
  },
  {
   "cell_type": "code",
   "execution_count": 10,
   "metadata": {
    "collapsed": false
   },
   "outputs": [
    {
     "data": {
      "text/plain": [
       "array([255,   0,  75, ...,  75,   0, 195], dtype=int32)"
      ]
     },
     "execution_count": 10,
     "metadata": {},
     "output_type": "execute_result"
    }
   ],
   "source": [
    "# randomize the data\n",
    "def randomize(dataset, labels):\n",
    "  permutation = np.random.permutation(labels.shape[0])\n",
    "  shuffled_dataset = dataset[permutation,:,:]\n",
    "  shuffled_labels = labels[permutation]\n",
    "  return shuffled_dataset, shuffled_labels\n",
    "train_dataset, train_labels = randomize(trainDataset, labelsTrainDataset)\n",
    "test_dataset, test_labels = randomize(testDataset, labelsTestDataset)\n",
    "\n",
    "train_labels"
   ]
  },
  {
   "cell_type": "code",
   "execution_count": 11,
   "metadata": {
    "collapsed": false
   },
   "outputs": [
    {
     "name": "stdout",
     "output_type": "stream",
     "text": [
      "10864\n",
      "75\n"
     ]
    },
    {
     "data": {
      "image/png": "[encoded data removed]",
      "text/plain": [
       "<matplotlib.figure.Figure at 0x7fcb1f948c90>"
      ]
     },
     "metadata": {},
     "output_type": "display_data"
    },
    {
     "data": {
      "text/plain": [
       "75.0"
      ]
     },
     "execution_count": 11,
     "metadata": {},
     "output_type": "execute_result"
    }
   ],
   "source": [
    "#test the data\n",
    "rand_image = random.randint(0, 20000)\n",
    "print (rand_image)\n",
    "plt.imshow(train_dataset[rand_image], cmap='gray', interpolation='nearest', vmin=0, vmax=255)\n",
    "print (train_labels[rand_image])\n",
    "plt.show()\n",
    "np.mean(train_dataset[rand_image])"
   ]
  },
  {
   "cell_type": "code",
   "execution_count": 12,
   "metadata": {
    "collapsed": false
   },
   "outputs": [
    {
     "name": "stdout",
     "output_type": "stream",
     "text": [
      "116\n",
      "0\n"
     ]
    },
    {
     "data": {
      "image/png": "[encoded data removed]",
      "text/plain": [
       "<matplotlib.figure.Figure at 0x7fcb1f96a090>"
      ]
     },
     "metadata": {},
     "output_type": "display_data"
    },
    {
     "data": {
      "text/plain": [
       "0.0"
      ]
     },
     "execution_count": 12,
     "metadata": {},
     "output_type": "execute_result"
    }
   ],
   "source": [
    "#test the data\n",
    "rand_image = random.randint(0, 200)\n",
    "print (rand_image)\n",
    "plt.imshow(test_dataset[rand_image], cmap='gray', interpolation='nearest', vmin=0, vmax=255)\n",
    "print (test_labels[rand_image])\n",
    "plt.show()\n",
    "np.mean(test_dataset[rand_image])"
   ]
  },
  {
   "cell_type": "code",
   "execution_count": 13,
   "metadata": {
    "collapsed": true
   },
   "outputs": [],
   "source": [
    "# save the data\n",
    "pickle_file = 'train7d10class10000.pickle'\n",
    "\n",
    "try:\n",
    "  f = open(pickle_file, 'wb')\n",
    "  save = {\n",
    "    'train_dataset': train_dataset,\n",
    "    'train_labels': train_labels,\n",
    "    'test_dataset': test_dataset,\n",
    "    'test_labels': test_labels,\n",
    "    }\n",
    "  pickle.dump(save, f, pickle.HIGHEST_PROTOCOL)\n",
    "  f.close()\n",
    "except Exception as e:\n",
    "  print('Unable to save data to', pickle_file, ':', e)\n",
    "  raise"
   ]
  },
  {
   "cell_type": "code",
   "execution_count": 14,
   "metadata": {
    "collapsed": false
   },
   "outputs": [
    {
     "name": "stdout",
     "output_type": "stream",
     "text": [
      "Compressed pickle size: 79588342\n"
     ]
    }
   ],
   "source": [
    "statinfo = os.stat(pickle_file)\n",
    "print('Compressed pickle size:', statinfo.st_size)"
   ]
  },
  {
   "cell_type": "code",
   "execution_count": 15,
   "metadata": {
    "collapsed": false
   },
   "outputs": [
    {
     "name": "stdout",
     "output_type": "stream",
     "text": [
      "20495\n"
     ]
    }
   ],
   "source": [
    "#estimate the duplicates\n",
    "\n",
    "all_data = pickle.load(open('train7d10class10000.pickle', 'rb'))\n",
    "\n",
    "def count_duplicates(dataset1, dataset2):\n",
    "    hashes = [hashlib.sha1(x).hexdigest() for x in dataset1]\n",
    "    dup_indices = []\n",
    "    for i in range(0, len(dataset2)):\n",
    "        if hashlib.sha1(dataset2[i]).hexdigest() in hashes:\n",
    "            dup_indices.append(i)\n",
    "    return len(dup_indices)\n",
    "\n",
    "\n",
    "print(count_duplicates(all_data['test_dataset'], all_data['train_dataset']))"
   ]
  },
  {
   "cell_type": "code",
   "execution_count": 16,
   "metadata": {
    "collapsed": false
   },
   "outputs": [
    {
     "name": "stdout",
     "output_type": "stream",
     "text": [
      "100000\n",
      "100000\n",
      "1000\n",
      "1000\n"
     ]
    }
   ],
   "source": [
    "# test a regression model\n",
    "\n",
    "train_dataset = all_data['train_dataset']\n",
    "train_labels = all_data['train_labels']\n",
    "test_dataset = all_data['test_dataset']\n",
    "test_labels = all_data['test_labels']\n",
    "\n",
    "print (len(train_dataset))\n",
    "print (len(train_labels))\n",
    "print (len(test_dataset))\n",
    "print (len(test_labels))"
   ]
  },
  {
   "cell_type": "code",
   "execution_count": 17,
   "metadata": {
    "collapsed": false
   },
   "outputs": [
    {
     "name": "stdout",
     "output_type": "stream",
     "text": [
      "100 trainsamples score: 0.326\n",
      "1000 trainsamples score: 0.456\n",
      "5000 trainsamples score: 0.524\n",
      "100000 trainsamples score: 0.815\n"
     ]
    }
   ],
   "source": [
    "\n",
    "def get_score(train_dataset, train_labels, test_dataset, test_labels):\n",
    "    model = LogisticRegression()\n",
    "    train_flatten_dataset = np.array([x.flatten() for x in train_dataset])\n",
    "    test_flatten_dataset = np.array([x.flatten() for x in test_dataset])\n",
    "    model.fit(train_flatten_dataset, train_labels)\n",
    "\n",
    "    return model.score([x.flatten() for x in test_dataset], test_labels)\n",
    "\n",
    "print(\"100 trainsamples score: \" + str(get_score(train_dataset[:100], train_labels[:100], test_dataset, test_labels)))\n",
    "print(\"1000 trainsamples score: \" + str(get_score(train_dataset[:1000], train_labels[:1000], test_dataset, test_labels)))\n",
    "print(\"5000 trainsamples score: \" + str(get_score(train_dataset[:5000], train_labels[:5000], test_dataset, test_labels)))\n",
    "print(\"100000 trainsamples score: \" + str(get_score(train_dataset[:100000], train_labels[:100000], test_dataset, test_labels)))\n"
   ]
  },
  {
   "cell_type": "code",
   "execution_count": null,
   "metadata": {
    "collapsed": true
   },
   "outputs": [],
   "source": []
  }
 ],
 "metadata": {
  "anaconda-cloud": {},
  "kernelspec": {
   "display_name": "Python [default]",
   "language": "python",
   "name": "python2"
  },
  "language_info": {
   "codemirror_mode": {
    "name": "ipython",
    "version": 2
   },
   "file_extension": ".py",
   "mimetype": "text/x-python",
   "name": "python",
   "nbconvert_exporter": "python",
   "pygments_lexer": "ipython2",
   "version": "2.7.12"
  }
 },
 "nbformat": 4,
 "nbformat_minor": 1
}
