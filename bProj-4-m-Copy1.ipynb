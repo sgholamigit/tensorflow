{
 "cells": [
  {
   "cell_type": "code",
   "execution_count": 2,
   "metadata": {
    "collapsed": true
   },
   "outputs": [],
   "source": [
    "from __future__ import print_function\n",
    "import numpy as np\n",
    "import tensorflow as tf\n",
    "from six.moves import cPickle as pickle\n",
    "from six.moves import range"
   ]
  },
  {
   "cell_type": "code",
   "execution_count": 9,
   "metadata": {
    "collapsed": false,
    "scrolled": true
   },
   "outputs": [
    {
     "name": "stdout",
     "output_type": "stream",
     "text": [
      "Training set (700000, 28, 28) (700000,)\n",
      "Test set (1000, 28, 28) (1000,)\n"
     ]
    }
   ],
   "source": [
    "pickle_file = 'brData10Class7.pickle'\n",
    "\n",
    "with open(pickle_file, 'rb') as f:\n",
    "  save = pickle.load(f)\n",
    "  train_dataset = save['train_dataset']\n",
    "  train_labels = save['train_labels']\n",
    "  test_dataset = save['test_dataset']\n",
    "  test_labels = save['test_labels']\n",
    "  del save  # hint to help gc free up memory\n",
    "  print('Training set', train_dataset.shape, train_labels.shape)\n",
    "  print('Test set', test_dataset.shape, test_labels.shape)"
   ]
  },
  {
   "cell_type": "code",
   "execution_count": 10,
   "metadata": {
    "collapsed": false
   },
   "outputs": [
    {
     "name": "stdout",
     "output_type": "stream",
     "text": [
      "Training set (700000, 28, 28, 1) (700000, 10)\n",
      "Test set (1000, 28, 28, 1) (1000, 10)\n",
      "\n"
     ]
    }
   ],
   "source": [
    "image_size = 28\n",
    "num_labels = 10\n",
    "num_channels = 1 # grayscale\n",
    "\n",
    "import numpy as np\n",
    "\n",
    "def reformat(dataset, labels):\n",
    "  dataset = dataset.reshape(\n",
    "    (-1, image_size, image_size, num_channels)).astype(np.float32)\n",
    "  labels = (np.arange(num_labels) == labels[:,None]).astype(np.float32)\n",
    "  return dataset, labels\n",
    "train_dataset, train_labels = reformat(train_dataset, train_labels)\n",
    "test_dataset, test_labels = reformat(test_dataset, test_labels)\n",
    "print('Training set', train_dataset.shape, train_labels.shape)\n",
    "print('Test set', test_dataset.shape, test_labels.shape)\n",
    "\n",
    "print ()"
   ]
  },
  {
   "cell_type": "code",
   "execution_count": 11,
   "metadata": {
    "collapsed": false
   },
   "outputs": [],
   "source": [
    "def accuracy(predictions, labels):\n",
    "  return (100.0 * np.sum(np.argmax(predictions, 1) == np.argmax(labels, 1))\n",
    "          / predictions.shape[0])"
   ]
  },
  {
   "cell_type": "code",
   "execution_count": 38,
   "metadata": {
    "collapsed": false
   },
   "outputs": [],
   "source": [
    "batch_size = 200\n",
    "patch_size = 5\n",
    "depth = 16\n",
    "num_hidden = 64\n",
    "\n",
    "graph = tf.Graph()\n",
    "\n",
    "with graph.as_default():\n",
    "\n",
    "  # Input data.\n",
    "  tf_train_dataset = tf.placeholder(\n",
    "    tf.float32, shape=(batch_size, image_size, image_size, num_channels))\n",
    "  tf_train_labels = tf.placeholder(tf.float32, shape=(batch_size, num_labels))\n",
    "  tf_test_dataset = tf.constant(test_dataset)\n",
    "  \n",
    "  # Variables.\n",
    "  layer1_weights = tf.Variable(tf.truncated_normal(\n",
    "      [patch_size, patch_size, num_channels, depth], stddev=0.1))\n",
    "  layer1_biases = tf.Variable(tf.zeros([depth]))\n",
    "  layer2_weights = tf.Variable(tf.truncated_normal(\n",
    "      [patch_size, patch_size, depth, depth], stddev=0.1))\n",
    "  layer2_biases = tf.Variable(tf.constant(1.0, shape=[depth]))\n",
    "  layer3_weights = tf.Variable(tf.truncated_normal(\n",
    "      [image_size // 4 * image_size // 4 * depth, num_hidden], stddev=0.1))\n",
    "  layer3_biases = tf.Variable(tf.constant(1.0, shape=[num_hidden]))\n",
    "  layer4_weights = tf.Variable(tf.truncated_normal(\n",
    "      [num_hidden, num_labels], stddev=0.1))\n",
    "  layer4_biases = tf.Variable(tf.constant(1.0, shape=[num_labels]))\n",
    "  \n",
    "  # Model.\n",
    "  def model(data):\n",
    "    conv = tf.nn.conv2d(data, layer1_weights, [1, 2, 2, 1], padding='SAME')\n",
    "    hidden = tf.nn.relu(conv + layer1_biases)\n",
    "    conv = tf.nn.conv2d(hidden, layer2_weights, [1, 2, 2, 1], padding='SAME')\n",
    "    hidden = tf.nn.relu(conv + layer2_biases)\n",
    "    shape = hidden.get_shape().as_list()\n",
    "    reshape = tf.reshape(hidden, [shape[0], shape[1] * shape[2] * shape[3]])\n",
    "    hidden = tf.nn.relu(tf.matmul(reshape, layer3_weights) + layer3_biases)\n",
    "    return tf.matmul(hidden, layer4_weights) + layer4_biases\n",
    "  \n",
    "  # Training computation.\n",
    "  logits = model(tf_train_dataset)\n",
    "  loss = tf.reduce_mean(\n",
    "    tf.nn.softmax_cross_entropy_with_logits(labels=tf_train_labels, logits=logits))\n",
    "    \n",
    "  # Optimizer.\n",
    "  optimizer = tf.train.AdamOptimizer(0.00001).minimize(loss)\n",
    "  \n",
    "  # Predictions for the training, validation, and test data.\n",
    "  train_prediction = tf.nn.softmax(logits)\n",
    "  test_prediction = tf.nn.softmax(model(tf_test_dataset))"
   ]
  },
  {
   "cell_type": "code",
   "execution_count": 43,
   "metadata": {
    "collapsed": false
   },
   "outputs": [
    {
     "name": "stdout",
     "output_type": "stream",
     "text": [
      "Initialized\n",
      "Minibatch loss at step 0: 0.408564\n",
      "Minibatch accuracy: 12.0%\n",
      "Minibatch loss at step 100: 0.262528\n",
      "Minibatch accuracy: 10.0%\n",
      "Minibatch loss at step 200: 0.106150\n",
      "Minibatch accuracy: 20.0%\n",
      "Minibatch loss at step 300: 0.038375\n",
      "Minibatch accuracy: 18.0%\n",
      "Minibatch loss at step 400: 0.030065\n",
      "Minibatch accuracy: 27.0%\n",
      "Minibatch loss at step 500: 0.016575\n",
      "Minibatch accuracy: 26.5%\n",
      "Minibatch loss at step 600: 0.013964\n",
      "Minibatch accuracy: 21.5%\n",
      "Minibatch loss at step 700: 0.014732\n",
      "Minibatch accuracy: 30.5%\n",
      "Minibatch loss at step 800: 0.011752\n",
      "Minibatch accuracy: 50.0%\n",
      "Minibatch loss at step 900: 0.012457\n",
      "Minibatch accuracy: 45.5%\n",
      "Minibatch loss at step 1000: 0.018317\n",
      "Minibatch accuracy: 48.5%\n",
      "Minibatch loss at step 1100: 0.009811\n",
      "Minibatch accuracy: 54.5%\n",
      "Minibatch loss at step 1200: 0.011324\n",
      "Minibatch accuracy: 41.5%\n",
      "Minibatch loss at step 1300: 0.015088\n",
      "Minibatch accuracy: 52.5%\n",
      "Minibatch loss at step 1400: 0.017235\n",
      "Minibatch accuracy: 26.5%\n",
      "Minibatch loss at step 1500: 0.030416\n",
      "Minibatch accuracy: 40.0%\n",
      "Minibatch loss at step 1600: 0.039201\n",
      "Minibatch accuracy: 58.0%\n",
      "Minibatch loss at step 1700: 0.058042\n",
      "Minibatch accuracy: 34.5%\n",
      "Minibatch loss at step 1800: 0.055724\n",
      "Minibatch accuracy: 65.5%\n",
      "Minibatch loss at step 1900: 0.072014\n",
      "Minibatch accuracy: 29.5%\n",
      "Minibatch loss at step 2000: 0.056028\n",
      "Minibatch accuracy: 57.5%\n",
      "Minibatch loss at step 2100: 0.083828\n",
      "Minibatch accuracy: 26.0%\n",
      "Minibatch loss at step 2200: 0.078048\n",
      "Minibatch accuracy: 27.0%\n",
      "Minibatch loss at step 2300: 0.075441\n",
      "Minibatch accuracy: 28.5%\n",
      "Minibatch loss at step 2400: 0.104827\n",
      "Minibatch accuracy: 63.5%\n",
      "Minibatch loss at step 2500: 0.097477\n",
      "Minibatch accuracy: 18.0%\n",
      "Minibatch loss at step 2600: 0.060479\n",
      "Minibatch accuracy: 28.5%\n",
      "Minibatch loss at step 2700: 0.130366\n",
      "Minibatch accuracy: 27.5%\n",
      "Minibatch loss at step 2800: 0.133317\n",
      "Minibatch accuracy: 17.0%\n",
      "Minibatch loss at step 2900: 0.118629\n",
      "Minibatch accuracy: 35.0%\n",
      "Minibatch loss at step 3000: 0.063192\n",
      "Minibatch accuracy: 19.5%\n",
      "Minibatch loss at step 3100: 0.113994\n",
      "Minibatch accuracy: 23.5%\n",
      "Minibatch loss at step 3200: 0.116114\n",
      "Minibatch accuracy: 21.0%\n",
      "Minibatch loss at step 3300: 0.102623\n",
      "Minibatch accuracy: 20.0%\n",
      "Minibatch loss at step 3400: 0.139561\n",
      "Minibatch accuracy: 33.0%\n",
      "Minibatch loss at step 3500: 0.063816\n",
      "Minibatch accuracy: 16.0%\n",
      "Minibatch loss at step 3600: 0.112365\n",
      "Minibatch accuracy: 19.5%\n",
      "Minibatch loss at step 3700: 0.080563\n",
      "Minibatch accuracy: 20.5%\n",
      "Minibatch loss at step 3800: 0.124076\n",
      "Minibatch accuracy: 11.0%\n",
      "Minibatch loss at step 3900: 0.088710\n",
      "Minibatch accuracy: 9.5%\n",
      "Minibatch loss at step 4000: 0.128541\n",
      "Minibatch accuracy: 21.5%\n",
      "Minibatch loss at step 4100: 0.120895\n",
      "Minibatch accuracy: 50.5%\n",
      "Minibatch loss at step 4200: 0.125330\n",
      "Minibatch accuracy: 17.5%\n",
      "Minibatch loss at step 4300: 0.153019\n",
      "Minibatch accuracy: 15.5%\n",
      "Minibatch loss at step 4400: 0.113432\n",
      "Minibatch accuracy: 10.0%\n",
      "Minibatch loss at step 4500: 0.093955\n",
      "Minibatch accuracy: 8.0%\n",
      "Minibatch loss at step 4600: 0.097736\n",
      "Minibatch accuracy: 67.5%\n",
      "Minibatch loss at step 4700: 0.155835\n",
      "Minibatch accuracy: 34.0%\n",
      "Minibatch loss at step 4800: 0.132797\n",
      "Minibatch accuracy: 83.0%\n",
      "Minibatch loss at step 4900: 0.118057\n",
      "Minibatch accuracy: 22.0%\n",
      "Minibatch loss at step 5000: 0.100107\n",
      "Minibatch accuracy: 8.5%\n",
      "Minibatch loss at step 5100: 0.111016\n",
      "Minibatch accuracy: 24.0%\n",
      "Minibatch loss at step 5200: 0.113079\n",
      "Minibatch accuracy: 10.0%\n",
      "Minibatch loss at step 5300: 0.114307\n",
      "Minibatch accuracy: 22.5%\n",
      "Minibatch loss at step 5400: 0.074536\n",
      "Minibatch accuracy: 6.0%\n",
      "Minibatch loss at step 5500: 0.137269\n",
      "Minibatch accuracy: 85.5%\n",
      "Minibatch loss at step 5600: 0.125903\n",
      "Minibatch accuracy: 10.0%\n",
      "Test accuracy: 10.2%\n"
     ]
    }
   ],
   "source": [
    "num_steps = 5667\n",
    "\n",
    "with tf.Session(graph=graph) as session:\n",
    "  tf.global_variables_initializer().run()\n",
    "  print('Initialized')\n",
    "  for step in range(num_steps):\n",
    "    offset = (step * batch_size) % (train_labels.shape[0] - batch_size)\n",
    "    batch_data = train_dataset[offset:(offset + batch_size), :, :, :]\n",
    "    batch_labels = train_labels[offset:(offset + batch_size), :]\n",
    "    feed_dict = {tf_train_dataset : batch_data, tf_train_labels : batch_labels}\n",
    "    _, l, predictions = session.run(\n",
    "      [optimizer, loss, train_prediction], feed_dict=feed_dict)\n",
    "    if (step % 100 == 0):\n",
    "      print('Minibatch loss at step %d: %f' % (step, l))\n",
    "      print('Minibatch accuracy: %.1f%%' % accuracy(predictions, batch_labels))\n",
    "  print('Test accuracy: %.1f%%' % accuracy(test_prediction.eval(), test_labels))"
   ]
  },
  {
   "cell_type": "code",
   "execution_count": null,
   "metadata": {
    "collapsed": true
   },
   "outputs": [],
   "source": []
  },
  {
   "cell_type": "code",
   "execution_count": null,
   "metadata": {
    "collapsed": true
   },
   "outputs": [],
   "source": []
  }
 ],
 "metadata": {
  "anaconda-cloud": {},
  "kernelspec": {
   "display_name": "Python [default]",
   "language": "python",
   "name": "python2"
  },
  "language_info": {
   "codemirror_mode": {
    "name": "ipython",
    "version": 2
   },
   "file_extension": ".py",
   "mimetype": "text/x-python",
   "name": "python",
   "nbconvert_exporter": "python",
   "pygments_lexer": "ipython2",
   "version": "2.7.12"
  }
 },
 "nbformat": 4,
 "nbformat_minor": 2
}
