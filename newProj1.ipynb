{
 "cells": [
  {
   "cell_type": "code",
   "execution_count": 1,
   "metadata": {
    "collapsed": true
   },
   "outputs": [],
   "source": [
    "from __future__ import print_function\n",
    "import matplotlib.pyplot as plt\n",
    "import numpy as np\n",
    "import os\n",
    "import sys\n",
    "import tarfile\n",
    "from IPython.display import display, Image\n",
    "from sklearn.linear_model import LogisticRegression\n",
    "from sklearn.linear_model import LinearRegression\n",
    "from scipy import ndimage\n",
    "from six.moves import cPickle as pickle\n",
    "import tensorflow as tf"
   ]
  },
  {
   "cell_type": "code",
   "execution_count": 2,
   "metadata": {
    "collapsed": true
   },
   "outputs": [],
   "source": [
    "train_filename = 'pngResampled1000.tar.gz'\n",
    "test_filename = 'trainsetpngResampled100.tar.gz'"
   ]
  },
  {
   "cell_type": "code",
   "execution_count": 3,
   "metadata": {
    "collapsed": false
   },
   "outputs": [
    {
     "name": "stdout",
     "output_type": "stream",
     "text": [
      "Extracting data for pngResampled1000. This may take a while. Please wait.\n",
      "['pngResampled1000/0', 'pngResampled1000/1', 'pngResampled1000/10', 'pngResampled1000/100', 'pngResampled1000/101', 'pngResampled1000/102', 'pngResampled1000/103', 'pngResampled1000/104', 'pngResampled1000/105', 'pngResampled1000/106', 'pngResampled1000/107', 'pngResampled1000/108', 'pngResampled1000/109', 'pngResampled1000/11', 'pngResampled1000/110', 'pngResampled1000/111', 'pngResampled1000/112', 'pngResampled1000/113', 'pngResampled1000/114', 'pngResampled1000/115', 'pngResampled1000/116', 'pngResampled1000/117', 'pngResampled1000/118', 'pngResampled1000/119', 'pngResampled1000/12', 'pngResampled1000/120', 'pngResampled1000/121', 'pngResampled1000/122', 'pngResampled1000/123', 'pngResampled1000/124', 'pngResampled1000/125', 'pngResampled1000/126', 'pngResampled1000/127', 'pngResampled1000/128', 'pngResampled1000/129', 'pngResampled1000/13', 'pngResampled1000/130', 'pngResampled1000/131', 'pngResampled1000/132', 'pngResampled1000/133', 'pngResampled1000/134', 'pngResampled1000/135', 'pngResampled1000/136', 'pngResampled1000/137', 'pngResampled1000/138', 'pngResampled1000/139', 'pngResampled1000/14', 'pngResampled1000/140', 'pngResampled1000/141', 'pngResampled1000/142', 'pngResampled1000/143', 'pngResampled1000/144', 'pngResampled1000/145', 'pngResampled1000/146', 'pngResampled1000/147', 'pngResampled1000/148', 'pngResampled1000/149', 'pngResampled1000/15', 'pngResampled1000/150', 'pngResampled1000/151', 'pngResampled1000/152', 'pngResampled1000/153', 'pngResampled1000/154', 'pngResampled1000/155', 'pngResampled1000/156', 'pngResampled1000/157', 'pngResampled1000/158', 'pngResampled1000/159', 'pngResampled1000/16', 'pngResampled1000/160', 'pngResampled1000/161', 'pngResampled1000/162', 'pngResampled1000/163', 'pngResampled1000/164', 'pngResampled1000/165', 'pngResampled1000/166', 'pngResampled1000/167', 'pngResampled1000/168', 'pngResampled1000/169', 'pngResampled1000/17', 'pngResampled1000/170', 'pngResampled1000/171', 'pngResampled1000/172', 'pngResampled1000/173', 'pngResampled1000/174', 'pngResampled1000/175', 'pngResampled1000/176', 'pngResampled1000/177', 'pngResampled1000/178', 'pngResampled1000/179', 'pngResampled1000/18', 'pngResampled1000/180', 'pngResampled1000/181', 'pngResampled1000/182', 'pngResampled1000/183', 'pngResampled1000/184', 'pngResampled1000/185', 'pngResampled1000/186', 'pngResampled1000/187', 'pngResampled1000/188', 'pngResampled1000/189', 'pngResampled1000/19', 'pngResampled1000/190', 'pngResampled1000/191', 'pngResampled1000/192', 'pngResampled1000/193', 'pngResampled1000/194', 'pngResampled1000/195', 'pngResampled1000/196', 'pngResampled1000/197', 'pngResampled1000/198', 'pngResampled1000/199', 'pngResampled1000/2', 'pngResampled1000/20', 'pngResampled1000/200', 'pngResampled1000/201', 'pngResampled1000/202', 'pngResampled1000/203', 'pngResampled1000/204', 'pngResampled1000/205', 'pngResampled1000/206', 'pngResampled1000/207', 'pngResampled1000/208', 'pngResampled1000/209', 'pngResampled1000/21', 'pngResampled1000/210', 'pngResampled1000/211', 'pngResampled1000/212', 'pngResampled1000/213', 'pngResampled1000/214', 'pngResampled1000/215', 'pngResampled1000/216', 'pngResampled1000/217', 'pngResampled1000/218', 'pngResampled1000/219', 'pngResampled1000/22', 'pngResampled1000/220', 'pngResampled1000/221', 'pngResampled1000/222', 'pngResampled1000/223', 'pngResampled1000/224', 'pngResampled1000/225', 'pngResampled1000/226', 'pngResampled1000/227', 'pngResampled1000/228', 'pngResampled1000/229', 'pngResampled1000/23', 'pngResampled1000/230', 'pngResampled1000/231', 'pngResampled1000/232', 'pngResampled1000/233', 'pngResampled1000/234', 'pngResampled1000/235', 'pngResampled1000/236', 'pngResampled1000/237', 'pngResampled1000/238', 'pngResampled1000/239', 'pngResampled1000/24', 'pngResampled1000/240', 'pngResampled1000/241', 'pngResampled1000/242', 'pngResampled1000/243', 'pngResampled1000/244', 'pngResampled1000/245', 'pngResampled1000/246', 'pngResampled1000/247', 'pngResampled1000/248', 'pngResampled1000/249', 'pngResampled1000/25', 'pngResampled1000/250', 'pngResampled1000/251', 'pngResampled1000/252', 'pngResampled1000/253', 'pngResampled1000/254', 'pngResampled1000/255', 'pngResampled1000/26', 'pngResampled1000/27', 'pngResampled1000/28', 'pngResampled1000/29', 'pngResampled1000/3', 'pngResampled1000/30', 'pngResampled1000/31', 'pngResampled1000/32', 'pngResampled1000/33', 'pngResampled1000/34', 'pngResampled1000/35', 'pngResampled1000/36', 'pngResampled1000/37', 'pngResampled1000/38', 'pngResampled1000/39', 'pngResampled1000/4', 'pngResampled1000/40', 'pngResampled1000/41', 'pngResampled1000/42', 'pngResampled1000/43', 'pngResampled1000/44', 'pngResampled1000/45', 'pngResampled1000/46', 'pngResampled1000/47', 'pngResampled1000/48', 'pngResampled1000/49', 'pngResampled1000/5', 'pngResampled1000/50', 'pngResampled1000/51', 'pngResampled1000/52', 'pngResampled1000/53', 'pngResampled1000/54', 'pngResampled1000/55', 'pngResampled1000/56', 'pngResampled1000/57', 'pngResampled1000/58', 'pngResampled1000/59', 'pngResampled1000/6', 'pngResampled1000/60', 'pngResampled1000/61', 'pngResampled1000/62', 'pngResampled1000/63', 'pngResampled1000/64', 'pngResampled1000/65', 'pngResampled1000/66', 'pngResampled1000/67', 'pngResampled1000/68', 'pngResampled1000/69', 'pngResampled1000/7', 'pngResampled1000/70', 'pngResampled1000/71', 'pngResampled1000/72', 'pngResampled1000/73', 'pngResampled1000/74', 'pngResampled1000/75', 'pngResampled1000/76', 'pngResampled1000/77', 'pngResampled1000/78', 'pngResampled1000/79', 'pngResampled1000/8', 'pngResampled1000/80', 'pngResampled1000/81', 'pngResampled1000/82', 'pngResampled1000/83', 'pngResampled1000/84', 'pngResampled1000/85', 'pngResampled1000/86', 'pngResampled1000/87', 'pngResampled1000/88', 'pngResampled1000/89', 'pngResampled1000/9', 'pngResampled1000/90', 'pngResampled1000/91', 'pngResampled1000/92', 'pngResampled1000/93', 'pngResampled1000/94', 'pngResampled1000/95', 'pngResampled1000/96', 'pngResampled1000/97', 'pngResampled1000/98', 'pngResampled1000/99']\n",
      "Extracting data for trainsetpngResampled100. This may take a while. Please wait.\n",
      "['trainsetpngResampled100/0', 'trainsetpngResampled100/1', 'trainsetpngResampled100/10', 'trainsetpngResampled100/100', 'trainsetpngResampled100/101', 'trainsetpngResampled100/102', 'trainsetpngResampled100/103', 'trainsetpngResampled100/104', 'trainsetpngResampled100/105', 'trainsetpngResampled100/106', 'trainsetpngResampled100/107', 'trainsetpngResampled100/108', 'trainsetpngResampled100/109', 'trainsetpngResampled100/11', 'trainsetpngResampled100/110', 'trainsetpngResampled100/111', 'trainsetpngResampled100/112', 'trainsetpngResampled100/113', 'trainsetpngResampled100/114', 'trainsetpngResampled100/115', 'trainsetpngResampled100/116', 'trainsetpngResampled100/117', 'trainsetpngResampled100/118', 'trainsetpngResampled100/119', 'trainsetpngResampled100/12', 'trainsetpngResampled100/120', 'trainsetpngResampled100/121', 'trainsetpngResampled100/122', 'trainsetpngResampled100/123', 'trainsetpngResampled100/124', 'trainsetpngResampled100/125', 'trainsetpngResampled100/126', 'trainsetpngResampled100/127', 'trainsetpngResampled100/128', 'trainsetpngResampled100/129', 'trainsetpngResampled100/13', 'trainsetpngResampled100/130', 'trainsetpngResampled100/131', 'trainsetpngResampled100/132', 'trainsetpngResampled100/133', 'trainsetpngResampled100/134', 'trainsetpngResampled100/135', 'trainsetpngResampled100/136', 'trainsetpngResampled100/137', 'trainsetpngResampled100/138', 'trainsetpngResampled100/139', 'trainsetpngResampled100/14', 'trainsetpngResampled100/140', 'trainsetpngResampled100/141', 'trainsetpngResampled100/142', 'trainsetpngResampled100/143', 'trainsetpngResampled100/144', 'trainsetpngResampled100/145', 'trainsetpngResampled100/146', 'trainsetpngResampled100/147', 'trainsetpngResampled100/148', 'trainsetpngResampled100/149', 'trainsetpngResampled100/15', 'trainsetpngResampled100/150', 'trainsetpngResampled100/151', 'trainsetpngResampled100/152', 'trainsetpngResampled100/153', 'trainsetpngResampled100/154', 'trainsetpngResampled100/155', 'trainsetpngResampled100/156', 'trainsetpngResampled100/157', 'trainsetpngResampled100/158', 'trainsetpngResampled100/159', 'trainsetpngResampled100/16', 'trainsetpngResampled100/160', 'trainsetpngResampled100/161', 'trainsetpngResampled100/162', 'trainsetpngResampled100/163', 'trainsetpngResampled100/164', 'trainsetpngResampled100/165', 'trainsetpngResampled100/166', 'trainsetpngResampled100/167', 'trainsetpngResampled100/168', 'trainsetpngResampled100/169', 'trainsetpngResampled100/17', 'trainsetpngResampled100/170', 'trainsetpngResampled100/171', 'trainsetpngResampled100/172', 'trainsetpngResampled100/173', 'trainsetpngResampled100/174', 'trainsetpngResampled100/175', 'trainsetpngResampled100/176', 'trainsetpngResampled100/177', 'trainsetpngResampled100/178', 'trainsetpngResampled100/179', 'trainsetpngResampled100/18', 'trainsetpngResampled100/180', 'trainsetpngResampled100/181', 'trainsetpngResampled100/182', 'trainsetpngResampled100/183', 'trainsetpngResampled100/184', 'trainsetpngResampled100/185', 'trainsetpngResampled100/186', 'trainsetpngResampled100/187', 'trainsetpngResampled100/188', 'trainsetpngResampled100/189', 'trainsetpngResampled100/19', 'trainsetpngResampled100/190', 'trainsetpngResampled100/191', 'trainsetpngResampled100/192', 'trainsetpngResampled100/193', 'trainsetpngResampled100/194', 'trainsetpngResampled100/195', 'trainsetpngResampled100/196', 'trainsetpngResampled100/197', 'trainsetpngResampled100/198', 'trainsetpngResampled100/199', 'trainsetpngResampled100/2', 'trainsetpngResampled100/20', 'trainsetpngResampled100/200', 'trainsetpngResampled100/201', 'trainsetpngResampled100/202', 'trainsetpngResampled100/203', 'trainsetpngResampled100/204', 'trainsetpngResampled100/205', 'trainsetpngResampled100/206', 'trainsetpngResampled100/207', 'trainsetpngResampled100/208', 'trainsetpngResampled100/209', 'trainsetpngResampled100/21', 'trainsetpngResampled100/210', 'trainsetpngResampled100/211', 'trainsetpngResampled100/212', 'trainsetpngResampled100/213', 'trainsetpngResampled100/214', 'trainsetpngResampled100/215', 'trainsetpngResampled100/216', 'trainsetpngResampled100/217', 'trainsetpngResampled100/218', 'trainsetpngResampled100/219', 'trainsetpngResampled100/22', 'trainsetpngResampled100/220', 'trainsetpngResampled100/221', 'trainsetpngResampled100/222', 'trainsetpngResampled100/223', 'trainsetpngResampled100/224', 'trainsetpngResampled100/225', 'trainsetpngResampled100/226', 'trainsetpngResampled100/227', 'trainsetpngResampled100/228', 'trainsetpngResampled100/229', 'trainsetpngResampled100/23', 'trainsetpngResampled100/230', 'trainsetpngResampled100/231', 'trainsetpngResampled100/232', 'trainsetpngResampled100/233', 'trainsetpngResampled100/234', 'trainsetpngResampled100/235', 'trainsetpngResampled100/236', 'trainsetpngResampled100/237', 'trainsetpngResampled100/238', 'trainsetpngResampled100/239', 'trainsetpngResampled100/24', 'trainsetpngResampled100/240', 'trainsetpngResampled100/241', 'trainsetpngResampled100/242', 'trainsetpngResampled100/243', 'trainsetpngResampled100/244', 'trainsetpngResampled100/245', 'trainsetpngResampled100/246', 'trainsetpngResampled100/247', 'trainsetpngResampled100/248', 'trainsetpngResampled100/249', 'trainsetpngResampled100/25', 'trainsetpngResampled100/250', 'trainsetpngResampled100/251', 'trainsetpngResampled100/252', 'trainsetpngResampled100/253', 'trainsetpngResampled100/254', 'trainsetpngResampled100/255', 'trainsetpngResampled100/26', 'trainsetpngResampled100/27', 'trainsetpngResampled100/28', 'trainsetpngResampled100/29', 'trainsetpngResampled100/3', 'trainsetpngResampled100/30', 'trainsetpngResampled100/31', 'trainsetpngResampled100/32', 'trainsetpngResampled100/33', 'trainsetpngResampled100/34', 'trainsetpngResampled100/35', 'trainsetpngResampled100/36', 'trainsetpngResampled100/37', 'trainsetpngResampled100/38', 'trainsetpngResampled100/39', 'trainsetpngResampled100/4', 'trainsetpngResampled100/40', 'trainsetpngResampled100/41', 'trainsetpngResampled100/42', 'trainsetpngResampled100/43', 'trainsetpngResampled100/44', 'trainsetpngResampled100/45', 'trainsetpngResampled100/46', 'trainsetpngResampled100/47', 'trainsetpngResampled100/48', 'trainsetpngResampled100/49', 'trainsetpngResampled100/5', 'trainsetpngResampled100/50', 'trainsetpngResampled100/51', 'trainsetpngResampled100/52', 'trainsetpngResampled100/53', 'trainsetpngResampled100/54', 'trainsetpngResampled100/55', 'trainsetpngResampled100/56', 'trainsetpngResampled100/57', 'trainsetpngResampled100/58', 'trainsetpngResampled100/59', 'trainsetpngResampled100/6', 'trainsetpngResampled100/60', 'trainsetpngResampled100/61', 'trainsetpngResampled100/62', 'trainsetpngResampled100/63', 'trainsetpngResampled100/64', 'trainsetpngResampled100/65', 'trainsetpngResampled100/66', 'trainsetpngResampled100/67', 'trainsetpngResampled100/68', 'trainsetpngResampled100/69', 'trainsetpngResampled100/7', 'trainsetpngResampled100/70', 'trainsetpngResampled100/71', 'trainsetpngResampled100/72', 'trainsetpngResampled100/73', 'trainsetpngResampled100/74', 'trainsetpngResampled100/75', 'trainsetpngResampled100/76', 'trainsetpngResampled100/77', 'trainsetpngResampled100/78', 'trainsetpngResampled100/79', 'trainsetpngResampled100/8', 'trainsetpngResampled100/80', 'trainsetpngResampled100/81', 'trainsetpngResampled100/82', 'trainsetpngResampled100/83', 'trainsetpngResampled100/84', 'trainsetpngResampled100/85', 'trainsetpngResampled100/86', 'trainsetpngResampled100/87', 'trainsetpngResampled100/88', 'trainsetpngResampled100/89', 'trainsetpngResampled100/9', 'trainsetpngResampled100/90', 'trainsetpngResampled100/91', 'trainsetpngResampled100/92', 'trainsetpngResampled100/93', 'trainsetpngResampled100/94', 'trainsetpngResampled100/95', 'trainsetpngResampled100/96', 'trainsetpngResampled100/97', 'trainsetpngResampled100/98', 'trainsetpngResampled100/99']\n"
     ]
    }
   ],
   "source": [
    "# extracting the datasets\n",
    "num_classes = 256\n",
    "np.random.seed(133)\n",
    "\n",
    "def maybe_extract(filename, force=False):\n",
    "  root = os.path.splitext(os.path.splitext(filename)[0])[0]  # remove .tar.gz\n",
    "  if os.path.isdir(root) and not force:\n",
    "    # You may override by setting force=True.\n",
    "    print('%s already present - Skipping extraction of %s.' % (root, filename))\n",
    "  else:\n",
    "    print('Extracting data for %s. This may take a while. Please wait.' % root)\n",
    "    tar = tarfile.open(filename)\n",
    "    sys.stdout.flush()\n",
    "    tar.extractall()\n",
    "    tar.close()\n",
    "  data_folders = [\n",
    "    os.path.join(root, d) for d in sorted(os.listdir(root))\n",
    "    if os.path.isdir(os.path.join(root, d))]\n",
    "  if len(data_folders) != num_classes:\n",
    "    raise Exception(\n",
    "      'Expected %d folders, one per class. Found %d instead.' % (\n",
    "        num_classes, len(data_folders)))\n",
    "  print(data_folders)\n",
    "  return data_folders\n",
    "  \n",
    "train_folders = maybe_extract(train_filename)\n",
    "test_folders = maybe_extract(test_filename)"
   ]
  },
  {
   "cell_type": "code",
   "execution_count": 5,
   "metadata": {
    "collapsed": true
   },
   "outputs": [],
   "source": [
    "# have a look at data\n",
    "import random\n",
    "import hashlib\n",
    "\n",
    "def disp_samples(data_folders, sample_size):\n",
    "  for folder in data_folders:\n",
    "    print(folder)\n",
    "    image_files = os.listdir(folder)\n",
    "    image_sample = random.sample(image_files, sample_size)\n",
    "    for image in image_sample:\n",
    "      image_file = os.path.join(folder, image)\n",
    "      i = Image(filename=image_file)\n",
    "      display(i)"
   ]
  },
  {
   "cell_type": "code",
   "execution_count": 6,
   "metadata": {
    "collapsed": false
   },
   "outputs": [
    {
     "name": "stdout",
     "output_type": "stream",
     "text": [
      "pngResampled1000/0\n"
     ]
    },
    {
     "data": {
      "image/png": "[encoded data removed]",
      "text/plain": [
       "<IPython.core.display.Image object>"
      ]
     },
     "metadata": {},
     "output_type": "display_data"
    },
    {
     "name": "stdout",
     "output_type": "stream",
     "text": [
      "pngResampled1000/1\n"
     ]
    },
    {
     "data": {
      "image/png": "[encoded data removed]",
      "text/plain": [
       "<IPython.core.display.Image object>"
      ]
     },
     "metadata": {},
     "output_type": "display_data"
    },
    {
     "name": "stdout",
     "output_type": "stream",
     "text": [
      "pngResampled1000/10\n"
     ]
    },
    {
     "data": {
      "image/png": "[encoded data removed]",
      "text/plain": [
       "<IPython.core.display.Image object>"
      ]
     },
     "metadata": {},
     "output_type": "display_data"
    },
    {
     "name": "stdout",
     "output_type": "stream",
     "text": [
      "pngResampled1000/100\n"
     ]
    },
    {
     "data": {
      "image/png": "[encoded data removed]",
      "text/plain": [
       "<IPython.core.display.Image object>"
      ]
     },
     "metadata": {},
     "output_type": "display_data"
    },
    {
     "name": "stdout",
     "output_type": "stream",
     "text": [
      "pngResampled1000/101\n"
     ]
    },
    {
     "data": {
      "image/png": "[encoded data removed]",
      "text/plain": [
       "<IPython.core.display.Image object>"
      ]
     },
     "metadata": {},
     "output_type": "display_data"
    },
    {
     "name": "stdout",
     "output_type": "stream",
     "text": [
      "pngResampled1000/102\n"
     ]
    },
    {
     "data": {
      "image/png": "[encoded data removed]",
      "text/plain": [
       "<IPython.core.display.Image object>"
      ]
     },
     "metadata": {},
     "output_type": "display_data"
    },
    {
     "name": "stdout",
     "output_type": "stream",
     "text": [
      "pngResampled1000/103\n"
     ]
    },
    {
     "data": {
      "image/png": "[encoded data removed]",
      "text/plain": [
       "<IPython.core.display.Image object>"
      ]
     },
     "metadata": {},
     "output_type": "display_data"
    },
    {
     "name": "stdout",
     "output_type": "stream",
     "text": [
      "pngResampled1000/104\n"
     ]
    },
    {
     "data": {
      "image/png": "[encoded data removed]",
      "text/plain": [
       "<IPython.core.display.Image object>"
      ]
     },
     "metadata": {},
     "output_type": "display_data"
    },
    {
     "name": "stdout",
     "output_type": "stream",
     "text": [
      "pngResampled1000/105\n"
     ]
    },
    {
     "data": {
      "image/png": "[encoded data removed]",
      "text/plain": [
       "<IPython.core.display.Image object>"
      ]
     },
     "metadata": {},
     "output_type": "display_data"
    },
    {
     "name": "stdout",
     "output_type": "stream",
     "text": [
      "pngResampled1000/106\n"
     ]
    },
    {
     "data": {
      "image/png": "[encoded data removed]",
      "text/plain": [
       "<IPython.core.display.Image object>"
      ]
     },
     "metadata": {},
     "output_type": "display_data"
    },
    {
     "name": "stdout",
     "output_type": "stream",
     "text": [
      "pngResampled1000/107\n"
     ]
    },
    {
     "data": {
      "image/png": "[encoded data removed]",
      "text/plain": [
       "<IPython.core.display.Image object>"
      ]
     },
     "metadata": {},
     "output_type": "display_data"
    },
    {
     "name": "stdout",
     "output_type": "stream",
     "text": [
      "pngResampled1000/108\n"
     ]
    },
    {
     "data": {
      "image/png": "[encoded data removed]",
      "text/plain": [
       "<IPython.core.display.Image object>"
      ]
     },
     "metadata": {},
     "output_type": "display_data"
    },
    {
     "name": "stdout",
     "output_type": "stream",
     "text": [
      "pngResampled1000/109\n"
     ]
    },
    {
     "data": {
      "image/png": "[encoded data removed]",
      "text/plain": [
       "<IPython.core.display.Image object>"
      ]
     },
     "metadata": {},
     "output_type": "display_data"
    },
    {
     "name": "stdout",
     "output_type": "stream",
     "text": [
      "pngResampled1000/11\n"
     ]
    },
    {
     "data": {
      "image/png": "[encoded data removed]",
      "text/plain": [
       "<IPython.core.display.Image object>"
      ]
     },
     "metadata": {},
     "output_type": "display_data"
    },
    {
     "name": "stdout",
     "output_type": "stream",
     "text": [
      "pngResampled1000/110\n"
     ]
    },
    {
     "data": {
      "image/png": "[encoded data removed]",
      "text/plain": [
       "<IPython.core.display.Image object>"
      ]
     },
     "metadata": {},
     "output_type": "display_data"
    },
    {
     "name": "stdout",
     "output_type": "stream",
     "text": [
      "pngResampled1000/111\n"
     ]
    },
    {
     "data": {
      "image/png": "[encoded data removed]",
      "text/plain": [
       "<IPython.core.display.Image object>"
      ]
     },
     "metadata": {},
     "output_type": "display_data"
    },
    {
     "name": "stdout",
     "output_type": "stream",
     "text": [
      "pngResampled1000/112\n"
     ]
    },
    {
     "data": {
      "image/png": "[encoded data removed]",
      "text/plain": [
       "<IPython.core.display.Image object>"
      ]
     },
     "metadata": {},
     "output_type": "display_data"
    },
    {
     "name": "stdout",
     "output_type": "stream",
     "text": [
      "pngResampled1000/113\n"
     ]
    },
    {
     "data": {
      "image/png": "[encoded data removed]",
      "text/plain": [
       "<IPython.core.display.Image object>"
      ]
     },
     "metadata": {},
     "output_type": "display_data"
    },
    {
     "name": "stdout",
     "output_type": "stream",
     "text": [
      "pngResampled1000/114\n"
     ]
    },
    {
     "data": {
      "image/png": "[encoded data removed]",
      "text/plain": [
       "<IPython.core.display.Image object>"
      ]
     },
     "metadata": {},
     "output_type": "display_data"
    },
    {
     "name": "stdout",
     "output_type": "stream",
     "text": [
      "pngResampled1000/115\n"
     ]
    },
    {
     "data": {
      "image/png": "[encoded data removed]",
      "text/plain": [
       "<IPython.core.display.Image object>"
      ]
     },
     "metadata": {},
     "output_type": "display_data"
    },
    {
     "name": "stdout",
     "output_type": "stream",
     "text": [
      "pngResampled1000/116\n"
     ]
    },
    {
     "data": {
      "image/png": "[encoded data removed]",
      "text/plain": [
       "<IPython.core.display.Image object>"
      ]
     },
     "metadata": {},
     "output_type": "display_data"
    },
    {
     "name": "stdout",
     "output_type": "stream",
     "text": [
      "pngResampled1000/117\n"
     ]
    },
    {
     "data": {
      "image/png": "[encoded data removed]",
      "text/plain": [
       "<IPython.core.display.Image object>"
      ]
     },
     "metadata": {},
     "output_type": "display_data"
    },
    {
     "name": "stdout",
     "output_type": "stream",
     "text": [
      "pngResampled1000/118\n"
     ]
    },
    {
     "data": {
      "image/png": "[encoded data removed]",
      "text/plain": [
       "<IPython.core.display.Image object>"
      ]
     },
     "metadata": {},
     "output_type": "display_data"
    },
    {
     "name": "stdout",
     "output_type": "stream",
     "text": [
      "pngResampled1000/119\n"
     ]
    },
    {
     "data": {
      "image/png": "[encoded data removed]",
      "text/plain": [
       "<IPython.core.display.Image object>"
      ]
     },
     "metadata": {},
     "output_type": "display_data"
    },
    {
     "name": "stdout",
     "output_type": "stream",
     "text": [
      "pngResampled1000/12\n"
     ]
    },
    {
     "data": {
      "image/png": "[encoded data removed]",
      "text/plain": [
       "<IPython.core.display.Image object>"
      ]
     },
     "metadata": {},
     "output_type": "display_data"
    },
    {
     "name": "stdout",
     "output_type": "stream",
     "text": [
      "pngResampled1000/120\n"
     ]
    },
    {
     "data": {
      "image/png": "[encoded data removed]",
      "text/plain": [
       "<IPython.core.display.Image object>"
      ]
     },
     "metadata": {},
     "output_type": "display_data"
    },
    {
     "name": "stdout",
     "output_type": "stream",
     "text": [
      "pngResampled1000/121\n"
     ]
    },
    {
     "data": {
      "image/png": "[encoded data removed]",
      "text/plain": [
       "<IPython.core.display.Image object>"
      ]
     },
     "metadata": {},
     "output_type": "display_data"
    },
    {
     "name": "stdout",
     "output_type": "stream",
     "text": [
      "pngResampled1000/122\n"
     ]
    },
    {
     "data": {
      "image/png": "[encoded data removed]",
      "text/plain": [
       "<IPython.core.display.Image object>"
      ]
     },
     "metadata": {},
     "output_type": "display_data"
    },
    {
     "name": "stdout",
     "output_type": "stream",
     "text": [
      "pngResampled1000/123\n"
     ]
    },
    {
     "data": {
      "image/png": "[encoded data removed]",
      "text/plain": [
       "<IPython.core.display.Image object>"
      ]
     },
     "metadata": {},
     "output_type": "display_data"
    },
    {
     "name": "stdout",
     "output_type": "stream",
     "text": [
      "pngResampled1000/124\n"
     ]
    },
    {
     "data": {
      "image/png": "[encoded data removed]",
      "text/plain": [
       "<IPython.core.display.Image object>"
      ]
     },
     "metadata": {},
     "output_type": "display_data"
    },
    {
     "name": "stdout",
     "output_type": "stream",
     "text": [
      "pngResampled1000/125\n"
     ]
    },
    {
     "data": {
      "image/png": "[encoded data removed]",
      "text/plain": [
       "<IPython.core.display.Image object>"
      ]
     },
     "metadata": {},
     "output_type": "display_data"
    },
    {
     "name": "stdout",
     "output_type": "stream",
     "text": [
      "pngResampled1000/126\n"
     ]
    },
    {
     "data": {
      "image/png": "[encoded data removed]",
      "text/plain": [
       "<IPython.core.display.Image object>"
      ]
     },
     "metadata": {},
     "output_type": "display_data"
    },
    {
     "name": "stdout",
     "output_type": "stream",
     "text": [
      "pngResampled1000/127\n"
     ]
    },
    {
     "data": {
      "image/png": "[encoded data removed]",
      "text/plain": [
       "<IPython.core.display.Image object>"
      ]
     },
     "metadata": {},
     "output_type": "display_data"
    },
    {
     "name": "stdout",
     "output_type": "stream",
     "text": [
      "pngResampled1000/128\n"
     ]
    },
    {
     "data": {
      "image/png": "[encoded data removed]",
      "text/plain": [
       "<IPython.core.display.Image object>"
      ]
     },
     "metadata": {},
     "output_type": "display_data"
    },
    {
     "name": "stdout",
     "output_type": "stream",
     "text": [
      "pngResampled1000/129\n"
     ]
    },
    {
     "data": {
      "image/png": "[encoded data removed]",
      "text/plain": [
       "<IPython.core.display.Image object>"
      ]
     },
     "metadata": {},
     "output_type": "display_data"
    },
    {
     "name": "stdout",
     "output_type": "stream",
     "text": [
      "pngResampled1000/13\n"
     ]
    },
    {
     "data": {
      "image/png": "[encoded data removed]",
      "text/plain": [
       "<IPython.core.display.Image object>"
      ]
     },
     "metadata": {},
     "output_type": "display_data"
    },
    {
     "name": "stdout",
     "output_type": "stream",
     "text": [
      "pngResampled1000/130\n"
     ]
    },
    {
     "data": {
      "image/png": "[encoded data removed]",
      "text/plain": [
       "<IPython.core.display.Image object>"
      ]
     },
     "metadata": {},
     "output_type": "display_data"
    },
    {
     "name": "stdout",
     "output_type": "stream",
     "text": [
      "pngResampled1000/131\n"
     ]
    },
    {
     "data": {
      "image/png": "[encoded data removed]",
      "text/plain": [
       "<IPython.core.display.Image object>"
      ]
     },
     "metadata": {},
     "output_type": "display_data"
    },
    {
     "name": "stdout",
     "output_type": "stream",
     "text": [
      "pngResampled1000/132\n"
     ]
    },
    {
     "data": {
      "image/png": "[encoded data removed]",
      "text/plain": [
       "<IPython.core.display.Image object>"
      ]
     },
     "metadata": {},
     "output_type": "display_data"
    },
    {
     "name": "stdout",
     "output_type": "stream",
     "text": [
      "pngResampled1000/133\n"
     ]
    },
    {
     "data": {
      "image/png": "[encoded data removed]",
      "text/plain": [
       "<IPython.core.display.Image object>"
      ]
     },
     "metadata": {},
     "output_type": "display_data"
    },
    {
     "name": "stdout",
     "output_type": "stream",
     "text": [
      "pngResampled1000/134\n"
     ]
    },
    {
     "data": {
      "image/png": "[encoded data removed]",
      "text/plain": [
       "<IPython.core.display.Image object>"
      ]
     },
     "metadata": {},
     "output_type": "display_data"
    },
    {
     "name": "stdout",
     "output_type": "stream",
     "text": [
      "pngResampled1000/135\n"
     ]
    },
    {
     "data": {
      "image/png": "[encoded data removed]",
      "text/plain": [
       "<IPython.core.display.Image object>"
      ]
     },
     "metadata": {},
     "output_type": "display_data"
    },
    {
     "name": "stdout",
     "output_type": "stream",
     "text": [
      "pngResampled1000/136\n"
     ]
    },
    {
     "data": {
      "image/png": "[encoded data removed]",
      "text/plain": [
       "<IPython.core.display.Image object>"
      ]
     },
     "metadata": {},
     "output_type": "display_data"
    },
    {
     "name": "stdout",
     "output_type": "stream",
     "text": [
      "pngResampled1000/137\n"
     ]
    },
    {
     "data": {
      "image/png": "[encoded data removed]",
      "text/plain": [
       "<IPython.core.display.Image object>"
      ]
     },
     "metadata": {},
     "output_type": "display_data"
    },
    {
     "name": "stdout",
     "output_type": "stream",
     "text": [
      "pngResampled1000/138\n"
     ]
    },
    {
     "data": {
      "image/png": "[encoded data removed]",
      "text/plain": [
       "<IPython.core.display.Image object>"
      ]
     },
     "metadata": {},
     "output_type": "display_data"
    },
    {
     "name": "stdout",
     "output_type": "stream",
     "text": [
      "pngResampled1000/139\n"
     ]
    },
    {
     "data": {
      "image/png": "[encoded data removed]",
      "text/plain": [
       "<IPython.core.display.Image object>"
      ]
     },
     "metadata": {},
     "output_type": "display_data"
    },
    {
     "name": "stdout",
     "output_type": "stream",
     "text": [
      "pngResampled1000/14\n"
     ]
    },
    {
     "data": {
      "image/png": "[encoded data removed]",
      "text/plain": [
       "<IPython.core.display.Image object>"
      ]
     },
     "metadata": {},
     "output_type": "display_data"
    },
    {
     "name": "stdout",
     "output_type": "stream",
     "text": [
      "pngResampled1000/140\n"
     ]
    },
    {
     "data": {
      "image/png": "[encoded data removed]",
      "text/plain": [
       "<IPython.core.display.Image object>"
      ]
     },
     "metadata": {},
     "output_type": "display_data"
    },
    {
     "name": "stdout",
     "output_type": "stream",
     "text": [
      "pngResampled1000/141\n"
     ]
    },
    {
     "data": {
      "image/png": "[encoded data removed]",
      "text/plain": [
       "<IPython.core.display.Image object>"
      ]
     },
     "metadata": {},
     "output_type": "display_data"
    },
    {
     "name": "stdout",
     "output_type": "stream",
     "text": [
      "pngResampled1000/142\n"
     ]
    },
    {
     "data": {
      "image/png": "[encoded data removed]",
      "text/plain": [
       "<IPython.core.display.Image object>"
      ]
     },
     "metadata": {},
     "output_type": "display_data"
    },
    {
     "name": "stdout",
     "output_type": "stream",
     "text": [
      "pngResampled1000/143\n"
     ]
    },
    {
     "data": {
      "image/png": "[encoded data removed]",
      "text/plain": [
       "<IPython.core.display.Image object>"
      ]
     },
     "metadata": {},
     "output_type": "display_data"
    },
    {
     "name": "stdout",
     "output_type": "stream",
     "text": [
      "pngResampled1000/144\n"
     ]
    },
    {
     "data": {
      "image/png": "[encoded data removed]",
      "text/plain": [
       "<IPython.core.display.Image object>"
      ]
     },
     "metadata": {},
     "output_type": "display_data"
    },
    {
     "name": "stdout",
     "output_type": "stream",
     "text": [
      "pngResampled1000/145\n"
     ]
    },
    {
     "data": {
      "image/png": "[encoded data removed]",
      "text/plain": [
       "<IPython.core.display.Image object>"
      ]
     },
     "metadata": {},
     "output_type": "display_data"
    },
    {
     "name": "stdout",
     "output_type": "stream",
     "text": [
      "pngResampled1000/146\n"
     ]
    },
    {
     "data": {
      "image/png": "[encoded data removed]",
      "text/plain": [
       "<IPython.core.display.Image object>"
      ]
     },
     "metadata": {},
     "output_type": "display_data"
    },
    {
     "name": "stdout",
     "output_type": "stream",
     "text": [
      "pngResampled1000/147\n"
     ]
    },
    {
     "data": {
      "image/png": "[encoded data removed]",
      "text/plain": [
       "<IPython.core.display.Image object>"
      ]
     },
     "metadata": {},
     "output_type": "display_data"
    },
    {
     "name": "stdout",
     "output_type": "stream",
     "text": [
      "pngResampled1000/148\n"
     ]
    },
    {
     "data": {
      "image/png": "[encoded data removed]",
      "text/plain": [
       "<IPython.core.display.Image object>"
      ]
     },
     "metadata": {},
     "output_type": "display_data"
    },
    {
     "name": "stdout",
     "output_type": "stream",
     "text": [
      "pngResampled1000/149\n"
     ]
    },
    {
     "data": {
      "image/png": "[encoded data removed]",
      "text/plain": [
       "<IPython.core.display.Image object>"
      ]
     },
     "metadata": {},
     "output_type": "display_data"
    },
    {
     "name": "stdout",
     "output_type": "stream",
     "text": [
      "pngResampled1000/15\n"
     ]
    },
    {
     "data": {
      "image/png": "[encoded data removed]",
      "text/plain": [
       "<IPython.core.display.Image object>"
      ]
     },
     "metadata": {},
     "output_type": "display_data"
    },
    {
     "name": "stdout",
     "output_type": "stream",
     "text": [
      "pngResampled1000/150\n"
     ]
    },
    {
     "data": {
      "image/png": "[encoded data removed]",
      "text/plain": [
       "<IPython.core.display.Image object>"
      ]
     },
     "metadata": {},
     "output_type": "display_data"
    },
    {
     "name": "stdout",
     "output_type": "stream",
     "text": [
      "pngResampled1000/151\n"
     ]
    },
    {
     "data": {
      "image/png": "[encoded data removed]",
      "text/plain": [
       "<IPython.core.display.Image object>"
      ]
     },
     "metadata": {},
     "output_type": "display_data"
    },
    {
     "name": "stdout",
     "output_type": "stream",
     "text": [
      "pngResampled1000/152\n"
     ]
    },
    {
     "data": {
      "image/png": "[encoded data removed]",
      "text/plain": [
       "<IPython.core.display.Image object>"
      ]
     },
     "metadata": {},
     "output_type": "display_data"
    },
    {
     "name": "stdout",
     "output_type": "stream",
     "text": [
      "pngResampled1000/153\n"
     ]
    },
    {
     "data": {
      "image/png": "[encoded data removed]",
      "text/plain": [
       "<IPython.core.display.Image object>"
      ]
     },
     "metadata": {},
     "output_type": "display_data"
    },
    {
     "name": "stdout",
     "output_type": "stream",
     "text": [
      "pngResampled1000/154\n"
     ]
    },
    {
     "data": {
      "image/png": "[encoded data removed]",
      "text/plain": [
       "<IPython.core.display.Image object>"
      ]
     },
     "metadata": {},
     "output_type": "display_data"
    },
    {
     "name": "stdout",
     "output_type": "stream",
     "text": [
      "pngResampled1000/155\n"
     ]
    },
    {
     "data": {
      "image/png": "[encoded data removed]",
      "text/plain": [
       "<IPython.core.display.Image object>"
      ]
     },
     "metadata": {},
     "output_type": "display_data"
    },
    {
     "name": "stdout",
     "output_type": "stream",
     "text": [
      "pngResampled1000/156\n"
     ]
    },
    {
     "data": {
      "image/png": "[encoded data removed]",
      "text/plain": [
       "<IPython.core.display.Image object>"
      ]
     },
     "metadata": {},
     "output_type": "display_data"
    },
    {
     "name": "stdout",
     "output_type": "stream",
     "text": [
      "pngResampled1000/157\n"
     ]
    },
    {
     "data": {
      "image/png": "[encoded data removed]",
      "text/plain": [
       "<IPython.core.display.Image object>"
      ]
     },
     "metadata": {},
     "output_type": "display_data"
    },
    {
     "name": "stdout",
     "output_type": "stream",
     "text": [
      "pngResampled1000/158\n"
     ]
    },
    {
     "data": {
      "image/png": "[encoded data removed]",
      "text/plain": [
       "<IPython.core.display.Image object>"
      ]
     },
     "metadata": {},
     "output_type": "display_data"
    },
    {
     "name": "stdout",
     "output_type": "stream",
     "text": [
      "pngResampled1000/159\n"
     ]
    },
    {
     "data": {
      "image/png": "[encoded data removed]",
      "text/plain": [
       "<IPython.core.display.Image object>"
      ]
     },
     "metadata": {},
     "output_type": "display_data"
    },
    {
     "name": "stdout",
     "output_type": "stream",
     "text": [
      "pngResampled1000/16\n"
     ]
    },
    {
     "data": {
      "image/png": "[encoded data removed]",
      "text/plain": [
       "<IPython.core.display.Image object>"
      ]
     },
     "metadata": {},
     "output_type": "display_data"
    },
    {
     "name": "stdout",
     "output_type": "stream",
     "text": [
      "pngResampled1000/160\n"
     ]
    },
    {
     "data": {
      "image/png": "[encoded data removed]",
      "text/plain": [
       "<IPython.core.display.Image object>"
      ]
     },
     "metadata": {},
     "output_type": "display_data"
    },
    {
     "name": "stdout",
     "output_type": "stream",
     "text": [
      "pngResampled1000/161\n"
     ]
    },
    {
     "data": {
      "image/png": "[encoded data removed]",
      "text/plain": [
       "<IPython.core.display.Image object>"
      ]
     },
     "metadata": {},
     "output_type": "display_data"
    },
    {
     "name": "stdout",
     "output_type": "stream",
     "text": [
      "pngResampled1000/162\n"
     ]
    },
    {
     "data": {
      "image/png": "[encoded data removed]",
      "text/plain": [
       "<IPython.core.display.Image object>"
      ]
     },
     "metadata": {},
     "output_type": "display_data"
    },
    {
     "name": "stdout",
     "output_type": "stream",
     "text": [
      "pngResampled1000/163\n"
     ]
    },
    {
     "data": {
      "image/png": "[encoded data removed]",
      "text/plain": [
       "<IPython.core.display.Image object>"
      ]
     },
     "metadata": {},
     "output_type": "display_data"
    },
    {
     "name": "stdout",
     "output_type": "stream",
     "text": [
      "pngResampled1000/164\n"
     ]
    },
    {
     "data": {
      "image/png": "[encoded data removed]",
      "text/plain": [
       "<IPython.core.display.Image object>"
      ]
     },
     "metadata": {},
     "output_type": "display_data"
    },
    {
     "name": "stdout",
     "output_type": "stream",
     "text": [
      "pngResampled1000/165\n"
     ]
    },
    {
     "data": {
      "image/png": "[encoded data removed]",
      "text/plain": [
       "<IPython.core.display.Image object>"
      ]
     },
     "metadata": {},
     "output_type": "display_data"
    },
    {
     "name": "stdout",
     "output_type": "stream",
     "text": [
      "pngResampled1000/166\n"
     ]
    },
    {
     "data": {
      "image/png": "[encoded data removed]",
      "text/plain": [
       "<IPython.core.display.Image object>"
      ]
     },
     "metadata": {},
     "output_type": "display_data"
    },
    {
     "name": "stdout",
     "output_type": "stream",
     "text": [
      "pngResampled1000/167\n"
     ]
    },
    {
     "data": {
      "image/png": "[encoded data removed]",
      "text/plain": [
       "<IPython.core.display.Image object>"
      ]
     },
     "metadata": {},
     "output_type": "display_data"
    },
    {
     "name": "stdout",
     "output_type": "stream",
     "text": [
      "pngResampled1000/168\n"
     ]
    },
    {
     "data": {
      "image/png": "[encoded data removed]",
      "text/plain": [
       "<IPython.core.display.Image object>"
      ]
     },
     "metadata": {},
     "output_type": "display_data"
    },
    {
     "name": "stdout",
     "output_type": "stream",
     "text": [
      "pngResampled1000/169\n"
     ]
    },
    {
     "data": {
      "image/png": "[encoded data removed]",
      "text/plain": [
       "<IPython.core.display.Image object>"
      ]
     },
     "metadata": {},
     "output_type": "display_data"
    },
    {
     "name": "stdout",
     "output_type": "stream",
     "text": [
      "pngResampled1000/17\n"
     ]
    },
    {
     "data": {
      "image/png": "[encoded data removed]",
      "text/plain": [
       "<IPython.core.display.Image object>"
      ]
     },
     "metadata": {},
     "output_type": "display_data"
    },
    {
     "name": "stdout",
     "output_type": "stream",
     "text": [
      "pngResampled1000/170\n"
     ]
    },
    {
     "data": {
      "image/png": "[encoded data removed]",
      "text/plain": [
       "<IPython.core.display.Image object>"
      ]
     },
     "metadata": {},
     "output_type": "display_data"
    },
    {
     "name": "stdout",
     "output_type": "stream",
     "text": [
      "pngResampled1000/171\n"
     ]
    },
    {
     "data": {
      "image/png": "[encoded data removed]",
      "text/plain": [
       "<IPython.core.display.Image object>"
      ]
     },
     "metadata": {},
     "output_type": "display_data"
    },
    {
     "name": "stdout",
     "output_type": "stream",
     "text": [
      "pngResampled1000/172\n"
     ]
    },
    {
     "data": {
      "image/png": "[encoded data removed]",
      "text/plain": [
       "<IPython.core.display.Image object>"
      ]
     },
     "metadata": {},
     "output_type": "display_data"
    },
    {
     "name": "stdout",
     "output_type": "stream",
     "text": [
      "pngResampled1000/173\n"
     ]
    },
    {
     "data": {
      "image/png": "[encoded data removed]",
      "text/plain": [
       "<IPython.core.display.Image object>"
      ]
     },
     "metadata": {},
     "output_type": "display_data"
    },
    {
     "name": "stdout",
     "output_type": "stream",
     "text": [
      "pngResampled1000/174\n"
     ]
    },
    {
     "data": {
      "image/png": "[encoded data removed]",
      "text/plain": [
       "<IPython.core.display.Image object>"
      ]
     },
     "metadata": {},
     "output_type": "display_data"
    },
    {
     "name": "stdout",
     "output_type": "stream",
     "text": [
      "pngResampled1000/175\n"
     ]
    },
    {
     "data": {
      "image/png": "[encoded data removed]",
      "text/plain": [
       "<IPython.core.display.Image object>"
      ]
     },
     "metadata": {},
     "output_type": "display_data"
    },
    {
     "name": "stdout",
     "output_type": "stream",
     "text": [
      "pngResampled1000/176\n"
     ]
    },
    {
     "data": {
      "image/png": "[encoded data removed]",
      "text/plain": [
       "<IPython.core.display.Image object>"
      ]
     },
     "metadata": {},
     "output_type": "display_data"
    },
    {
     "name": "stdout",
     "output_type": "stream",
     "text": [
      "pngResampled1000/177\n"
     ]
    },
    {
     "data": {
      "image/png": "[encoded data removed]",
      "text/plain": [
       "<IPython.core.display.Image object>"
      ]
     },
     "metadata": {},
     "output_type": "display_data"
    },
    {
     "name": "stdout",
     "output_type": "stream",
     "text": [
      "pngResampled1000/178\n"
     ]
    },
    {
     "data": {
      "image/png": "[encoded data removed]",
      "text/plain": [
       "<IPython.core.display.Image object>"
      ]
     },
     "metadata": {},
     "output_type": "display_data"
    },
    {
     "name": "stdout",
     "output_type": "stream",
     "text": [
      "pngResampled1000/179\n"
     ]
    },
    {
     "data": {
      "image/png": "[encoded data removed]",
      "text/plain": [
       "<IPython.core.display.Image object>"
      ]
     },
     "metadata": {},
     "output_type": "display_data"
    },
    {
     "name": "stdout",
     "output_type": "stream",
     "text": [
      "pngResampled1000/18\n"
     ]
    },
    {
     "data": {
      "image/png": "[encoded data removed]",
      "text/plain": [
       "<IPython.core.display.Image object>"
      ]
     },
     "metadata": {},
     "output_type": "display_data"
    },
    {
     "name": "stdout",
     "output_type": "stream",
     "text": [
      "pngResampled1000/180\n"
     ]
    },
    {
     "data": {
      "image/png": "[encoded data removed]",
      "text/plain": [
       "<IPython.core.display.Image object>"
      ]
     },
     "metadata": {},
     "output_type": "display_data"
    },
    {
     "name": "stdout",
     "output_type": "stream",
     "text": [
      "pngResampled1000/181\n"
     ]
    },
    {
     "data": {
      "image/png": "[encoded data removed]",
      "text/plain": [
       "<IPython.core.display.Image object>"
      ]
     },
     "metadata": {},
     "output_type": "display_data"
    },
    {
     "name": "stdout",
     "output_type": "stream",
     "text": [
      "pngResampled1000/182\n"
     ]
    },
    {
     "data": {
      "image/png": "[encoded data removed]",
      "text/plain": [
       "<IPython.core.display.Image object>"
      ]
     },
     "metadata": {},
     "output_type": "display_data"
    },
    {
     "name": "stdout",
     "output_type": "stream",
     "text": [
      "pngResampled1000/183\n"
     ]
    },
    {
     "data": {
      "image/png": "[encoded data removed]",
      "text/plain": [
       "<IPython.core.display.Image object>"
      ]
     },
     "metadata": {},
     "output_type": "display_data"
    },
    {
     "name": "stdout",
     "output_type": "stream",
     "text": [
      "pngResampled1000/184\n"
     ]
    },
    {
     "data": {
      "image/png": "[encoded data removed]",
      "text/plain": [
       "<IPython.core.display.Image object>"
      ]
     },
     "metadata": {},
     "output_type": "display_data"
    },
    {
     "name": "stdout",
     "output_type": "stream",
     "text": [
      "pngResampled1000/185\n"
     ]
    },
    {
     "data": {
      "image/png": "[encoded data removed]",
      "text/plain": [
       "<IPython.core.display.Image object>"
      ]
     },
     "metadata": {},
     "output_type": "display_data"
    },
    {
     "name": "stdout",
     "output_type": "stream",
     "text": [
      "pngResampled1000/186\n"
     ]
    },
    {
     "data": {
      "image/png": "[encoded data removed]",
      "text/plain": [
       "<IPython.core.display.Image object>"
      ]
     },
     "metadata": {},
     "output_type": "display_data"
    },
    {
     "name": "stdout",
     "output_type": "stream",
     "text": [
      "pngResampled1000/187\n"
     ]
    },
    {
     "data": {
      "image/png": "[encoded data removed]",
      "text/plain": [
       "<IPython.core.display.Image object>"
      ]
     },
     "metadata": {},
     "output_type": "display_data"
    },
    {
     "name": "stdout",
     "output_type": "stream",
     "text": [
      "pngResampled1000/188\n"
     ]
    },
    {
     "data": {
      "image/png": "[encoded data removed]",
      "text/plain": [
       "<IPython.core.display.Image object>"
      ]
     },
     "metadata": {},
     "output_type": "display_data"
    },
    {
     "name": "stdout",
     "output_type": "stream",
     "text": [
      "pngResampled1000/189\n"
     ]
    },
    {
     "data": {
      "image/png": "[encoded data removed]",
      "text/plain": [
       "<IPython.core.display.Image object>"
      ]
     },
     "metadata": {},
     "output_type": "display_data"
    },
    {
     "name": "stdout",
     "output_type": "stream",
     "text": [
      "pngResampled1000/19\n"
     ]
    },
    {
     "data": {
      "image/png": "[encoded data removed]",
      "text/plain": [
       "<IPython.core.display.Image object>"
      ]
     },
     "metadata": {},
     "output_type": "display_data"
    },
    {
     "name": "stdout",
     "output_type": "stream",
     "text": [
      "pngResampled1000/190\n"
     ]
    },
    {
     "data": {
      "image/png": "[encoded data removed]",
      "text/plain": [
       "<IPython.core.display.Image object>"
      ]
     },
     "metadata": {},
     "output_type": "display_data"
    },
    {
     "name": "stdout",
     "output_type": "stream",
     "text": [
      "pngResampled1000/191\n"
     ]
    },
    {
     "data": {
      "image/png": "[encoded data removed]",
      "text/plain": [
       "<IPython.core.display.Image object>"
      ]
     },
     "metadata": {},
     "output_type": "display_data"
    },
    {
     "name": "stdout",
     "output_type": "stream",
     "text": [
      "pngResampled1000/192\n"
     ]
    },
    {
     "data": {
      "image/png": "[encoded data removed]",
      "text/plain": [
       "<IPython.core.display.Image object>"
      ]
     },
     "metadata": {},
     "output_type": "display_data"
    },
    {
     "name": "stdout",
     "output_type": "stream",
     "text": [
      "pngResampled1000/193\n"
     ]
    },
    {
     "data": {
      "image/png": "[encoded data removed]",
      "text/plain": [
       "<IPython.core.display.Image object>"
      ]
     },
     "metadata": {},
     "output_type": "display_data"
    },
    {
     "name": "stdout",
     "output_type": "stream",
     "text": [
      "pngResampled1000/194\n"
     ]
    },
    {
     "data": {
      "image/png": "[encoded data removed]",
      "text/plain": [
       "<IPython.core.display.Image object>"
      ]
     },
     "metadata": {},
     "output_type": "display_data"
    },
    {
     "name": "stdout",
     "output_type": "stream",
     "text": [
      "pngResampled1000/195\n"
     ]
    },
    {
     "data": {
      "image/png": "[encoded data removed]",
      "text/plain": [
       "<IPython.core.display.Image object>"
      ]
     },
     "metadata": {},
     "output_type": "display_data"
    },
    {
     "name": "stdout",
     "output_type": "stream",
     "text": [
      "pngResampled1000/196\n"
     ]
    },
    {
     "data": {
      "image/png": "[encoded data removed]",
      "text/plain": [
       "<IPython.core.display.Image object>"
      ]
     },
     "metadata": {},
     "output_type": "display_data"
    },
    {
     "name": "stdout",
     "output_type": "stream",
     "text": [
      "pngResampled1000/197\n"
     ]
    },
    {
     "data": {
      "image/png": "[encoded data removed]",
      "text/plain": [
       "<IPython.core.display.Image object>"
      ]
     },
     "metadata": {},
     "output_type": "display_data"
    },
    {
     "name": "stdout",
     "output_type": "stream",
     "text": [
      "pngResampled1000/198\n"
     ]
    },
    {
     "data": {
      "image/png": "[encoded data removed]",
      "text/plain": [
       "<IPython.core.display.Image object>"
      ]
     },
     "metadata": {},
     "output_type": "display_data"
    },
    {
     "name": "stdout",
     "output_type": "stream",
     "text": [
      "pngResampled1000/199\n"
     ]
    },
    {
     "data": {
      "image/png": "[encoded data removed]",
      "text/plain": [
       "<IPython.core.display.Image object>"
      ]
     },
     "metadata": {},
     "output_type": "display_data"
    },
    {
     "name": "stdout",
     "output_type": "stream",
     "text": [
      "pngResampled1000/2\n"
     ]
    },
    {
     "data": {
      "image/png": "[encoded data removed]",
      "text/plain": [
       "<IPython.core.display.Image object>"
      ]
     },
     "metadata": {},
     "output_type": "display_data"
    },
    {
     "name": "stdout",
     "output_type": "stream",
     "text": [
      "pngResampled1000/20\n"
     ]
    },
    {
     "data": {
      "image/png": "[encoded data removed]",
      "text/plain": [
       "<IPython.core.display.Image object>"
      ]
     },
     "metadata": {},
     "output_type": "display_data"
    },
    {
     "name": "stdout",
     "output_type": "stream",
     "text": [
      "pngResampled1000/200\n"
     ]
    },
    {
     "data": {
      "image/png": "[encoded data removed]",
      "text/plain": [
       "<IPython.core.display.Image object>"
      ]
     },
     "metadata": {},
     "output_type": "display_data"
    },
    {
     "name": "stdout",
     "output_type": "stream",
     "text": [
      "pngResampled1000/201\n"
     ]
    },
    {
     "data": {
      "image/png": "[encoded data removed]",
      "text/plain": [
       "<IPython.core.display.Image object>"
      ]
     },
     "metadata": {},
     "output_type": "display_data"
    },
    {
     "name": "stdout",
     "output_type": "stream",
     "text": [
      "pngResampled1000/202\n"
     ]
    },
    {
     "data": {
      "image/png": "[encoded data removed]",
      "text/plain": [
       "<IPython.core.display.Image object>"
      ]
     },
     "metadata": {},
     "output_type": "display_data"
    },
    {
     "name": "stdout",
     "output_type": "stream",
     "text": [
      "pngResampled1000/203\n"
     ]
    },
    {
     "data": {
      "image/png": "[encoded data removed]",
      "text/plain": [
       "<IPython.core.display.Image object>"
      ]
     },
     "metadata": {},
     "output_type": "display_data"
    },
    {
     "name": "stdout",
     "output_type": "stream",
     "text": [
      "pngResampled1000/204\n"
     ]
    },
    {
     "data": {
      "image/png": "[encoded data removed]",
      "text/plain": [
       "<IPython.core.display.Image object>"
      ]
     },
     "metadata": {},
     "output_type": "display_data"
    },
    {
     "name": "stdout",
     "output_type": "stream",
     "text": [
      "pngResampled1000/205\n"
     ]
    },
    {
     "data": {
      "image/png": "[encoded data removed]",
      "text/plain": [
       "<IPython.core.display.Image object>"
      ]
     },
     "metadata": {},
     "output_type": "display_data"
    },
    {
     "name": "stdout",
     "output_type": "stream",
     "text": [
      "pngResampled1000/206\n"
     ]
    },
    {
     "data": {
      "image/png": "[encoded data removed]",
      "text/plain": [
       "<IPython.core.display.Image object>"
      ]
     },
     "metadata": {},
     "output_type": "display_data"
    },
    {
     "name": "stdout",
     "output_type": "stream",
     "text": [
      "pngResampled1000/207\n"
     ]
    },
    {
     "data": {
      "image/png": "[encoded data removed]",
      "text/plain": [
       "<IPython.core.display.Image object>"
      ]
     },
     "metadata": {},
     "output_type": "display_data"
    },
    {
     "name": "stdout",
     "output_type": "stream",
     "text": [
      "pngResampled1000/208\n"
     ]
    },
    {
     "data": {
      "image/png": "[encoded data removed]",
      "text/plain": [
       "<IPython.core.display.Image object>"
      ]
     },
     "metadata": {},
     "output_type": "display_data"
    },
    {
     "name": "stdout",
     "output_type": "stream",
     "text": [
      "pngResampled1000/209\n"
     ]
    },
    {
     "data": {
      "image/png": "[encoded data removed]",
      "text/plain": [
       "<IPython.core.display.Image object>"
      ]
     },
     "metadata": {},
     "output_type": "display_data"
    },
    {
     "name": "stdout",
     "output_type": "stream",
     "text": [
      "pngResampled1000/21\n"
     ]
    },
    {
     "data": {
      "image/png": "[encoded data removed]",
      "text/plain": [
       "<IPython.core.display.Image object>"
      ]
     },
     "metadata": {},
     "output_type": "display_data"
    },
    {
     "name": "stdout",
     "output_type": "stream",
     "text": [
      "pngResampled1000/210\n"
     ]
    },
    {
     "data": {
      "image/png": "[encoded data removed]",
      "text/plain": [
       "<IPython.core.display.Image object>"
      ]
     },
     "metadata": {},
     "output_type": "display_data"
    },
    {
     "name": "stdout",
     "output_type": "stream",
     "text": [
      "pngResampled1000/211\n"
     ]
    },
    {
     "data": {
      "image/png": "[encoded data removed]",
      "text/plain": [
       "<IPython.core.display.Image object>"
      ]
     },
     "metadata": {},
     "output_type": "display_data"
    },
    {
     "name": "stdout",
     "output_type": "stream",
     "text": [
      "pngResampled1000/212\n"
     ]
    },
    {
     "data": {
      "image/png": "[encoded data removed]",
      "text/plain": [
       "<IPython.core.display.Image object>"
      ]
     },
     "metadata": {},
     "output_type": "display_data"
    },
    {
     "name": "stdout",
     "output_type": "stream",
     "text": [
      "pngResampled1000/213\n"
     ]
    },
    {
     "data": {
      "image/png": "[encoded data removed]",
      "text/plain": [
       "<IPython.core.display.Image object>"
      ]
     },
     "metadata": {},
     "output_type": "display_data"
    },
    {
     "name": "stdout",
     "output_type": "stream",
     "text": [
      "pngResampled1000/214\n"
     ]
    },
    {
     "data": {
      "image/png": "[encoded data removed]",
      "text/plain": [
       "<IPython.core.display.Image object>"
      ]
     },
     "metadata": {},
     "output_type": "display_data"
    },
    {
     "name": "stdout",
     "output_type": "stream",
     "text": [
      "pngResampled1000/215\n"
     ]
    },
    {
     "data": {
      "image/png": "[encoded data removed]",
      "text/plain": [
       "<IPython.core.display.Image object>"
      ]
     },
     "metadata": {},
     "output_type": "display_data"
    },
    {
     "name": "stdout",
     "output_type": "stream",
     "text": [
      "pngResampled1000/216\n"
     ]
    },
    {
     "data": {
      "image/png": "[encoded data removed]",
      "text/plain": [
       "<IPython.core.display.Image object>"
      ]
     },
     "metadata": {},
     "output_type": "display_data"
    },
    {
     "name": "stdout",
     "output_type": "stream",
     "text": [
      "pngResampled1000/217\n"
     ]
    },
    {
     "data": {
      "image/png": "[encoded data removed]",
      "text/plain": [
       "<IPython.core.display.Image object>"
      ]
     },
     "metadata": {},
     "output_type": "display_data"
    },
    {
     "name": "stdout",
     "output_type": "stream",
     "text": [
      "pngResampled1000/218\n"
     ]
    },
    {
     "data": {
      "image/png": "[encoded data removed]",
      "text/plain": [
       "<IPython.core.display.Image object>"
      ]
     },
     "metadata": {},
     "output_type": "display_data"
    },
    {
     "name": "stdout",
     "output_type": "stream",
     "text": [
      "pngResampled1000/219\n"
     ]
    },
    {
     "data": {
      "image/png": "[encoded data removed]",
      "text/plain": [
       "<IPython.core.display.Image object>"
      ]
     },
     "metadata": {},
     "output_type": "display_data"
    },
    {
     "name": "stdout",
     "output_type": "stream",
     "text": [
      "pngResampled1000/22\n"
     ]
    },
    {
     "data": {
      "image/png": "[encoded data removed]",
      "text/plain": [
       "<IPython.core.display.Image object>"
      ]
     },
     "metadata": {},
     "output_type": "display_data"
    },
    {
     "name": "stdout",
     "output_type": "stream",
     "text": [
      "pngResampled1000/220\n"
     ]
    },
    {
     "data": {
      "image/png": "[encoded data removed]",
      "text/plain": [
       "<IPython.core.display.Image object>"
      ]
     },
     "metadata": {},
     "output_type": "display_data"
    },
    {
     "name": "stdout",
     "output_type": "stream",
     "text": [
      "pngResampled1000/221\n"
     ]
    },
    {
     "data": {
      "image/png": "[encoded data removed]",
      "text/plain": [
       "<IPython.core.display.Image object>"
      ]
     },
     "metadata": {},
     "output_type": "display_data"
    },
    {
     "name": "stdout",
     "output_type": "stream",
     "text": [
      "pngResampled1000/222\n"
     ]
    },
    {
     "data": {
      "image/png": "[encoded data removed]",
      "text/plain": [
       "<IPython.core.display.Image object>"
      ]
     },
     "metadata": {},
     "output_type": "display_data"
    },
    {
     "name": "stdout",
     "output_type": "stream",
     "text": [
      "pngResampled1000/223\n"
     ]
    },
    {
     "data": {
      "image/png": "[encoded data removed]",
      "text/plain": [
       "<IPython.core.display.Image object>"
      ]
     },
     "metadata": {},
     "output_type": "display_data"
    },
    {
     "name": "stdout",
     "output_type": "stream",
     "text": [
      "pngResampled1000/224\n"
     ]
    },
    {
     "data": {
      "image/png": "[encoded data removed]",
      "text/plain": [
       "<IPython.core.display.Image object>"
      ]
     },
     "metadata": {},
     "output_type": "display_data"
    },
    {
     "name": "stdout",
     "output_type": "stream",
     "text": [
      "pngResampled1000/225\n"
     ]
    },
    {
     "data": {
      "image/png": "[encoded data removed]",
      "text/plain": [
       "<IPython.core.display.Image object>"
      ]
     },
     "metadata": {},
     "output_type": "display_data"
    },
    {
     "name": "stdout",
     "output_type": "stream",
     "text": [
      "pngResampled1000/226\n"
     ]
    },
    {
     "data": {
      "image/png": "[encoded data removed]",
      "text/plain": [
       "<IPython.core.display.Image object>"
      ]
     },
     "metadata": {},
     "output_type": "display_data"
    },
    {
     "name": "stdout",
     "output_type": "stream",
     "text": [
      "pngResampled1000/227\n"
     ]
    },
    {
     "data": {
      "image/png": "[encoded data removed]",
      "text/plain": [
       "<IPython.core.display.Image object>"
      ]
     },
     "metadata": {},
     "output_type": "display_data"
    },
    {
     "name": "stdout",
     "output_type": "stream",
     "text": [
      "pngResampled1000/228\n"
     ]
    },
    {
     "data": {
      "image/png": "[encoded data removed]",
      "text/plain": [
       "<IPython.core.display.Image object>"
      ]
     },
     "metadata": {},
     "output_type": "display_data"
    },
    {
     "name": "stdout",
     "output_type": "stream",
     "text": [
      "pngResampled1000/229\n"
     ]
    },
    {
     "data": {
      "image/png": "[encoded data removed]",
      "text/plain": [
       "<IPython.core.display.Image object>"
      ]
     },
     "metadata": {},
     "output_type": "display_data"
    },
    {
     "name": "stdout",
     "output_type": "stream",
     "text": [
      "pngResampled1000/23\n"
     ]
    },
    {
     "data": {
      "image/png": "[encoded data removed]",
      "text/plain": [
       "<IPython.core.display.Image object>"
      ]
     },
     "metadata": {},
     "output_type": "display_data"
    },
    {
     "name": "stdout",
     "output_type": "stream",
     "text": [
      "pngResampled1000/230\n"
     ]
    },
    {
     "data": {
      "image/png": "[encoded data removed]",
      "text/plain": [
       "<IPython.core.display.Image object>"
      ]
     },
     "metadata": {},
     "output_type": "display_data"
    },
    {
     "name": "stdout",
     "output_type": "stream",
     "text": [
      "pngResampled1000/231\n"
     ]
    },
    {
     "data": {
      "image/png": "[encoded data removed]",
      "text/plain": [
       "<IPython.core.display.Image object>"
      ]
     },
     "metadata": {},
     "output_type": "display_data"
    },
    {
     "name": "stdout",
     "output_type": "stream",
     "text": [
      "pngResampled1000/232\n"
     ]
    },
    {
     "data": {
      "image/png": "[encoded data removed]",
      "text/plain": [
       "<IPython.core.display.Image object>"
      ]
     },
     "metadata": {},
     "output_type": "display_data"
    },
    {
     "name": "stdout",
     "output_type": "stream",
     "text": [
      "pngResampled1000/233\n"
     ]
    },
    {
     "data": {
      "image/png": "[encoded data removed]",
      "text/plain": [
       "<IPython.core.display.Image object>"
      ]
     },
     "metadata": {},
     "output_type": "display_data"
    },
    {
     "name": "stdout",
     "output_type": "stream",
     "text": [
      "pngResampled1000/234\n"
     ]
    },
    {
     "data": {
      "image/png": "[encoded data removed]",
      "text/plain": [
       "<IPython.core.display.Image object>"
      ]
     },
     "metadata": {},
     "output_type": "display_data"
    },
    {
     "name": "stdout",
     "output_type": "stream",
     "text": [
      "pngResampled1000/235\n"
     ]
    },
    {
     "data": {
      "image/png": "[encoded data removed]",
      "text/plain": [
       "<IPython.core.display.Image object>"
      ]
     },
     "metadata": {},
     "output_type": "display_data"
    },
    {
     "name": "stdout",
     "output_type": "stream",
     "text": [
      "pngResampled1000/236\n"
     ]
    },
    {
     "data": {
      "image/png": "[encoded data removed]",
      "text/plain": [
       "<IPython.core.display.Image object>"
      ]
     },
     "metadata": {},
     "output_type": "display_data"
    },
    {
     "name": "stdout",
     "output_type": "stream",
     "text": [
      "pngResampled1000/237\n"
     ]
    },
    {
     "data": {
      "image/png": "[encoded data removed]",
      "text/plain": [
       "<IPython.core.display.Image object>"
      ]
     },
     "metadata": {},
     "output_type": "display_data"
    },
    {
     "name": "stdout",
     "output_type": "stream",
     "text": [
      "pngResampled1000/238\n"
     ]
    },
    {
     "data": {
      "image/png": "[encoded data removed]",
      "text/plain": [
       "<IPython.core.display.Image object>"
      ]
     },
     "metadata": {},
     "output_type": "display_data"
    },
    {
     "name": "stdout",
     "output_type": "stream",
     "text": [
      "pngResampled1000/239\n"
     ]
    },
    {
     "data": {
      "image/png": "[encoded data removed]",
      "text/plain": [
       "<IPython.core.display.Image object>"
      ]
     },
     "metadata": {},
     "output_type": "display_data"
    },
    {
     "name": "stdout",
     "output_type": "stream",
     "text": [
      "pngResampled1000/24\n"
     ]
    },
    {
     "data": {
      "image/png": "[encoded data removed]",
      "text/plain": [
       "<IPython.core.display.Image object>"
      ]
     },
     "metadata": {},
     "output_type": "display_data"
    },
    {
     "name": "stdout",
     "output_type": "stream",
     "text": [
      "pngResampled1000/240\n"
     ]
    },
    {
     "data": {
      "image/png": "[encoded data removed]",
      "text/plain": [
       "<IPython.core.display.Image object>"
      ]
     },
     "metadata": {},
     "output_type": "display_data"
    },
    {
     "name": "stdout",
     "output_type": "stream",
     "text": [
      "pngResampled1000/241\n"
     ]
    },
    {
     "data": {
      "image/png": "[encoded data removed]",
      "text/plain": [
       "<IPython.core.display.Image object>"
      ]
     },
     "metadata": {},
     "output_type": "display_data"
    },
    {
     "name": "stdout",
     "output_type": "stream",
     "text": [
      "pngResampled1000/242\n"
     ]
    },
    {
     "data": {
      "image/png": "[encoded data removed]",
      "text/plain": [
       "<IPython.core.display.Image object>"
      ]
     },
     "metadata": {},
     "output_type": "display_data"
    },
    {
     "name": "stdout",
     "output_type": "stream",
     "text": [
      "pngResampled1000/243\n"
     ]
    },
    {
     "data": {
      "image/png": "[encoded data removed]",
      "text/plain": [
       "<IPython.core.display.Image object>"
      ]
     },
     "metadata": {},
     "output_type": "display_data"
    },
    {
     "name": "stdout",
     "output_type": "stream",
     "text": [
      "pngResampled1000/244\n"
     ]
    },
    {
     "data": {
      "image/png": "[encoded data removed]",
      "text/plain": [
       "<IPython.core.display.Image object>"
      ]
     },
     "metadata": {},
     "output_type": "display_data"
    },
    {
     "name": "stdout",
     "output_type": "stream",
     "text": [
      "pngResampled1000/245\n"
     ]
    },
    {
     "data": {
      "image/png": "[encoded data removed]",
      "text/plain": [
       "<IPython.core.display.Image object>"
      ]
     },
     "metadata": {},
     "output_type": "display_data"
    },
    {
     "name": "stdout",
     "output_type": "stream",
     "text": [
      "pngResampled1000/246\n"
     ]
    },
    {
     "data": {
      "image/png": "[encoded data removed]",
      "text/plain": [
       "<IPython.core.display.Image object>"
      ]
     },
     "metadata": {},
     "output_type": "display_data"
    },
    {
     "name": "stdout",
     "output_type": "stream",
     "text": [
      "pngResampled1000/247\n"
     ]
    },
    {
     "data": {
      "image/png": "[encoded data removed]",
      "text/plain": [
       "<IPython.core.display.Image object>"
      ]
     },
     "metadata": {},
     "output_type": "display_data"
    },
    {
     "name": "stdout",
     "output_type": "stream",
     "text": [
      "pngResampled1000/248\n"
     ]
    },
    {
     "data": {
      "image/png": "[encoded data removed]",
      "text/plain": [
       "<IPython.core.display.Image object>"
      ]
     },
     "metadata": {},
     "output_type": "display_data"
    },
    {
     "name": "stdout",
     "output_type": "stream",
     "text": [
      "pngResampled1000/249\n"
     ]
    },
    {
     "data": {
      "image/png": "[encoded data removed]",
      "text/plain": [
       "<IPython.core.display.Image object>"
      ]
     },
     "metadata": {},
     "output_type": "display_data"
    },
    {
     "name": "stdout",
     "output_type": "stream",
     "text": [
      "pngResampled1000/25\n"
     ]
    },
    {
     "data": {
      "image/png": "[encoded data removed]",
      "text/plain": [
       "<IPython.core.display.Image object>"
      ]
     },
     "metadata": {},
     "output_type": "display_data"
    },
    {
     "name": "stdout",
     "output_type": "stream",
     "text": [
      "pngResampled1000/250\n"
     ]
    },
    {
     "data": {
      "image/png": "[encoded data removed]",
      "text/plain": [
       "<IPython.core.display.Image object>"
      ]
     },
     "metadata": {},
     "output_type": "display_data"
    },
    {
     "name": "stdout",
     "output_type": "stream",
     "text": [
      "pngResampled1000/251\n"
     ]
    },
    {
     "data": {
      "image/png": "[encoded data removed]",
      "text/plain": [
       "<IPython.core.display.Image object>"
      ]
     },
     "metadata": {},
     "output_type": "display_data"
    },
    {
     "name": "stdout",
     "output_type": "stream",
     "text": [
      "pngResampled1000/252\n"
     ]
    },
    {
     "data": {
      "image/png": "[encoded data removed]",
      "text/plain": [
       "<IPython.core.display.Image object>"
      ]
     },
     "metadata": {},
     "output_type": "display_data"
    },
    {
     "name": "stdout",
     "output_type": "stream",
     "text": [
      "pngResampled1000/253\n"
     ]
    },
    {
     "data": {
      "image/png": "[encoded data removed]",
      "text/plain": [
       "<IPython.core.display.Image object>"
      ]
     },
     "metadata": {},
     "output_type": "display_data"
    },
    {
     "name": "stdout",
     "output_type": "stream",
     "text": [
      "pngResampled1000/254\n"
     ]
    },
    {
     "data": {
      "image/png": "[encoded data removed]",
      "text/plain": [
       "<IPython.core.display.Image object>"
      ]
     },
     "metadata": {},
     "output_type": "display_data"
    },
    {
     "name": "stdout",
     "output_type": "stream",
     "text": [
      "pngResampled1000/255\n"
     ]
    },
    {
     "data": {
      "image/png": "[encoded data removed]",
      "text/plain": [
       "<IPython.core.display.Image object>"
      ]
     },
     "metadata": {},
     "output_type": "display_data"
    },
    {
     "name": "stdout",
     "output_type": "stream",
     "text": [
      "pngResampled1000/26\n"
     ]
    },
    {
     "data": {
      "image/png": "[encoded data removed]",
      "text/plain": [
       "<IPython.core.display.Image object>"
      ]
     },
     "metadata": {},
     "output_type": "display_data"
    },
    {
     "name": "stdout",
     "output_type": "stream",
     "text": [
      "pngResampled1000/27\n"
     ]
    },
    {
     "data": {
      "image/png": "[encoded data removed]",
      "text/plain": [
       "<IPython.core.display.Image object>"
      ]
     },
     "metadata": {},
     "output_type": "display_data"
    },
    {
     "name": "stdout",
     "output_type": "stream",
     "text": [
      "pngResampled1000/28\n"
     ]
    },
    {
     "data": {
      "image/png": "[encoded data removed]",
      "text/plain": [
       "<IPython.core.display.Image object>"
      ]
     },
     "metadata": {},
     "output_type": "display_data"
    },
    {
     "name": "stdout",
     "output_type": "stream",
     "text": [
      "pngResampled1000/29\n"
     ]
    },
    {
     "data": {
      "image/png": "[encoded data removed]",
      "text/plain": [
       "<IPython.core.display.Image object>"
      ]
     },
     "metadata": {},
     "output_type": "display_data"
    },
    {
     "name": "stdout",
     "output_type": "stream",
     "text": [
      "pngResampled1000/3\n"
     ]
    },
    {
     "data": {
      "image/png": "[encoded data removed]",
      "text/plain": [
       "<IPython.core.display.Image object>"
      ]
     },
     "metadata": {},
     "output_type": "display_data"
    },
    {
     "name": "stdout",
     "output_type": "stream",
     "text": [
      "pngResampled1000/30\n"
     ]
    },
    {
     "data": {
      "image/png": "[encoded data removed]",
      "text/plain": [
       "<IPython.core.display.Image object>"
      ]
     },
     "metadata": {},
     "output_type": "display_data"
    },
    {
     "name": "stdout",
     "output_type": "stream",
     "text": [
      "pngResampled1000/31\n"
     ]
    },
    {
     "data": {
      "image/png": "[encoded data removed]",
      "text/plain": [
       "<IPython.core.display.Image object>"
      ]
     },
     "metadata": {},
     "output_type": "display_data"
    },
    {
     "name": "stdout",
     "output_type": "stream",
     "text": [
      "pngResampled1000/32\n"
     ]
    },
    {
     "data": {
      "image/png": "[encoded data removed]",
      "text/plain": [
       "<IPython.core.display.Image object>"
      ]
     },
     "metadata": {},
     "output_type": "display_data"
    },
    {
     "name": "stdout",
     "output_type": "stream",
     "text": [
      "pngResampled1000/33\n"
     ]
    },
    {
     "data": {
      "image/png": "[encoded data removed]",
      "text/plain": [
       "<IPython.core.display.Image object>"
      ]
     },
     "metadata": {},
     "output_type": "display_data"
    },
    {
     "name": "stdout",
     "output_type": "stream",
     "text": [
      "pngResampled1000/34\n"
     ]
    },
    {
     "data": {
      "image/png": "[encoded data removed]",
      "text/plain": [
       "<IPython.core.display.Image object>"
      ]
     },
     "metadata": {},
     "output_type": "display_data"
    },
    {
     "name": "stdout",
     "output_type": "stream",
     "text": [
      "pngResampled1000/35\n"
     ]
    },
    {
     "data": {
      "image/png": "[encoded data removed]",
      "text/plain": [
       "<IPython.core.display.Image object>"
      ]
     },
     "metadata": {},
     "output_type": "display_data"
    },
    {
     "name": "stdout",
     "output_type": "stream",
     "text": [
      "pngResampled1000/36\n"
     ]
    },
    {
     "data": {
      "image/png": "[encoded data removed]",
      "text/plain": [
       "<IPython.core.display.Image object>"
      ]
     },
     "metadata": {},
     "output_type": "display_data"
    },
    {
     "name": "stdout",
     "output_type": "stream",
     "text": [
      "pngResampled1000/37\n"
     ]
    },
    {
     "data": {
      "image/png": "[encoded data removed]",
      "text/plain": [
       "<IPython.core.display.Image object>"
      ]
     },
     "metadata": {},
     "output_type": "display_data"
    },
    {
     "name": "stdout",
     "output_type": "stream",
     "text": [
      "pngResampled1000/38\n"
     ]
    },
    {
     "data": {
      "image/png": "[encoded data removed]",
      "text/plain": [
       "<IPython.core.display.Image object>"
      ]
     },
     "metadata": {},
     "output_type": "display_data"
    },
    {
     "name": "stdout",
     "output_type": "stream",
     "text": [
      "pngResampled1000/39\n"
     ]
    },
    {
     "data": {
      "image/png": "[encoded data removed]",
      "text/plain": [
       "<IPython.core.display.Image object>"
      ]
     },
     "metadata": {},
     "output_type": "display_data"
    },
    {
     "name": "stdout",
     "output_type": "stream",
     "text": [
      "pngResampled1000/4\n"
     ]
    },
    {
     "data": {
      "image/png": "[encoded data removed]",
      "text/plain": [
       "<IPython.core.display.Image object>"
      ]
     },
     "metadata": {},
     "output_type": "display_data"
    },
    {
     "name": "stdout",
     "output_type": "stream",
     "text": [
      "pngResampled1000/40\n"
     ]
    },
    {
     "data": {
      "image/png": "[encoded data removed]",
      "text/plain": [
       "<IPython.core.display.Image object>"
      ]
     },
     "metadata": {},
     "output_type": "display_data"
    },
    {
     "name": "stdout",
     "output_type": "stream",
     "text": [
      "pngResampled1000/41\n"
     ]
    },
    {
     "data": {
      "image/png": "[encoded data removed]",
      "text/plain": [
       "<IPython.core.display.Image object>"
      ]
     },
     "metadata": {},
     "output_type": "display_data"
    },
    {
     "name": "stdout",
     "output_type": "stream",
     "text": [
      "pngResampled1000/42\n"
     ]
    },
    {
     "data": {
      "image/png": "[encoded data removed]",
      "text/plain": [
       "<IPython.core.display.Image object>"
      ]
     },
     "metadata": {},
     "output_type": "display_data"
    },
    {
     "name": "stdout",
     "output_type": "stream",
     "text": [
      "pngResampled1000/43\n"
     ]
    },
    {
     "data": {
      "image/png": "[encoded data removed]",
      "text/plain": [
       "<IPython.core.display.Image object>"
      ]
     },
     "metadata": {},
     "output_type": "display_data"
    },
    {
     "name": "stdout",
     "output_type": "stream",
     "text": [
      "pngResampled1000/44\n"
     ]
    },
    {
     "data": {
      "image/png": "[encoded data removed]",
      "text/plain": [
       "<IPython.core.display.Image object>"
      ]
     },
     "metadata": {},
     "output_type": "display_data"
    },
    {
     "name": "stdout",
     "output_type": "stream",
     "text": [
      "pngResampled1000/45\n"
     ]
    },
    {
     "data": {
      "image/png": "[encoded data removed]",
      "text/plain": [
       "<IPython.core.display.Image object>"
      ]
     },
     "metadata": {},
     "output_type": "display_data"
    },
    {
     "name": "stdout",
     "output_type": "stream",
     "text": [
      "pngResampled1000/46\n"
     ]
    },
    {
     "data": {
      "image/png": "[encoded data removed]",
      "text/plain": [
       "<IPython.core.display.Image object>"
      ]
     },
     "metadata": {},
     "output_type": "display_data"
    },
    {
     "name": "stdout",
     "output_type": "stream",
     "text": [
      "pngResampled1000/47\n"
     ]
    },
    {
     "data": {
      "image/png": "[encoded data removed]",
      "text/plain": [
       "<IPython.core.display.Image object>"
      ]
     },
     "metadata": {},
     "output_type": "display_data"
    },
    {
     "name": "stdout",
     "output_type": "stream",
     "text": [
      "pngResampled1000/48\n"
     ]
    },
    {
     "data": {
      "image/png": "[encoded data removed]",
      "text/plain": [
       "<IPython.core.display.Image object>"
      ]
     },
     "metadata": {},
     "output_type": "display_data"
    },
    {
     "name": "stdout",
     "output_type": "stream",
     "text": [
      "pngResampled1000/49\n"
     ]
    },
    {
     "data": {
      "image/png": "[encoded data removed]",
      "text/plain": [
       "<IPython.core.display.Image object>"
      ]
     },
     "metadata": {},
     "output_type": "display_data"
    },
    {
     "name": "stdout",
     "output_type": "stream",
     "text": [
      "pngResampled1000/5\n"
     ]
    },
    {
     "data": {
      "image/png": "[encoded data removed]",
      "text/plain": [
       "<IPython.core.display.Image object>"
      ]
     },
     "metadata": {},
     "output_type": "display_data"
    },
    {
     "name": "stdout",
     "output_type": "stream",
     "text": [
      "pngResampled1000/50\n"
     ]
    },
    {
     "data": {
      "image/png": "[encoded data removed]",
      "text/plain": [
       "<IPython.core.display.Image object>"
      ]
     },
     "metadata": {},
     "output_type": "display_data"
    },
    {
     "name": "stdout",
     "output_type": "stream",
     "text": [
      "pngResampled1000/51\n"
     ]
    },
    {
     "data": {
      "image/png": "[encoded data removed]",
      "text/plain": [
       "<IPython.core.display.Image object>"
      ]
     },
     "metadata": {},
     "output_type": "display_data"
    },
    {
     "name": "stdout",
     "output_type": "stream",
     "text": [
      "pngResampled1000/52\n"
     ]
    },
    {
     "data": {
      "image/png": "[encoded data removed]",
      "text/plain": [
       "<IPython.core.display.Image object>"
      ]
     },
     "metadata": {},
     "output_type": "display_data"
    },
    {
     "name": "stdout",
     "output_type": "stream",
     "text": [
      "pngResampled1000/53\n"
     ]
    },
    {
     "data": {
      "image/png": "[encoded data removed]",
      "text/plain": [
       "<IPython.core.display.Image object>"
      ]
     },
     "metadata": {},
     "output_type": "display_data"
    },
    {
     "name": "stdout",
     "output_type": "stream",
     "text": [
      "pngResampled1000/54\n"
     ]
    },
    {
     "data": {
      "image/png": "[encoded data removed]",
      "text/plain": [
       "<IPython.core.display.Image object>"
      ]
     },
     "metadata": {},
     "output_type": "display_data"
    },
    {
     "name": "stdout",
     "output_type": "stream",
     "text": [
      "pngResampled1000/55\n"
     ]
    },
    {
     "data": {
      "image/png": "[encoded data removed]",
      "text/plain": [
       "<IPython.core.display.Image object>"
      ]
     },
     "metadata": {},
     "output_type": "display_data"
    },
    {
     "name": "stdout",
     "output_type": "stream",
     "text": [
      "pngResampled1000/56\n"
     ]
    },
    {
     "data": {
      "image/png": "[encoded data removed]",
      "text/plain": [
       "<IPython.core.display.Image object>"
      ]
     },
     "metadata": {},
     "output_type": "display_data"
    },
    {
     "name": "stdout",
     "output_type": "stream",
     "text": [
      "pngResampled1000/57\n"
     ]
    },
    {
     "data": {
      "image/png": "[encoded data removed]",
      "text/plain": [
       "<IPython.core.display.Image object>"
      ]
     },
     "metadata": {},
     "output_type": "display_data"
    },
    {
     "name": "stdout",
     "output_type": "stream",
     "text": [
      "pngResampled1000/58\n"
     ]
    },
    {
     "data": {
      "image/png": "[encoded data removed]",
      "text/plain": [
       "<IPython.core.display.Image object>"
      ]
     },
     "metadata": {},
     "output_type": "display_data"
    },
    {
     "name": "stdout",
     "output_type": "stream",
     "text": [
      "pngResampled1000/59\n"
     ]
    },
    {
     "data": {
      "image/png": "[encoded data removed]",
      "text/plain": [
       "<IPython.core.display.Image object>"
      ]
     },
     "metadata": {},
     "output_type": "display_data"
    },
    {
     "name": "stdout",
     "output_type": "stream",
     "text": [
      "pngResampled1000/6\n"
     ]
    },
    {
     "data": {
      "image/png": "[encoded data removed]",
      "text/plain": [
       "<IPython.core.display.Image object>"
      ]
     },
     "metadata": {},
     "output_type": "display_data"
    },
    {
     "name": "stdout",
     "output_type": "stream",
     "text": [
      "pngResampled1000/60\n"
     ]
    },
    {
     "data": {
      "image/png": "[encoded data removed]",
      "text/plain": [
       "<IPython.core.display.Image object>"
      ]
     },
     "metadata": {},
     "output_type": "display_data"
    },
    {
     "name": "stdout",
     "output_type": "stream",
     "text": [
      "pngResampled1000/61\n"
     ]
    },
    {
     "data": {
      "image/png": "[encoded data removed]",
      "text/plain": [
       "<IPython.core.display.Image object>"
      ]
     },
     "metadata": {},
     "output_type": "display_data"
    },
    {
     "name": "stdout",
     "output_type": "stream",
     "text": [
      "pngResampled1000/62\n"
     ]
    },
    {
     "data": {
      "image/png": "[encoded data removed]",
      "text/plain": [
       "<IPython.core.display.Image object>"
      ]
     },
     "metadata": {},
     "output_type": "display_data"
    },
    {
     "name": "stdout",
     "output_type": "stream",
     "text": [
      "pngResampled1000/63\n"
     ]
    },
    {
     "data": {
      "image/png": "[encoded data removed]",
      "text/plain": [
       "<IPython.core.display.Image object>"
      ]
     },
     "metadata": {},
     "output_type": "display_data"
    },
    {
     "name": "stdout",
     "output_type": "stream",
     "text": [
      "pngResampled1000/64\n"
     ]
    },
    {
     "data": {
      "image/png": "[encoded data removed]",
      "text/plain": [
       "<IPython.core.display.Image object>"
      ]
     },
     "metadata": {},
     "output_type": "display_data"
    },
    {
     "name": "stdout",
     "output_type": "stream",
     "text": [
      "pngResampled1000/65\n"
     ]
    },
    {
     "data": {
      "image/png": "[encoded data removed]",
      "text/plain": [
       "<IPython.core.display.Image object>"
      ]
     },
     "metadata": {},
     "output_type": "display_data"
    },
    {
     "name": "stdout",
     "output_type": "stream",
     "text": [
      "pngResampled1000/66\n"
     ]
    },
    {
     "data": {
      "image/png": "[encoded data removed]",
      "text/plain": [
       "<IPython.core.display.Image object>"
      ]
     },
     "metadata": {},
     "output_type": "display_data"
    },
    {
     "name": "stdout",
     "output_type": "stream",
     "text": [
      "pngResampled1000/67\n"
     ]
    },
    {
     "data": {
      "image/png": "[encoded data removed]",
      "text/plain": [
       "<IPython.core.display.Image object>"
      ]
     },
     "metadata": {},
     "output_type": "display_data"
    },
    {
     "name": "stdout",
     "output_type": "stream",
     "text": [
      "pngResampled1000/68\n"
     ]
    },
    {
     "data": {
      "image/png": "[encoded data removed]",
      "text/plain": [
       "<IPython.core.display.Image object>"
      ]
     },
     "metadata": {},
     "output_type": "display_data"
    },
    {
     "name": "stdout",
     "output_type": "stream",
     "text": [
      "pngResampled1000/69\n"
     ]
    },
    {
     "data": {
      "image/png": "[encoded data removed]",
      "text/plain": [
       "<IPython.core.display.Image object>"
      ]
     },
     "metadata": {},
     "output_type": "display_data"
    },
    {
     "name": "stdout",
     "output_type": "stream",
     "text": [
      "pngResampled1000/7\n"
     ]
    },
    {
     "data": {
      "image/png": "[encoded data removed]",
      "text/plain": [
       "<IPython.core.display.Image object>"
      ]
     },
     "metadata": {},
     "output_type": "display_data"
    },
    {
     "name": "stdout",
     "output_type": "stream",
     "text": [
      "pngResampled1000/70\n"
     ]
    },
    {
     "data": {
      "image/png": "[encoded data removed]",
      "text/plain": [
       "<IPython.core.display.Image object>"
      ]
     },
     "metadata": {},
     "output_type": "display_data"
    },
    {
     "name": "stdout",
     "output_type": "stream",
     "text": [
      "pngResampled1000/71\n"
     ]
    },
    {
     "data": {
      "image/png": "[encoded data removed]",
      "text/plain": [
       "<IPython.core.display.Image object>"
      ]
     },
     "metadata": {},
     "output_type": "display_data"
    },
    {
     "name": "stdout",
     "output_type": "stream",
     "text": [
      "pngResampled1000/72\n"
     ]
    },
    {
     "data": {
      "image/png": "[encoded data removed]",
      "text/plain": [
       "<IPython.core.display.Image object>"
      ]
     },
     "metadata": {},
     "output_type": "display_data"
    },
    {
     "name": "stdout",
     "output_type": "stream",
     "text": [
      "pngResampled1000/73\n"
     ]
    },
    {
     "data": {
      "image/png": "[encoded data removed]",
      "text/plain": [
       "<IPython.core.display.Image object>"
      ]
     },
     "metadata": {},
     "output_type": "display_data"
    },
    {
     "name": "stdout",
     "output_type": "stream",
     "text": [
      "pngResampled1000/74\n"
     ]
    },
    {
     "data": {
      "image/png": "[encoded data removed]",
      "text/plain": [
       "<IPython.core.display.Image object>"
      ]
     },
     "metadata": {},
     "output_type": "display_data"
    },
    {
     "name": "stdout",
     "output_type": "stream",
     "text": [
      "pngResampled1000/75\n"
     ]
    },
    {
     "data": {
      "image/png": "[encoded data removed]",
      "text/plain": [
       "<IPython.core.display.Image object>"
      ]
     },
     "metadata": {},
     "output_type": "display_data"
    },
    {
     "name": "stdout",
     "output_type": "stream",
     "text": [
      "pngResampled1000/76\n"
     ]
    },
    {
     "data": {
      "image/png": "[encoded data removed]",
      "text/plain": [
       "<IPython.core.display.Image object>"
      ]
     },
     "metadata": {},
     "output_type": "display_data"
    },
    {
     "name": "stdout",
     "output_type": "stream",
     "text": [
      "pngResampled1000/77\n"
     ]
    },
    {
     "data": {
      "image/png": "[encoded data removed]",
      "text/plain": [
       "<IPython.core.display.Image object>"
      ]
     },
     "metadata": {},
     "output_type": "display_data"
    },
    {
     "name": "stdout",
     "output_type": "stream",
     "text": [
      "pngResampled1000/78\n"
     ]
    },
    {
     "data": {
      "image/png": "[encoded data removed]",
      "text/plain": [
       "<IPython.core.display.Image object>"
      ]
     },
     "metadata": {},
     "output_type": "display_data"
    },
    {
     "name": "stdout",
     "output_type": "stream",
     "text": [
      "pngResampled1000/79\n"
     ]
    },
    {
     "data": {
      "image/png": "[encoded data removed]",
      "text/plain": [
       "<IPython.core.display.Image object>"
      ]
     },
     "metadata": {},
     "output_type": "display_data"
    },
    {
     "name": "stdout",
     "output_type": "stream",
     "text": [
      "pngResampled1000/8\n"
     ]
    },
    {
     "data": {
      "image/png": "[encoded data removed]",
      "text/plain": [
       "<IPython.core.display.Image object>"
      ]
     },
     "metadata": {},
     "output_type": "display_data"
    },
    {
     "name": "stdout",
     "output_type": "stream",
     "text": [
      "pngResampled1000/80\n"
     ]
    },
    {
     "data": {
      "image/png": "[encoded data removed]",
      "text/plain": [
       "<IPython.core.display.Image object>"
      ]
     },
     "metadata": {},
     "output_type": "display_data"
    },
    {
     "name": "stdout",
     "output_type": "stream",
     "text": [
      "pngResampled1000/81\n"
     ]
    },
    {
     "data": {
      "image/png": "[encoded data removed]",
      "text/plain": [
       "<IPython.core.display.Image object>"
      ]
     },
     "metadata": {},
     "output_type": "display_data"
    },
    {
     "name": "stdout",
     "output_type": "stream",
     "text": [
      "pngResampled1000/82\n"
     ]
    },
    {
     "data": {
      "image/png": "[encoded data removed]",
      "text/plain": [
       "<IPython.core.display.Image object>"
      ]
     },
     "metadata": {},
     "output_type": "display_data"
    },
    {
     "name": "stdout",
     "output_type": "stream",
     "text": [
      "pngResampled1000/83\n"
     ]
    },
    {
     "data": {
      "image/png": "[encoded data removed]",
      "text/plain": [
       "<IPython.core.display.Image object>"
      ]
     },
     "metadata": {},
     "output_type": "display_data"
    },
    {
     "name": "stdout",
     "output_type": "stream",
     "text": [
      "pngResampled1000/84\n"
     ]
    },
    {
     "data": {
      "image/png": "[encoded data removed]",
      "text/plain": [
       "<IPython.core.display.Image object>"
      ]
     },
     "metadata": {},
     "output_type": "display_data"
    },
    {
     "name": "stdout",
     "output_type": "stream",
     "text": [
      "pngResampled1000/85\n"
     ]
    },
    {
     "data": {
      "image/png": "[encoded data removed]",
      "text/plain": [
       "<IPython.core.display.Image object>"
      ]
     },
     "metadata": {},
     "output_type": "display_data"
    },
    {
     "name": "stdout",
     "output_type": "stream",
     "text": [
      "pngResampled1000/86\n"
     ]
    },
    {
     "data": {
      "image/png": "[encoded data removed]",
      "text/plain": [
       "<IPython.core.display.Image object>"
      ]
     },
     "metadata": {},
     "output_type": "display_data"
    },
    {
     "name": "stdout",
     "output_type": "stream",
     "text": [
      "pngResampled1000/87\n"
     ]
    },
    {
     "data": {
      "image/png": "[encoded data removed]",
      "text/plain": [
       "<IPython.core.display.Image object>"
      ]
     },
     "metadata": {},
     "output_type": "display_data"
    },
    {
     "name": "stdout",
     "output_type": "stream",
     "text": [
      "pngResampled1000/88\n"
     ]
    },
    {
     "data": {
      "image/png": "[encoded data removed]",
      "text/plain": [
       "<IPython.core.display.Image object>"
      ]
     },
     "metadata": {},
     "output_type": "display_data"
    },
    {
     "name": "stdout",
     "output_type": "stream",
     "text": [
      "pngResampled1000/89\n"
     ]
    },
    {
     "data": {
      "image/png": "[encoded data removed]",
      "text/plain": [
       "<IPython.core.display.Image object>"
      ]
     },
     "metadata": {},
     "output_type": "display_data"
    },
    {
     "name": "stdout",
     "output_type": "stream",
     "text": [
      "pngResampled1000/9\n"
     ]
    },
    {
     "data": {
      "image/png": "[encoded data removed]",
      "text/plain": [
       "<IPython.core.display.Image object>"
      ]
     },
     "metadata": {},
     "output_type": "display_data"
    },
    {
     "name": "stdout",
     "output_type": "stream",
     "text": [
      "pngResampled1000/90\n"
     ]
    },
    {
     "data": {
      "image/png": "[encoded data removed]",
      "text/plain": [
       "<IPython.core.display.Image object>"
      ]
     },
     "metadata": {},
     "output_type": "display_data"
    },
    {
     "name": "stdout",
     "output_type": "stream",
     "text": [
      "pngResampled1000/91\n"
     ]
    },
    {
     "data": {
      "image/png": "[encoded data removed]",
      "text/plain": [
       "<IPython.core.display.Image object>"
      ]
     },
     "metadata": {},
     "output_type": "display_data"
    },
    {
     "name": "stdout",
     "output_type": "stream",
     "text": [
      "pngResampled1000/92\n"
     ]
    },
    {
     "data": {
      "image/png": "[encoded data removed]",
      "text/plain": [
       "<IPython.core.display.Image object>"
      ]
     },
     "metadata": {},
     "output_type": "display_data"
    },
    {
     "name": "stdout",
     "output_type": "stream",
     "text": [
      "pngResampled1000/93\n"
     ]
    },
    {
     "data": {
      "image/png": "[encoded data removed]",
      "text/plain": [
       "<IPython.core.display.Image object>"
      ]
     },
     "metadata": {},
     "output_type": "display_data"
    },
    {
     "name": "stdout",
     "output_type": "stream",
     "text": [
      "pngResampled1000/94\n"
     ]
    },
    {
     "data": {
      "image/png": "[encoded data removed]",
      "text/plain": [
       "<IPython.core.display.Image object>"
      ]
     },
     "metadata": {},
     "output_type": "display_data"
    },
    {
     "name": "stdout",
     "output_type": "stream",
     "text": [
      "pngResampled1000/95\n"
     ]
    },
    {
     "data": {
      "image/png": "[encoded data removed]",
      "text/plain": [
       "<IPython.core.display.Image object>"
      ]
     },
     "metadata": {},
     "output_type": "display_data"
    },
    {
     "name": "stdout",
     "output_type": "stream",
     "text": [
      "pngResampled1000/96\n"
     ]
    },
    {
     "data": {
      "image/png": "[encoded data removed]",
      "text/plain": [
       "<IPython.core.display.Image object>"
      ]
     },
     "metadata": {},
     "output_type": "display_data"
    },
    {
     "name": "stdout",
     "output_type": "stream",
     "text": [
      "pngResampled1000/97\n"
     ]
    },
    {
     "data": {
      "image/png": "[encoded data removed]",
      "text/plain": [
       "<IPython.core.display.Image object>"
      ]
     },
     "metadata": {},
     "output_type": "display_data"
    },
    {
     "name": "stdout",
     "output_type": "stream",
     "text": [
      "pngResampled1000/98\n"
     ]
    },
    {
     "data": {
      "image/png": "[encoded data removed]",
      "text/plain": [
       "<IPython.core.display.Image object>"
      ]
     },
     "metadata": {},
     "output_type": "display_data"
    },
    {
     "name": "stdout",
     "output_type": "stream",
     "text": [
      "pngResampled1000/99\n"
     ]
    },
    {
     "data": {
      "image/png": "[encoded data removed]",
      "text/plain": [
       "<IPython.core.display.Image object>"
      ]
     },
     "metadata": {},
     "output_type": "display_data"
    }
   ],
   "source": [
    "disp_samples(train_folders, 1)"
   ]
  },
  {
   "cell_type": "code",
   "execution_count": null,
   "metadata": {
    "collapsed": false
   },
   "outputs": [],
   "source": []
  },
  {
   "cell_type": "code",
   "execution_count": 337,
   "metadata": {
    "collapsed": false
   },
   "outputs": [
    {
     "name": "stdout",
     "output_type": "stream",
     "text": [
      "Pickling pngResampled1000/0.pickle.\n",
      "pngResampled1000/0\n",
      "Pickling pngResampled1000/1.pickle.\n",
      "pngResampled1000/1\n",
      "Pickling pngResampled1000/10.pickle.\n",
      "pngResampled1000/10\n",
      "Pickling pngResampled1000/100.pickle.\n",
      "pngResampled1000/100\n",
      "Pickling pngResampled1000/101.pickle.\n",
      "pngResampled1000/101\n",
      "Pickling pngResampled1000/102.pickle.\n",
      "pngResampled1000/102\n",
      "Pickling pngResampled1000/103.pickle.\n",
      "pngResampled1000/103\n",
      "Pickling pngResampled1000/104.pickle.\n",
      "pngResampled1000/104\n",
      "Pickling pngResampled1000/105.pickle.\n",
      "pngResampled1000/105\n",
      "Pickling pngResampled1000/106.pickle.\n",
      "pngResampled1000/106\n",
      "Pickling pngResampled1000/107.pickle.\n",
      "pngResampled1000/107\n",
      "Pickling pngResampled1000/108.pickle.\n",
      "pngResampled1000/108\n",
      "Pickling pngResampled1000/109.pickle.\n",
      "pngResampled1000/109\n",
      "Pickling pngResampled1000/11.pickle.\n",
      "pngResampled1000/11\n",
      "Pickling pngResampled1000/110.pickle.\n",
      "pngResampled1000/110\n",
      "Pickling pngResampled1000/111.pickle.\n",
      "pngResampled1000/111\n",
      "Pickling pngResampled1000/112.pickle.\n",
      "pngResampled1000/112\n",
      "Pickling pngResampled1000/113.pickle.\n",
      "pngResampled1000/113\n",
      "Pickling pngResampled1000/114.pickle.\n",
      "pngResampled1000/114\n",
      "Pickling pngResampled1000/115.pickle.\n",
      "pngResampled1000/115\n",
      "Pickling pngResampled1000/116.pickle.\n",
      "pngResampled1000/116\n",
      "Pickling pngResampled1000/117.pickle.\n",
      "pngResampled1000/117\n",
      "Pickling pngResampled1000/118.pickle.\n",
      "pngResampled1000/118\n",
      "Pickling pngResampled1000/119.pickle.\n",
      "pngResampled1000/119\n",
      "Pickling pngResampled1000/12.pickle.\n",
      "pngResampled1000/12\n",
      "Pickling pngResampled1000/120.pickle.\n",
      "pngResampled1000/120\n",
      "Pickling pngResampled1000/121.pickle.\n",
      "pngResampled1000/121\n",
      "Pickling pngResampled1000/122.pickle.\n",
      "pngResampled1000/122\n",
      "Pickling pngResampled1000/123.pickle.\n",
      "pngResampled1000/123\n",
      "Pickling pngResampled1000/124.pickle.\n",
      "pngResampled1000/124\n",
      "Pickling pngResampled1000/125.pickle.\n",
      "pngResampled1000/125\n",
      "Pickling pngResampled1000/126.pickle.\n",
      "pngResampled1000/126\n",
      "Pickling pngResampled1000/127.pickle.\n",
      "pngResampled1000/127\n",
      "Pickling pngResampled1000/128.pickle.\n",
      "pngResampled1000/128\n",
      "Pickling pngResampled1000/129.pickle.\n",
      "pngResampled1000/129\n",
      "Pickling pngResampled1000/13.pickle.\n",
      "pngResampled1000/13\n",
      "Pickling pngResampled1000/130.pickle.\n",
      "pngResampled1000/130\n",
      "Pickling pngResampled1000/131.pickle.\n",
      "pngResampled1000/131\n",
      "Pickling pngResampled1000/132.pickle.\n",
      "pngResampled1000/132\n",
      "Pickling pngResampled1000/133.pickle.\n",
      "pngResampled1000/133\n",
      "Pickling pngResampled1000/134.pickle.\n",
      "pngResampled1000/134\n",
      "Pickling pngResampled1000/135.pickle.\n",
      "pngResampled1000/135\n",
      "Pickling pngResampled1000/136.pickle.\n",
      "pngResampled1000/136\n",
      "Pickling pngResampled1000/137.pickle.\n",
      "pngResampled1000/137\n",
      "Pickling pngResampled1000/138.pickle.\n",
      "pngResampled1000/138\n",
      "Pickling pngResampled1000/139.pickle.\n",
      "pngResampled1000/139\n",
      "Pickling pngResampled1000/14.pickle.\n",
      "pngResampled1000/14\n",
      "Pickling pngResampled1000/140.pickle.\n",
      "pngResampled1000/140\n",
      "Pickling pngResampled1000/141.pickle.\n",
      "pngResampled1000/141\n",
      "Pickling pngResampled1000/142.pickle.\n",
      "pngResampled1000/142\n",
      "Pickling pngResampled1000/143.pickle.\n",
      "pngResampled1000/143\n",
      "Pickling pngResampled1000/144.pickle.\n",
      "pngResampled1000/144\n",
      "Pickling pngResampled1000/145.pickle.\n",
      "pngResampled1000/145\n",
      "Pickling pngResampled1000/146.pickle.\n",
      "pngResampled1000/146\n",
      "Pickling pngResampled1000/147.pickle.\n",
      "pngResampled1000/147\n",
      "Pickling pngResampled1000/148.pickle.\n",
      "pngResampled1000/148\n",
      "Pickling pngResampled1000/149.pickle.\n",
      "pngResampled1000/149\n",
      "Pickling pngResampled1000/15.pickle.\n",
      "pngResampled1000/15\n",
      "Pickling pngResampled1000/150.pickle.\n",
      "pngResampled1000/150\n",
      "Pickling pngResampled1000/151.pickle.\n",
      "pngResampled1000/151\n",
      "Pickling pngResampled1000/152.pickle.\n",
      "pngResampled1000/152\n",
      "Pickling pngResampled1000/153.pickle.\n",
      "pngResampled1000/153\n",
      "Pickling pngResampled1000/154.pickle.\n",
      "pngResampled1000/154\n",
      "Pickling pngResampled1000/155.pickle.\n",
      "pngResampled1000/155\n",
      "Pickling pngResampled1000/156.pickle.\n",
      "pngResampled1000/156\n",
      "Pickling pngResampled1000/157.pickle.\n",
      "pngResampled1000/157\n",
      "Pickling pngResampled1000/158.pickle.\n",
      "pngResampled1000/158\n",
      "Pickling pngResampled1000/159.pickle.\n",
      "pngResampled1000/159\n",
      "Pickling pngResampled1000/16.pickle.\n",
      "pngResampled1000/16\n",
      "Pickling pngResampled1000/160.pickle.\n",
      "pngResampled1000/160\n",
      "Pickling pngResampled1000/161.pickle.\n",
      "pngResampled1000/161\n",
      "Pickling pngResampled1000/162.pickle.\n",
      "pngResampled1000/162\n",
      "Pickling pngResampled1000/163.pickle.\n",
      "pngResampled1000/163\n",
      "Pickling pngResampled1000/164.pickle.\n",
      "pngResampled1000/164\n",
      "Pickling pngResampled1000/165.pickle.\n",
      "pngResampled1000/165\n",
      "Pickling pngResampled1000/166.pickle.\n",
      "pngResampled1000/166\n",
      "Pickling pngResampled1000/167.pickle.\n",
      "pngResampled1000/167\n",
      "Pickling pngResampled1000/168.pickle.\n",
      "pngResampled1000/168\n",
      "Pickling pngResampled1000/169.pickle.\n",
      "pngResampled1000/169\n",
      "Pickling pngResampled1000/17.pickle.\n",
      "pngResampled1000/17\n",
      "Pickling pngResampled1000/170.pickle.\n",
      "pngResampled1000/170\n",
      "Pickling pngResampled1000/171.pickle.\n",
      "pngResampled1000/171\n",
      "Pickling pngResampled1000/172.pickle.\n",
      "pngResampled1000/172\n",
      "Pickling pngResampled1000/173.pickle.\n",
      "pngResampled1000/173\n",
      "Pickling pngResampled1000/174.pickle.\n",
      "pngResampled1000/174\n",
      "Pickling pngResampled1000/175.pickle.\n",
      "pngResampled1000/175\n",
      "Pickling pngResampled1000/176.pickle.\n",
      "pngResampled1000/176\n",
      "Pickling pngResampled1000/177.pickle.\n",
      "pngResampled1000/177\n",
      "Pickling pngResampled1000/178.pickle.\n",
      "pngResampled1000/178\n",
      "Pickling pngResampled1000/179.pickle.\n",
      "pngResampled1000/179\n",
      "Pickling pngResampled1000/18.pickle.\n",
      "pngResampled1000/18\n",
      "Pickling pngResampled1000/180.pickle.\n",
      "pngResampled1000/180\n",
      "Pickling pngResampled1000/181.pickle.\n",
      "pngResampled1000/181\n",
      "Pickling pngResampled1000/182.pickle.\n",
      "pngResampled1000/182\n",
      "Pickling pngResampled1000/183.pickle.\n",
      "pngResampled1000/183\n",
      "Pickling pngResampled1000/184.pickle.\n",
      "pngResampled1000/184\n",
      "Pickling pngResampled1000/185.pickle.\n",
      "pngResampled1000/185\n",
      "Pickling pngResampled1000/186.pickle.\n",
      "pngResampled1000/186\n",
      "Pickling pngResampled1000/187.pickle.\n",
      "pngResampled1000/187\n",
      "Pickling pngResampled1000/188.pickle.\n",
      "pngResampled1000/188\n",
      "Pickling pngResampled1000/189.pickle.\n",
      "pngResampled1000/189\n",
      "Pickling pngResampled1000/19.pickle.\n",
      "pngResampled1000/19\n",
      "Pickling pngResampled1000/190.pickle.\n",
      "pngResampled1000/190\n",
      "Pickling pngResampled1000/191.pickle.\n",
      "pngResampled1000/191\n",
      "Pickling pngResampled1000/192.pickle.\n",
      "pngResampled1000/192\n",
      "Pickling pngResampled1000/193.pickle.\n",
      "pngResampled1000/193\n",
      "Pickling pngResampled1000/194.pickle.\n",
      "pngResampled1000/194\n",
      "Pickling pngResampled1000/195.pickle.\n",
      "pngResampled1000/195\n",
      "Pickling pngResampled1000/196.pickle.\n",
      "pngResampled1000/196\n",
      "Pickling pngResampled1000/197.pickle.\n",
      "pngResampled1000/197\n",
      "Pickling pngResampled1000/198.pickle.\n",
      "pngResampled1000/198\n",
      "Pickling pngResampled1000/199.pickle.\n",
      "pngResampled1000/199\n",
      "Pickling pngResampled1000/2.pickle.\n",
      "pngResampled1000/2\n",
      "Pickling pngResampled1000/20.pickle.\n",
      "pngResampled1000/20\n",
      "Pickling pngResampled1000/200.pickle.\n",
      "pngResampled1000/200\n",
      "Pickling pngResampled1000/201.pickle.\n",
      "pngResampled1000/201\n",
      "Pickling pngResampled1000/202.pickle.\n",
      "pngResampled1000/202\n",
      "Pickling pngResampled1000/203.pickle.\n",
      "pngResampled1000/203\n",
      "Pickling pngResampled1000/204.pickle.\n",
      "pngResampled1000/204\n",
      "Pickling pngResampled1000/205.pickle.\n",
      "pngResampled1000/205\n",
      "Pickling pngResampled1000/206.pickle.\n",
      "pngResampled1000/206\n",
      "Pickling pngResampled1000/207.pickle.\n",
      "pngResampled1000/207\n",
      "Pickling pngResampled1000/208.pickle.\n",
      "pngResampled1000/208\n",
      "Pickling pngResampled1000/209.pickle.\n",
      "pngResampled1000/209\n",
      "Pickling pngResampled1000/21.pickle.\n",
      "pngResampled1000/21\n",
      "Pickling pngResampled1000/210.pickle.\n",
      "pngResampled1000/210\n",
      "Pickling pngResampled1000/211.pickle.\n",
      "pngResampled1000/211\n",
      "Pickling pngResampled1000/212.pickle.\n",
      "pngResampled1000/212\n",
      "Pickling pngResampled1000/213.pickle.\n",
      "pngResampled1000/213\n",
      "Pickling pngResampled1000/214.pickle.\n",
      "pngResampled1000/214\n",
      "Pickling pngResampled1000/215.pickle.\n",
      "pngResampled1000/215\n",
      "Pickling pngResampled1000/216.pickle.\n",
      "pngResampled1000/216\n",
      "Pickling pngResampled1000/217.pickle.\n",
      "pngResampled1000/217\n",
      "Pickling pngResampled1000/218.pickle.\n",
      "pngResampled1000/218\n",
      "Pickling pngResampled1000/219.pickle.\n",
      "pngResampled1000/219\n",
      "Pickling pngResampled1000/22.pickle.\n",
      "pngResampled1000/22\n",
      "Pickling pngResampled1000/220.pickle.\n",
      "pngResampled1000/220\n",
      "Pickling pngResampled1000/221.pickle.\n",
      "pngResampled1000/221\n",
      "Pickling pngResampled1000/222.pickle.\n",
      "pngResampled1000/222\n",
      "Pickling pngResampled1000/223.pickle.\n",
      "pngResampled1000/223\n",
      "Pickling pngResampled1000/224.pickle.\n",
      "pngResampled1000/224\n",
      "Pickling pngResampled1000/225.pickle.\n",
      "pngResampled1000/225\n",
      "Pickling pngResampled1000/226.pickle.\n",
      "pngResampled1000/226\n",
      "Pickling pngResampled1000/227.pickle.\n",
      "pngResampled1000/227\n",
      "Pickling pngResampled1000/228.pickle.\n",
      "pngResampled1000/228\n",
      "Pickling pngResampled1000/229.pickle.\n",
      "pngResampled1000/229\n",
      "Pickling pngResampled1000/23.pickle.\n",
      "pngResampled1000/23\n",
      "Pickling pngResampled1000/230.pickle.\n",
      "pngResampled1000/230\n",
      "Pickling pngResampled1000/231.pickle.\n",
      "pngResampled1000/231\n",
      "Pickling pngResampled1000/232.pickle.\n",
      "pngResampled1000/232\n",
      "Pickling pngResampled1000/233.pickle.\n",
      "pngResampled1000/233\n",
      "Pickling pngResampled1000/234.pickle.\n",
      "pngResampled1000/234\n",
      "Pickling pngResampled1000/235.pickle.\n",
      "pngResampled1000/235\n",
      "Pickling pngResampled1000/236.pickle.\n",
      "pngResampled1000/236\n",
      "Pickling pngResampled1000/237.pickle.\n",
      "pngResampled1000/237\n",
      "Pickling pngResampled1000/238.pickle.\n",
      "pngResampled1000/238\n",
      "Pickling pngResampled1000/239.pickle.\n",
      "pngResampled1000/239\n",
      "Pickling pngResampled1000/24.pickle.\n",
      "pngResampled1000/24\n",
      "Pickling pngResampled1000/240.pickle.\n",
      "pngResampled1000/240\n",
      "Pickling pngResampled1000/241.pickle.\n",
      "pngResampled1000/241\n",
      "Pickling pngResampled1000/242.pickle.\n",
      "pngResampled1000/242\n",
      "Pickling pngResampled1000/243.pickle.\n",
      "pngResampled1000/243\n",
      "Pickling pngResampled1000/244.pickle.\n",
      "pngResampled1000/244\n",
      "Pickling pngResampled1000/245.pickle.\n",
      "pngResampled1000/245\n",
      "Pickling pngResampled1000/246.pickle.\n",
      "pngResampled1000/246\n",
      "Pickling pngResampled1000/247.pickle.\n",
      "pngResampled1000/247\n",
      "Pickling pngResampled1000/248.pickle.\n",
      "pngResampled1000/248\n",
      "Pickling pngResampled1000/249.pickle.\n",
      "pngResampled1000/249\n",
      "Pickling pngResampled1000/25.pickle.\n",
      "pngResampled1000/25\n",
      "Pickling pngResampled1000/250.pickle.\n",
      "pngResampled1000/250\n",
      "Pickling pngResampled1000/251.pickle.\n",
      "pngResampled1000/251\n",
      "Pickling pngResampled1000/252.pickle.\n",
      "pngResampled1000/252\n",
      "Pickling pngResampled1000/253.pickle.\n",
      "pngResampled1000/253\n",
      "Pickling pngResampled1000/254.pickle.\n",
      "pngResampled1000/254\n",
      "Pickling pngResampled1000/255.pickle.\n",
      "pngResampled1000/255\n",
      "Pickling pngResampled1000/26.pickle.\n",
      "pngResampled1000/26\n",
      "Pickling pngResampled1000/27.pickle.\n",
      "pngResampled1000/27\n",
      "Pickling pngResampled1000/28.pickle.\n",
      "pngResampled1000/28\n",
      "Pickling pngResampled1000/29.pickle.\n",
      "pngResampled1000/29\n",
      "Pickling pngResampled1000/3.pickle.\n",
      "pngResampled1000/3\n",
      "Pickling pngResampled1000/30.pickle.\n",
      "pngResampled1000/30\n",
      "Pickling pngResampled1000/31.pickle.\n",
      "pngResampled1000/31\n",
      "Pickling pngResampled1000/32.pickle.\n",
      "pngResampled1000/32\n",
      "Pickling pngResampled1000/33.pickle.\n",
      "pngResampled1000/33\n",
      "Pickling pngResampled1000/34.pickle.\n",
      "pngResampled1000/34\n",
      "Pickling pngResampled1000/35.pickle.\n",
      "pngResampled1000/35\n",
      "Pickling pngResampled1000/36.pickle.\n",
      "pngResampled1000/36\n",
      "Pickling pngResampled1000/37.pickle.\n",
      "pngResampled1000/37\n",
      "Pickling pngResampled1000/38.pickle.\n",
      "pngResampled1000/38\n",
      "Pickling pngResampled1000/39.pickle.\n",
      "pngResampled1000/39\n",
      "Pickling pngResampled1000/4.pickle.\n",
      "pngResampled1000/4\n",
      "Pickling pngResampled1000/40.pickle.\n",
      "pngResampled1000/40\n",
      "Pickling pngResampled1000/41.pickle.\n",
      "pngResampled1000/41\n",
      "Pickling pngResampled1000/42.pickle.\n",
      "pngResampled1000/42\n",
      "Pickling pngResampled1000/43.pickle.\n",
      "pngResampled1000/43\n",
      "Pickling pngResampled1000/44.pickle.\n",
      "pngResampled1000/44\n",
      "Pickling pngResampled1000/45.pickle.\n",
      "pngResampled1000/45\n",
      "Pickling pngResampled1000/46.pickle.\n",
      "pngResampled1000/46\n",
      "Pickling pngResampled1000/47.pickle.\n",
      "pngResampled1000/47\n",
      "Pickling pngResampled1000/48.pickle.\n",
      "pngResampled1000/48\n",
      "Pickling pngResampled1000/49.pickle.\n",
      "pngResampled1000/49\n",
      "Pickling pngResampled1000/5.pickle.\n",
      "pngResampled1000/5\n",
      "Pickling pngResampled1000/50.pickle.\n",
      "pngResampled1000/50\n",
      "Pickling pngResampled1000/51.pickle.\n",
      "pngResampled1000/51\n",
      "Pickling pngResampled1000/52.pickle.\n",
      "pngResampled1000/52\n",
      "Pickling pngResampled1000/53.pickle.\n",
      "pngResampled1000/53\n",
      "Pickling pngResampled1000/54.pickle.\n",
      "pngResampled1000/54\n",
      "Pickling pngResampled1000/55.pickle.\n",
      "pngResampled1000/55\n",
      "Pickling pngResampled1000/56.pickle.\n",
      "pngResampled1000/56\n",
      "Pickling pngResampled1000/57.pickle.\n",
      "pngResampled1000/57\n",
      "Pickling pngResampled1000/58.pickle.\n",
      "pngResampled1000/58\n",
      "Pickling pngResampled1000/59.pickle.\n",
      "pngResampled1000/59\n",
      "Pickling pngResampled1000/6.pickle.\n",
      "pngResampled1000/6\n",
      "Pickling pngResampled1000/60.pickle.\n",
      "pngResampled1000/60\n",
      "Pickling pngResampled1000/61.pickle.\n",
      "pngResampled1000/61\n",
      "Pickling pngResampled1000/62.pickle.\n",
      "pngResampled1000/62\n",
      "Pickling pngResampled1000/63.pickle.\n",
      "pngResampled1000/63\n",
      "Pickling pngResampled1000/64.pickle.\n",
      "pngResampled1000/64\n",
      "Pickling pngResampled1000/65.pickle.\n",
      "pngResampled1000/65\n",
      "Pickling pngResampled1000/66.pickle.\n",
      "pngResampled1000/66\n",
      "Pickling pngResampled1000/67.pickle.\n",
      "pngResampled1000/67\n",
      "Pickling pngResampled1000/68.pickle.\n",
      "pngResampled1000/68\n",
      "Pickling pngResampled1000/69.pickle.\n",
      "pngResampled1000/69\n",
      "Pickling pngResampled1000/7.pickle.\n",
      "pngResampled1000/7\n",
      "Pickling pngResampled1000/70.pickle.\n",
      "pngResampled1000/70\n",
      "Pickling pngResampled1000/71.pickle.\n",
      "pngResampled1000/71\n",
      "Pickling pngResampled1000/72.pickle.\n",
      "pngResampled1000/72\n",
      "Pickling pngResampled1000/73.pickle.\n",
      "pngResampled1000/73\n",
      "Pickling pngResampled1000/74.pickle.\n",
      "pngResampled1000/74\n",
      "Pickling pngResampled1000/75.pickle.\n",
      "pngResampled1000/75\n",
      "Pickling pngResampled1000/76.pickle.\n",
      "pngResampled1000/76\n",
      "Pickling pngResampled1000/77.pickle.\n",
      "pngResampled1000/77\n",
      "Pickling pngResampled1000/78.pickle.\n",
      "pngResampled1000/78\n",
      "Pickling pngResampled1000/79.pickle.\n",
      "pngResampled1000/79\n",
      "Pickling pngResampled1000/8.pickle.\n",
      "pngResampled1000/8\n",
      "Pickling pngResampled1000/80.pickle.\n",
      "pngResampled1000/80\n",
      "Pickling pngResampled1000/81.pickle.\n",
      "pngResampled1000/81\n",
      "Pickling pngResampled1000/82.pickle.\n",
      "pngResampled1000/82\n",
      "Pickling pngResampled1000/83.pickle.\n",
      "pngResampled1000/83\n",
      "Pickling pngResampled1000/84.pickle.\n",
      "pngResampled1000/84\n",
      "Pickling pngResampled1000/85.pickle.\n",
      "pngResampled1000/85\n",
      "Pickling pngResampled1000/86.pickle.\n",
      "pngResampled1000/86\n",
      "Pickling pngResampled1000/87.pickle.\n",
      "pngResampled1000/87\n",
      "Pickling pngResampled1000/88.pickle.\n",
      "pngResampled1000/88\n",
      "Pickling pngResampled1000/89.pickle.\n",
      "pngResampled1000/89\n",
      "Pickling pngResampled1000/9.pickle.\n",
      "pngResampled1000/9\n",
      "Pickling pngResampled1000/90.pickle.\n",
      "pngResampled1000/90\n",
      "Pickling pngResampled1000/91.pickle.\n",
      "pngResampled1000/91\n",
      "Pickling pngResampled1000/92.pickle.\n",
      "pngResampled1000/92\n",
      "Pickling pngResampled1000/93.pickle.\n",
      "pngResampled1000/93\n",
      "Pickling pngResampled1000/94.pickle.\n",
      "pngResampled1000/94\n",
      "Pickling pngResampled1000/95.pickle.\n",
      "pngResampled1000/95\n",
      "Pickling pngResampled1000/96.pickle.\n",
      "pngResampled1000/96\n",
      "Pickling pngResampled1000/97.pickle.\n",
      "pngResampled1000/97\n",
      "Pickling pngResampled1000/98.pickle.\n",
      "pngResampled1000/98\n",
      "Pickling pngResampled1000/99.pickle.\n",
      "pngResampled1000/99\n",
      "[[[  0   0   0 ...,   0   0   0]\n",
      "  [  0   0   0 ...,   0   0   0]\n",
      "  [  0   0   0 ...,   0   0   0]\n",
      "  ..., \n",
      "  [  0   0   0 ...,   0   0   0]\n",
      "  [  0   0   0 ...,   0   0   0]\n",
      "  [  0   0   0 ...,   0   0   0]]\n",
      "\n",
      " [[  0   0   0 ...,   0   0   0]\n",
      "  [  0   0   0 ...,   0   0   0]\n",
      "  [  0   0   0 ...,   0   0   0]\n",
      "  ..., \n",
      "  [  0   0   0 ...,   0   0   0]\n",
      "  [  0   0   0 ...,   0   0   0]\n",
      "  [  0   0   0 ...,   0   0   0]]\n",
      "\n",
      " [[  0   0   0 ...,   0   0   0]\n",
      "  [  0   0   0 ...,   0   0   0]\n",
      "  [  0   0   0 ...,   0   0   0]\n",
      "  ..., \n",
      "  [  0   0   0 ...,   0   0   0]\n",
      "  [  0   0   0 ...,   0   0   0]\n",
      "  [  0   0   0 ...,   0   0   0]]\n",
      "\n",
      " ..., \n",
      " [[ 97  97  97 ...,  78  78  78]\n",
      "  [ 97  97  97 ...,  78  78  78]\n",
      "  [ 97  97  97 ...,  78  78  78]\n",
      "  ..., \n",
      "  [200 200 200 ...,  62  62  62]\n",
      "  [200 200 200 ...,  62  62  62]\n",
      "  [200 200 200 ...,  62  62  62]]\n",
      "\n",
      " [[ 78  78  78 ...,  63  63  63]\n",
      "  [ 78  78  78 ...,  63  63  63]\n",
      "  [ 78  78  78 ...,  63  63  63]\n",
      "  ..., \n",
      "  [ 68  68  68 ..., 183 183 183]\n",
      "  [ 68  68  68 ..., 183 183 183]\n",
      "  [ 68  68  68 ..., 183 183 183]]\n",
      "\n",
      " [[ 49  49  49 ..., 175 175 175]\n",
      "  [ 49  49  49 ..., 175 175 175]\n",
      "  [ 49  49  49 ..., 175 175 175]\n",
      "  ..., \n",
      "  [ 97  97  97 ...,  73  73  73]\n",
      "  [ 97  97  97 ...,  73  73  73]\n",
      "  [ 97  97  97 ...,  73  73  73]]]\n",
      "[ 0  0  0 ..., 99 99 99]\n",
      "(256000, 28, 28)\n",
      "(256000,)\n"
     ]
    }
   ],
   "source": [
    "#Pickling the data\n",
    "\n",
    "image_size = 28  # Pixel width and height.\n",
    "pixel_depth = 255.0  # Number of levels per pixel.\n",
    "\n",
    "        \n",
    "def maybe_pickle(data_folders,force=False):\n",
    "  dataset_names = []\n",
    "  tsize_per_class = 1000\n",
    "  start_t = 0\n",
    "  end_t = tsize_per_class\n",
    "  trainDataset = np.ndarray((256000, image_size, image_size), dtype=np.uint8)\n",
    "  labels = np.ndarray(256000, dtype=np.int32)\n",
    "  for folder in data_folders:\n",
    "    set_filename = folder + '.pickle'\n",
    "    dataset_names.append(set_filename)\n",
    "    if os.path.exists(set_filename) and not force:\n",
    "      # You may override by setting force=True.\n",
    "      print('%s already present - Skipping pickling.' % set_filename)\n",
    "    else:\n",
    "      print('Pickling %s.' % set_filename)\n",
    "      image_files = os.listdir(folder)\n",
    "      dataset = np.ndarray(shape=(len(image_files), image_size, image_size),\n",
    "                         dtype=np.uint8)\n",
    "      image_index = 0\n",
    "      print(folder)\n",
    "      for image in os.listdir(folder):\n",
    "            image_file = os.path.join(folder, image)\n",
    "            image_data = (ndimage.imread(image_file).astype(int))\n",
    "            dataset[image_index, :, :] = image_data\n",
    "            image_index += 1\n",
    "print(testDataset.shape)\n",
    "print(labelsTestDataset.shape)\n",
    "      num_images = image_index\n",
    "      dataset = dataset[0:num_images, :, :]\n",
    "      trainDataset[start_t:end_t, :, :] = dataset\n",
    "      labels[start_t:end_t] = folder.split(\"/\")[1]\n",
    "      start_t += tsize_per_class\n",
    "      end_t += tsize_per_class\n",
    "      try:\n",
    "        with open(set_filename, 'wb') as f:\n",
    "          pickle.dump(dataset, f, pickle.HIGHEST_PROTOCOL)\n",
    "      except Exception as e:\n",
    "        print('Unable to save data to', set_filename, ':', e)\n",
    "  \n",
    "  return dataset_names, trainDataset, labels\n",
    "\n",
    "train_datasets, trainDataset, labels = maybe_pickle(train_folders)\n",
    "#print (train_datasets)\n",
    "print(trainDataset)\n",
    "print(labels)\n",
    "#test_datasets = maybe_pickle(test_folders)\n",
    "\n",
    "len(trainDataset)\n",
    "len(labels)\n",
    "print(trainDataset.shape)\n",
    "print(labels.shape)"
   ]
  },
  {
   "cell_type": "code",
   "execution_count": 403,
   "metadata": {
    "collapsed": false
   },
   "outputs": [
    {
     "name": "stdout",
     "output_type": "stream",
     "text": [
      "24456\n",
      "12\n"
     ]
    },
    {
     "data": {
      "image/png": "[encoded data removed]",
      "text/plain": [
       "<matplotlib.figure.Figure at 0x7f2f8d5c3a90>"
      ]
     },
     "metadata": {},
     "output_type": "display_data"
    },
    {
     "data": {
      "text/plain": [
       "12.0"
      ]
     },
     "execution_count": 403,
     "metadata": {},
     "output_type": "execute_result"
    }
   ],
   "source": [
    "rand_image = random.randint(0, 25600)\n",
    "\n",
    "print (rand_image)\n",
    "\n",
    "plt.imshow(trainDataset[rand_image], cmap='gray', interpolation='nearest', vmin=0, vmax=255)\n",
    "print (labels[rand_image])\n",
    "plt.show()\n",
    "np.mean(trainDataset[rand_image])\n",
    "        \n",
    "\n",
    "\n"
   ]
  },
  {
   "cell_type": "code",
   "execution_count": 356,
   "metadata": {
    "collapsed": false
   },
   "outputs": [
    {
     "name": "stdout",
     "output_type": "stream",
     "text": [
      "Number of images in  pngResampled1000/0  :  1000\n",
      "Number of images in  pngResampled1000/1  :  1000\n",
      "Number of images in  pngResampled1000/10  :  1000\n",
      "Number of images in  pngResampled1000/100  :  1000\n",
      "Number of images in  pngResampled1000/101  :  1000\n",
      "Number of images in  pngResampled1000/102  :  1000\n",
      "Number of images in  pngResampled1000/103  :  1000\n",
      "Number of images in  pngResampled1000/104  :  1000\n",
      "Number of images in  pngResampled1000/105  :  1000\n",
      "Number of images in  pngResampled1000/106  :  1000\n",
      "Number of images in  pngResampled1000/107  :  1000\n",
      "Number of images in  pngResampled1000/108  :  1000\n",
      "Number of images in  pngResampled1000/109  :  1000\n",
      "Number of images in  pngResampled1000/11  :  1000\n",
      "Number of images in  pngResampled1000/110  :  1000\n",
      "Number of images in  pngResampled1000/111  :  1000\n",
      "Number of images in  pngResampled1000/112  :  1000\n",
      "Number of images in  pngResampled1000/113  :  1000\n",
      "Number of images in  pngResampled1000/114  :  1000\n",
      "Number of images in  pngResampled1000/115  :  1000\n",
      "Number of images in  pngResampled1000/116  :  1000\n",
      "Number of images in  pngResampled1000/117  :  1000\n",
      "Number of images in  pngResampled1000/118  :  1000\n",
      "Number of images in  pngResampled1000/119  :  1000\n",
      "Number of images in  pngResampled1000/12  :  1000\n",
      "Number of images in  pngResampled1000/120  :  1000\n",
      "Number of images in  pngResampled1000/121  :  1000\n",
      "Number of images in  pngResampled1000/122  :  1000\n",
      "Number of images in  pngResampled1000/123  :  1000\n",
      "Number of images in  pngResampled1000/124  :  1000\n",
      "Number of images in  pngResampled1000/125  :  1000\n",
      "Number of images in  pngResampled1000/126  :  1000\n",
      "Number of images in  pngResampled1000/127  :  1000\n",
      "Number of images in  pngResampled1000/128  :  1000\n",
      "Number of images in  pngResampled1000/129  :  1000\n",
      "Number of images in  pngResampled1000/13  :  1000\n",
      "Number of images in  pngResampled1000/130  :  1000\n",
      "Number of images in  pngResampled1000/131  :  1000\n",
      "Number of images in  pngResampled1000/132  :  1000\n",
      "Number of images in  pngResampled1000/133  :  1000\n",
      "Number of images in  pngResampled1000/134  :  1000\n",
      "Number of images in  pngResampled1000/135  :  1000\n",
      "Number of images in  pngResampled1000/136  :  1000\n",
      "Number of images in  pngResampled1000/137  :  1000\n",
      "Number of images in  pngResampled1000/138  :  1000\n",
      "Number of images in  pngResampled1000/139  :  1000\n",
      "Number of images in  pngResampled1000/14  :  1000\n",
      "Number of images in  pngResampled1000/140  :  1000\n",
      "Number of images in  pngResampled1000/141  :  1000\n",
      "Number of images in  pngResampled1000/142  :  1000\n",
      "Number of images in  pngResampled1000/143  :  1000\n",
      "Number of images in  pngResampled1000/144  :  1000\n",
      "Number of images in  pngResampled1000/145  :  1000\n",
      "Number of images in  pngResampled1000/146  :  1000\n",
      "Number of images in  pngResampled1000/147  :  1000\n",
      "Number of images in  pngResampled1000/148  :  1000\n",
      "Number of images in  pngResampled1000/149  :  1000\n",
      "Number of images in  pngResampled1000/15  :  1000\n",
      "Number of images in  pngResampled1000/150  :  1000\n",
      "Number of images in  pngResampled1000/151  :  1000\n",
      "Number of images in  pngResampled1000/152  :  1000\n",
      "Number of images in  pngResampled1000/153  :  1000\n",
      "Number of images in  pngResampled1000/154  :  1000\n",
      "Number of images in  pngResampled1000/155  :  1000\n",
      "Number of images in  pngResampled1000/156  :  1000\n",
      "Number of images in  pngResampled1000/157  :  1000\n",
      "Number of images in  pngResampled1000/158  :  1000\n",
      "Number of images in  pngResampled1000/159  :  1000\n",
      "Number of images in  pngResampled1000/16  :  1000\n",
      "Number of images in  pngResampled1000/160  :  1000\n",
      "Number of images in  pngResampled1000/161  :  1000\n",
      "Number of images in  pngResampled1000/162  :  1000\n",
      "Number of images in  pngResampled1000/163  :  1000\n",
      "Number of images in  pngResampled1000/164  :  1000\n",
      "Number of images in  pngResampled1000/165  :  1000\n",
      "Number of images in  pngResampled1000/166  :  1000\n",
      "Number of images in  pngResampled1000/167  :  1000\n",
      "Number of images in  pngResampled1000/168  :  1000\n",
      "Number of images in  pngResampled1000/169  :  1000\n",
      "Number of images in  pngResampled1000/17  :  1000\n",
      "Number of images in  pngResampled1000/170  :  1000\n",
      "Number of images in  pngResampled1000/171  :  1000\n",
      "Number of images in  pngResampled1000/172  :  1000\n",
      "Number of images in  pngResampled1000/173  :  1000\n",
      "Number of images in  pngResampled1000/174  :  1000\n",
      "Number of images in  pngResampled1000/175  :  1000\n",
      "Number of images in  pngResampled1000/176  :  1000\n",
      "Number of images in  pngResampled1000/177  :  1000\n",
      "Number of images in  pngResampled1000/178  :  1000\n",
      "Number of images in  pngResampled1000/179  :  1000\n",
      "Number of images in  pngResampled1000/18  :  1000\n",
      "Number of images in  pngResampled1000/180  :  1000\n",
      "Number of images in  pngResampled1000/181  :  1000\n",
      "Number of images in  pngResampled1000/182  :  1000\n",
      "Number of images in  pngResampled1000/183  :  1000\n",
      "Number of images in  pngResampled1000/184  :  1000\n",
      "Number of images in  pngResampled1000/185  :  1000\n",
      "Number of images in  pngResampled1000/186  :  1000\n",
      "Number of images in  pngResampled1000/187  :  1000\n",
      "Number of images in  pngResampled1000/188  :  1000\n",
      "Number of images in  pngResampled1000/189  :  1000\n",
      "Number of images in  pngResampled1000/19  :  1000\n",
      "Number of images in  pngResampled1000/190  :  1000\n",
      "Number of images in  pngResampled1000/191  :  1000\n",
      "Number of images in  pngResampled1000/192  :  1000\n",
      "Number of images in  pngResampled1000/193  :  1000\n",
      "Number of images in  pngResampled1000/194  :  1000\n",
      "Number of images in  pngResampled1000/195  :  1000\n",
      "Number of images in  pngResampled1000/196  :  1000\n",
      "Number of images in  pngResampled1000/197  :  1000\n",
      "Number of images in  pngResampled1000/198  :  1000\n",
      "Number of images in  pngResampled1000/199  :  1000\n",
      "Number of images in  pngResampled1000/2  :  1000\n",
      "Number of images in  pngResampled1000/20  :  1000\n",
      "Number of images in  pngResampled1000/200  :  1000\n",
      "Number of images in  pngResampled1000/201  :  1000\n",
      "Number of images in  pngResampled1000/202  :  1000\n",
      "Number of images in  pngResampled1000/203  :  1000\n",
      "Number of images in  pngResampled1000/204  :  1000\n",
      "Number of images in  pngResampled1000/205  :  1000\n",
      "Number of images in  pngResampled1000/206  :  1000\n",
      "Number of images in  pngResampled1000/207  :  1000\n",
      "Number of images in  pngResampled1000/208  :  1000\n",
      "Number of images in  pngResampled1000/209  :  1000\n",
      "Number of images in  pngResampled1000/21  :  1000\n",
      "Number of images in  pngResampled1000/210  :  1000\n",
      "Number of images in  pngResampled1000/211  :  1000\n",
      "Number of images in  pngResampled1000/212  :  1000\n",
      "Number of images in  pngResampled1000/213  :  1000\n",
      "Number of images in  pngResampled1000/214  :  1000\n",
      "Number of images in  pngResampled1000/215  :  1000\n",
      "Number of images in  pngResampled1000/216  :  1000\n",
      "Number of images in  pngResampled1000/217  :  1000\n",
      "Number of images in  pngResampled1000/218  :  1000\n",
      "Number of images in  pngResampled1000/219  :  1000\n",
      "Number of images in  pngResampled1000/22  :  1000\n",
      "Number of images in  pngResampled1000/220  :  1000\n",
      "Number of images in  pngResampled1000/221  :  1000\n",
      "Number of images in  pngResampled1000/222  :  1000\n",
      "Number of images in  pngResampled1000/223  :  1000\n",
      "Number of images in  pngResampled1000/224  :  1000\n",
      "Number of images in  pngResampled1000/225  :  1000\n",
      "Number of images in  pngResampled1000/226  :  1000\n",
      "Number of images in  pngResampled1000/227  :  1000\n",
      "Number of images in  pngResampled1000/228  :  1000\n",
      "Number of images in  pngResampled1000/229  :  1000\n",
      "Number of images in  pngResampled1000/23  :  1000\n",
      "Number of images in  pngResampled1000/230  :  1000\n",
      "Number of images in  pngResampled1000/231  :  1000\n",
      "Number of images in  pngResampled1000/232  :  1000\n",
      "Number of images in  pngResampled1000/233  :  1000\n",
      "Number of images in  pngResampled1000/234  :  1000\n",
      "Number of images in  pngResampled1000/235  :  1000\n",
      "Number of images in  pngResampled1000/236  :  1000\n",
      "Number of images in  pngResampled1000/237  :  1000\n",
      "Number of images in  pngResampled1000/238  :  1000\n",
      "Number of images in  pngResampled1000/239  :  1000\n",
      "Number of images in  pngResampled1000/24  :  1000\n",
      "Number of images in  pngResampled1000/240  :  1000\n",
      "Number of images in  pngResampled1000/241  :  1000\n",
      "Number of images in  pngResampled1000/242  :  1000\n",
      "Number of images in  pngResampled1000/243  :  1000\n",
      "Number of images in  pngResampled1000/244  :  1000\n",
      "Number of images in  pngResampled1000/245  :  1000\n",
      "Number of images in  pngResampled1000/246  :  1000\n",
      "Number of images in  pngResampled1000/247  :  1000\n",
      "Number of images in  pngResampled1000/248  :  1000\n",
      "Number of images in  pngResampled1000/249  :  1000\n",
      "Number of images in  pngResampled1000/25  :  1000\n",
      "Number of images in  pngResampled1000/250  :  1000\n",
      "Number of images in  pngResampled1000/251  :  1000\n",
      "Number of images in  pngResampled1000/252  :  1000\n",
      "Number of images in  pngResampled1000/253  :  1000\n",
      "Number of images in  pngResampled1000/254  :  1000\n",
      "Number of images in  pngResampled1000/255  :  1000\n",
      "Number of images in  pngResampled1000/26  :  1000\n",
      "Number of images in  pngResampled1000/27  :  1000\n",
      "Number of images in  pngResampled1000/28  :  1000\n",
      "Number of images in  pngResampled1000/29  :  1000\n",
      "Number of images in  pngResampled1000/3  :  1000\n",
      "Number of images in  pngResampled1000/30  :  1000\n",
      "Number of images in  pngResampled1000/31  :  1000\n",
      "Number of images in  pngResampled1000/32  :  1000\n",
      "Number of images in  pngResampled1000/33  :  1000\n",
      "Number of images in  pngResampled1000/34  :  1000\n",
      "Number of images in  pngResampled1000/35  :  1000\n",
      "Number of images in  pngResampled1000/36  :  1000\n",
      "Number of images in  pngResampled1000/37  :  1000\n",
      "Number of images in  pngResampled1000/38  :  1000\n",
      "Number of images in  pngResampled1000/39  :  1000\n",
      "Number of images in  pngResampled1000/4  :  1000\n",
      "Number of images in  pngResampled1000/40  :  1000\n",
      "Number of images in  pngResampled1000/41  :  1000\n",
      "Number of images in  pngResampled1000/42  :  1000\n",
      "Number of images in  pngResampled1000/43  :  1000\n",
      "Number of images in  pngResampled1000/44  :  1000\n",
      "Number of images in  pngResampled1000/45  :  1000\n",
      "Number of images in  pngResampled1000/46  :  1000\n",
      "Number of images in  pngResampled1000/47  :  1000\n",
      "Number of images in  pngResampled1000/48  :  1000\n",
      "Number of images in  pngResampled1000/49  :  1000\n",
      "Number of images in  pngResampled1000/5  :  1000\n",
      "Number of images in  pngResampled1000/50  :  1000\n",
      "Number of images in  pngResampled1000/51  :  1000\n",
      "Number of images in  pngResampled1000/52  :  1000\n",
      "Number of images in  pngResampled1000/53  :  1000\n",
      "Number of images in  pngResampled1000/54  :  1000\n",
      "Number of images in  pngResampled1000/55  :  1000\n",
      "Number of images in  pngResampled1000/56  :  1000\n",
      "Number of images in  pngResampled1000/57  :  1000\n",
      "Number of images in  pngResampled1000/58  :  1000\n",
      "Number of images in  pngResampled1000/59  :  1000\n",
      "Number of images in  pngResampled1000/6  :  1000\n",
      "Number of images in  pngResampled1000/60  :  1000\n",
      "Number of images in  pngResampled1000/61  :  1000\n",
      "Number of images in  pngResampled1000/62  :  1000\n",
      "Number of images in  pngResampled1000/63  :  1000\n",
      "Number of images in  pngResampled1000/64  :  1000\n",
      "Number of images in  pngResampled1000/65  :  1000\n",
      "Number of images in  pngResampled1000/66  :  1000\n",
      "Number of images in  pngResampled1000/67  :  1000\n",
      "Number of images in  pngResampled1000/68  :  1000\n",
      "Number of images in  pngResampled1000/69  :  1000\n",
      "Number of images in  pngResampled1000/7  :  1000\n",
      "Number of images in  pngResampled1000/70  :  1000\n",
      "Number of images in  pngResampled1000/71  :  1000\n",
      "Number of images in  pngResampled1000/72  :  1000\n",
      "Number of images in  pngResampled1000/73  :  1000\n",
      "Number of images in  pngResampled1000/74  :  1000\n",
      "Number of images in  pngResampled1000/75  :  1000\n",
      "Number of images in  pngResampled1000/76  :  1000\n",
      "Number of images in  pngResampled1000/77  :  1000\n",
      "Number of images in  pngResampled1000/78  :  1000\n",
      "Number of images in  pngResampled1000/79  :  1000\n",
      "Number of images in  pngResampled1000/8  :  1000\n",
      "Number of images in  pngResampled1000/80  :  1000\n",
      "Number of images in  pngResampled1000/81  :  1000\n",
      "Number of images in  pngResampled1000/82  :  1000\n",
      "Number of images in  pngResampled1000/83  :  1000\n",
      "Number of images in  pngResampled1000/84  :  1000\n",
      "Number of images in  pngResampled1000/85  :  1000\n",
      "Number of images in  pngResampled1000/86  :  1000\n",
      "Number of images in  pngResampled1000/87  :  1000\n",
      "Number of images in  pngResampled1000/88  :  1000\n",
      "Number of images in  pngResampled1000/89  :  1000\n",
      "Number of images in  pngResampled1000/9  :  1000\n",
      "Number of images in  pngResampled1000/90  :  1000\n",
      "Number of images in  pngResampled1000/91  :  1000\n",
      "Number of images in  pngResampled1000/92  :  1000\n",
      "Number of images in  pngResampled1000/93  :  1000\n",
      "Number of images in  pngResampled1000/94  :  1000\n",
      "Number of images in  pngResampled1000/95  :  1000\n",
      "Number of images in  pngResampled1000/96  :  1000\n",
      "Number of images in  pngResampled1000/97  :  1000\n",
      "Number of images in  pngResampled1000/98  :  1000\n",
      "Number of images in  pngResampled1000/99  :  1000\n",
      "Unable to read data from trainsetpngResampled100/0.pickle : [Errno 2] No such file or directory: 'trainsetpngResampled100/0.pickle'\n"
     ]
    }
   ],
   "source": [
    "#test the data is balance\n",
    "\n",
    "def disp_number_images(data_folders):\n",
    "  for folder in data_folders:\n",
    "    pickle_filename = ''.join(folder) + '.pickle'\n",
    "    try:\n",
    "      with open(pickle_filename, 'rb') as f:\n",
    "        dataset = pickle.load(f)\n",
    "    except Exception as e:\n",
    "      print('Unable to read data from', pickle_filename, ':', e)\n",
    "      return\n",
    "    print('Number of images in ', folder, ' : ', len(dataset))\n",
    "    \n",
    "disp_number_images(train_folders)\n",
    "disp_number_images(test_folders)  "
   ]
  },
  {
   "cell_type": "code",
   "execution_count": 275,
   "metadata": {
    "collapsed": false
   },
   "outputs": [
    {
     "name": "stdout",
     "output_type": "stream",
     "text": [
      "Unable to process data from pngResampled1000/0.pickle : failed to coerce slice entry of type tuple to integer\n"
     ]
    },
    {
     "ename": "IndexError",
     "evalue": "failed to coerce slice entry of type tuple to integer",
     "output_type": "error",
     "traceback": [
      "\u001b[0;31m---------------------------------------------------------------------------\u001b[0m",
      "\u001b[0;31mIndexError\u001b[0m                                Traceback (most recent call last)",
      "\u001b[0;32m<ipython-input-275-a75644eba8cd>\u001b[0m in \u001b[0;36m<module>\u001b[0;34m()\u001b[0m\n\u001b[1;32m     40\u001b[0m \u001b[0;34m\u001b[0m\u001b[0m\n\u001b[1;32m     41\u001b[0m train_dataset, train_labels = merge_datasets(\n\u001b[0;32m---> 42\u001b[0;31m   train_datasets, train_size)\n\u001b[0m\u001b[1;32m     43\u001b[0m \u001b[0mtest_dataset\u001b[0m\u001b[0;34m,\u001b[0m \u001b[0mtest_labels\u001b[0m \u001b[0;34m=\u001b[0m \u001b[0mmerge_datasets\u001b[0m\u001b[0;34m(\u001b[0m\u001b[0mtest_datasets\u001b[0m\u001b[0;34m,\u001b[0m \u001b[0mtest_size\u001b[0m\u001b[0;34m)\u001b[0m\u001b[0;34m\u001b[0m\u001b[0m\n\u001b[1;32m     44\u001b[0m \u001b[0;34m\u001b[0m\u001b[0m\n",
      "\u001b[0;32m<ipython-input-275-a75644eba8cd>\u001b[0m in \u001b[0;36mmerge_datasets\u001b[0;34m(pickle_files, train_size)\u001b[0m\n\u001b[1;32m     25\u001b[0m \u001b[0;34m\u001b[0m\u001b[0m\n\u001b[1;32m     26\u001b[0m         \u001b[0mtrain_letter\u001b[0m \u001b[0;34m=\u001b[0m \u001b[0mletter_set\u001b[0m\u001b[0;34m[\u001b[0m\u001b[0;36m0\u001b[0m\u001b[0;34m:\u001b[0m\u001b[0mtsize_per_class\u001b[0m\u001b[0;34m,\u001b[0m \u001b[0;34m:\u001b[0m\u001b[0;34m,\u001b[0m \u001b[0;34m:\u001b[0m\u001b[0;34m]\u001b[0m\u001b[0;34m\u001b[0m\u001b[0m\n\u001b[0;32m---> 27\u001b[0;31m         \u001b[0mtrain_dataset\u001b[0m\u001b[0;34m[\u001b[0m\u001b[0mstart_t\u001b[0m\u001b[0;34m:\u001b[0m\u001b[0mend_t\u001b[0m\u001b[0;34m,\u001b[0m \u001b[0;34m:\u001b[0m\u001b[0;34m,\u001b[0m \u001b[0;34m:\u001b[0m\u001b[0;34m]\u001b[0m \u001b[0;34m=\u001b[0m \u001b[0mtrain_letter\u001b[0m\u001b[0;34m\u001b[0m\u001b[0m\n\u001b[0m\u001b[1;32m     28\u001b[0m         \u001b[0mtrain_labels\u001b[0m\u001b[0;34m[\u001b[0m\u001b[0mstart_t\u001b[0m\u001b[0;34m:\u001b[0m\u001b[0mend_t\u001b[0m\u001b[0;34m]\u001b[0m \u001b[0;34m=\u001b[0m \u001b[0mlabel\u001b[0m\u001b[0;34m\u001b[0m\u001b[0m\n\u001b[1;32m     29\u001b[0m         \u001b[0mstart_t\u001b[0m \u001b[0;34m+=\u001b[0m \u001b[0mtsize_per_class\u001b[0m\u001b[0;34m\u001b[0m\u001b[0m\n",
      "\u001b[0;31mIndexError\u001b[0m: failed to coerce slice entry of type tuple to integer"
     ]
    }
   ],
   "source": [
    "#Merge the data\n",
    "\n",
    "def make_arrays(nb_rows, img_size):\n",
    "  if nb_rows:\n",
    "    dataset = np.ndarray((nb_rows, img_size, img_size), dtype=np.float32)\n",
    "    labels = np.ndarray(nb_rows, dtype=np.int32)\n",
    "  else:\n",
    "    dataset, labels = None, None\n",
    "  return dataset, labels\n",
    "\n",
    "def merge_datasets(pickle_files, train_size):\n",
    "  num_classes = len(pickle_files)\n",
    "  train_dataset, train_labels = make_arrays(train_size, image_size)\n",
    "  tsize_per_class = train_size // num_classes\n",
    "    \n",
    "  start_t = 0, 0\n",
    "  end_t = tsize_per_class\n",
    "  end_l = tsize_per_class\n",
    "  for label, pickle_file in enumerate(pickle_files):       \n",
    "    try:\n",
    "      with open(pickle_file, 'rb') as f:\n",
    "        letter_set = pickle.load(f)\n",
    "        # let's shuffle the letters to have random validation and training set\n",
    "        np.random.shuffle(letter_set)\n",
    "                    \n",
    "        train_letter = letter_set[0:tsize_per_class, :, :]\n",
    "        train_dataset[start_t:end_t, :, :] = train_letter\n",
    "        train_labels[start_t:end_t] = label\n",
    "        start_t += tsize_per_class\n",
    "        end_t += tsize_per_class\n",
    "    except Exception as e:\n",
    "      print('Unable to process data from', pickle_file, ':', e)\n",
    "      raise\n",
    "    \n",
    "  return train_dataset, train_labels\n",
    "            \n",
    "            \n",
    "train_size = 25600\n",
    "test_size = 2560\n",
    "\n",
    "train_dataset, train_labels = merge_datasets(\n",
    "  train_datasets, train_size)\n",
    "test_dataset, test_labels = merge_datasets(test_datasets, test_size)\n",
    "\n",
    "print('Training:', train_dataset.shape, train_labels.shape)\n",
    "print('Testing:', test_dataset.shape, test_labels.shape)"
   ]
  },
  {
   "cell_type": "code",
   "execution_count": 261,
   "metadata": {
    "collapsed": false
   },
   "outputs": [
    {
     "name": "stdout",
     "output_type": "stream",
     "text": [
      "70483\n",
      "78\n"
     ]
    },
    {
     "data": {
      "image/png": "[encoded data removed]",
      "text/plain": [
       "<matplotlib.figure.Figure at 0x7f2f8d7dd090>"
      ]
     },
     "metadata": {},
     "output_type": "display_data"
    },
    {
     "data": {
      "text/plain": [
       "169.0"
      ]
     },
     "execution_count": 261,
     "metadata": {},
     "output_type": "execute_result"
    }
   ],
   "source": [
    "rand_image = random.randint(0, 255000)\n",
    "\n",
    "print (rand_image)\n",
    "plt.imshow(train_dataset[rand_image], cmap='gray', interpolation='nearest', vmin=0, vmax=255)\n",
    "print (train_labels[rand_image])\n",
    "plt.show()\n",
    "np.mean(train_dataset[rand_image])\n",
    "\n",
    "\n",
    "br_list = pickle.load(open(\"trainsetpngResampled100/200.pickle\", \"rb\"))\n",
    "random_letter = random.choice(br_list)\n",
    "plt.imshow(random_letter,cmap='gray', interpolation='nearest', vmin=0, vmax=255)"
   ]
  },
  {
   "cell_type": "code",
   "execution_count": 214,
   "metadata": {
    "collapsed": false
   },
   "outputs": [
    {
     "name": "stdout",
     "output_type": "stream",
     "text": [
      "236980\n"
     ]
    },
    {
     "ename": "IndexError",
     "evalue": "index 236980 is out of bounds for axis 0 with size 25000",
     "output_type": "error",
     "traceback": [
      "\u001b[0;31m---------------------------------------------------------------------------\u001b[0m",
      "\u001b[0;31mIndexError\u001b[0m                                Traceback (most recent call last)",
      "\u001b[0;32m<ipython-input-214-cf5be010392c>\u001b[0m in \u001b[0;36m<module>\u001b[0;34m()\u001b[0m\n\u001b[1;32m      3\u001b[0m \u001b[0;32mprint\u001b[0m \u001b[0;34m(\u001b[0m\u001b[0mrand_image\u001b[0m\u001b[0;34m)\u001b[0m\u001b[0;34m\u001b[0m\u001b[0m\n\u001b[1;32m      4\u001b[0m \u001b[0;34m\u001b[0m\u001b[0m\n\u001b[0;32m----> 5\u001b[0;31m \u001b[0mplt\u001b[0m\u001b[0;34m.\u001b[0m\u001b[0mimshow\u001b[0m\u001b[0;34m(\u001b[0m\u001b[0mtrain_dataset\u001b[0m\u001b[0;34m[\u001b[0m\u001b[0mrand_image\u001b[0m\u001b[0;34m]\u001b[0m\u001b[0;34m,\u001b[0m \u001b[0mcmap\u001b[0m\u001b[0;34m=\u001b[0m\u001b[0;34m'gray'\u001b[0m\u001b[0;34m,\u001b[0m \u001b[0minterpolation\u001b[0m\u001b[0;34m=\u001b[0m\u001b[0;34m'nearest'\u001b[0m\u001b[0;34m,\u001b[0m \u001b[0mvmin\u001b[0m\u001b[0;34m=\u001b[0m\u001b[0;36m0\u001b[0m\u001b[0;34m,\u001b[0m \u001b[0mvmax\u001b[0m\u001b[0;34m=\u001b[0m\u001b[0;36m255\u001b[0m\u001b[0;34m)\u001b[0m\u001b[0;34m\u001b[0m\u001b[0m\n\u001b[0m\u001b[1;32m      6\u001b[0m \u001b[0;32mprint\u001b[0m \u001b[0;34m(\u001b[0m\u001b[0mtrain_labels\u001b[0m\u001b[0;34m[\u001b[0m\u001b[0mrand_image\u001b[0m\u001b[0;34m]\u001b[0m\u001b[0;34m)\u001b[0m\u001b[0;34m\u001b[0m\u001b[0m\n\u001b[1;32m      7\u001b[0m \u001b[0mplt\u001b[0m\u001b[0;34m.\u001b[0m\u001b[0mshow\u001b[0m\u001b[0;34m(\u001b[0m\u001b[0;34m)\u001b[0m\u001b[0;34m\u001b[0m\u001b[0m\n",
      "\u001b[0;31mIndexError\u001b[0m: index 236980 is out of bounds for axis 0 with size 25000"
     ]
    }
   ],
   "source": [
    "rand_image = random.randint(0, 250000)\n",
    "\n",
    "print (rand_image)\n",
    "\n",
    "plt.imshow(train_dataset[rand_image], cmap='gray', interpolation='nearest', vmin=0, vmax=255)\n",
    "print (train_labels[rand_image])\n",
    "plt.show()\n",
    "train_dataset[rand_image]"
   ]
  },
  {
   "cell_type": "code",
   "execution_count": null,
   "metadata": {
    "collapsed": true
   },
   "outputs": [],
   "source": []
  },
  {
   "cell_type": "code",
   "execution_count": 268,
   "metadata": {
    "collapsed": false
   },
   "outputs": [
    {
     "data": {
      "text/plain": [
       "array([167, 167, 167, ..., 255, 255, 255], dtype=int32)"
      ]
     },
     "execution_count": 268,
     "metadata": {},
     "output_type": "execute_result"
    }
   ],
   "source": [
    "dataset = np.ndarray((100, 28, 28), dtype=np.uint8)\n",
    "dataset\n",
    "labels = np.ndarray(100, dtype=np.int8)\n",
    "labels\n",
    "num_classes = len(train_datasets)\n",
    "num_classes\n",
    "tsize_per_class = 256000 // 256\n",
    "tsize_per_class\n",
    "start_t = 0\n",
    "end_t = tsize_per_class\n",
    "end_l = tsize_per_class\n",
    "label =167\n",
    "#for label, pickle_file in enumerate(train_datasets): \n",
    "with open('pngResampled1000/167.pickle', 'rb') as f:\n",
    "    letter_set = pickle.load(f)\n",
    "    train_letter = letter_set[0:tsize_per_class, :, :]\n",
    "    train_dataset[start_t:tsize_per_class, :, :] = train_letter\n",
    "    train_labels[start_t:end_t] = label\n",
    "train_labels\n"
   ]
  },
  {
   "cell_type": "code",
   "execution_count": null,
   "metadata": {
    "collapsed": true
   },
   "outputs": [],
   "source": []
  }
 ],
 "metadata": {
  "anaconda-cloud": {},
  "kernelspec": {
   "display_name": "Python [default]",
   "language": "python",
   "name": "python2"
  },
  "language_info": {
   "codemirror_mode": {
    "name": "ipython",
    "version": 2
   },
   "file_extension": ".py",
   "mimetype": "text/x-python",
   "name": "python",
   "nbconvert_exporter": "python",
   "pygments_lexer": "ipython2",
   "version": "2.7.12"
  }
 },
 "nbformat": 4,
 "nbformat_minor": 1
}
