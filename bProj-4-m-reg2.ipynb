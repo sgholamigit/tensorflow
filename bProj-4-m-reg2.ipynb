{
 "cells": [
  {
   "cell_type": "code",
   "execution_count": 2,
   "metadata": {
    "collapsed": true
   },
   "outputs": [],
   "source": [
    "from __future__ import print_function\n",
    "import numpy as np\n",
    "import tensorflow as tf\n",
    "from six.moves import cPickle as pickle\n",
    "from six.moves import range"
   ]
  },
  {
   "cell_type": "code",
   "execution_count": 3,
   "metadata": {
    "collapsed": false,
    "scrolled": true
   },
   "outputs": [
    {
     "name": "stdout",
     "output_type": "stream",
     "text": [
      "Training set (200000, 28, 28) (200000,)\n",
      "Test set (1000, 28, 28) (1000,)\n"
     ]
    }
   ],
   "source": [
    "pickle_file = 'brData10class14DomainReg.pickle'\n",
    "\n",
    "with open(pickle_file, 'rb') as f:\n",
    "  save = pickle.load(f)\n",
    "  train_dataset = save['train_dataset']\n",
    "  train_labels = save['train_labels']\n",
    "  test_dataset = save['test_dataset']\n",
    "  test_labels = save['test_labels']\n",
    "  del save  # hint to help gc free up memory\n",
    "  print('Training set', train_dataset.shape, train_labels.shape)\n",
    "  print('Test set', test_dataset.shape, test_labels.shape)"
   ]
  },
  {
   "cell_type": "code",
   "execution_count": 8,
   "metadata": {
    "collapsed": false
   },
   "outputs": [
    {
     "name": "stdout",
     "output_type": "stream",
     "text": [
      "Training set (200000, 28, 28, 1) (200000,)\n",
      "Test set (1000, 28, 28, 1) (1000,)\n",
      "\n",
      "[ 0.88235295  0.41176471  0.          0.29411766  0.64705884  0.05882353\n",
      "  0.17647059  0.52941179  0.41176471  1.          0.17647059  0.88235295\n",
      "  0.05882353  0.88235295  0.52941179  0.41176471  0.29411766  0.          0.7647059\n",
      "  0.05882353  0.88235295  0.          0.52941179  0.64705884  0.29411766\n",
      "  0.          0.52941179  0.05882353  1.          0.29411766  0.17647059\n",
      "  0.17647059  0.88235295  0.41176471  0.41176471  0.64705884  0.41176471\n",
      "  0.64705884  0.52941179  0.          0.64705884  0.29411766  0.41176471\n",
      "  0.7647059   0.          0.          0.17647059  0.          0.52941179\n",
      "  0.17647059  0.64705884  0.41176471  1.          0.7647059   0.41176471\n",
      "  0.41176471  0.05882353  0.17647059  0.88235295  0.29411766  0.05882353\n",
      "  0.88235295  0.64705884  0.17647059  0.41176471  0.7647059   0.29411766\n",
      "  0.41176471  1.          0.          0.29411766  0.41176471  0.\n",
      "  0.88235295  0.05882353  1.          1.          0.          0.17647059\n",
      "  1.          0.05882353  0.88235295  0.41176471  0.17647059  0.17647059\n",
      "  0.17647059  0.05882353  0.7647059   0.29411766  1.          0.7647059   0.\n",
      "  1.          0.          0.          0.05882353  1.          0.41176471\n",
      "  0.7647059   0.05882353]\n"
     ]
    }
   ],
   "source": [
    "image_size = 28\n",
    "#num_labels = 10\n",
    "num_channels = 1 # grayscale\n",
    "\n",
    "import numpy as np\n",
    "\n",
    "def reformat(dataset, labels):\n",
    "  dataset = dataset.reshape(\n",
    "    (-1, image_size, image_size, num_channels)).astype(np.float32)\n",
    "  #labels = (np.arange(num_labels) == labels[:,None]).astype(np.float32)\n",
    "  return dataset, labels\n",
    "train_dataset, train_labels = reformat(train_dataset, train_labels)\n",
    "test_dataset, test_labels = reformat(test_dataset, test_labels)\n",
    "print('Training set', train_dataset.shape, train_labels.shape)\n",
    "print('Test set', test_dataset.shape, test_labels.shape)\n",
    "\n",
    "print ()\n",
    "print (train_labels[0:100])"
   ]
  },
  {
   "cell_type": "code",
   "execution_count": 9,
   "metadata": {
    "collapsed": false
   },
   "outputs": [],
   "source": [
    "def accuracy(predictions, values):\n",
    "  return (100.0 * np.sum(predictions / values)\n",
    "          / predictions.shape[0])\n",
    "\n",
    "def meanSqrError(predictions, values):\n",
    "  return np.mean(((predictions - values) ** 2))\n"
   ]
  },
  {
   "cell_type": "code",
   "execution_count": 49,
   "metadata": {
    "collapsed": false
   },
   "outputs": [
    {
     "ename": "SyntaxError",
     "evalue": "invalid syntax (<ipython-input-49-c97b3acca7f9>, line 44)",
     "output_type": "error",
     "traceback": [
      "\u001b[0;36m  File \u001b[0;32m\"<ipython-input-49-c97b3acca7f9>\"\u001b[0;36m, line \u001b[0;32m44\u001b[0m\n\u001b[0;31m    loss = tf.reduce_mean(tf.square(logits - tf_train_labels)){:.9f}\u001b[0m\n\u001b[0m                                                              ^\u001b[0m\n\u001b[0;31mSyntaxError\u001b[0m\u001b[0;31m:\u001b[0m invalid syntax\n"
     ]
    }
   ],
   "source": [
    "batch_size = 1\n",
    "patch_size = 5\n",
    "depth = 16\n",
    "num_hidden = 64\n",
    "\n",
    "graph = tf.Graph()\n",
    "\n",
    "with graph.as_default():\n",
    "\n",
    "  # Input data.\n",
    "  tf_train_dataset = tf.placeholder(\n",
    "    tf.float32, shape=(batch_size, image_size, image_size, num_channels))\n",
    "  tf_train_labels = tf.placeholder(tf.float32, shape=(batch_size,))\n",
    "  tf_test_dataset = tf.constant(test_dataset)\n",
    "  tf_test_labels = tf.constant(test_labels)\n",
    "  \n",
    "  # Variables.\n",
    "  layer1_weights = tf.Variable(tf.truncated_normal(\n",
    "      [patch_size, patch_size, num_channels, depth], stddev=0.1))\n",
    "  layer1_biases = tf.Variable(tf.zeros([depth]))\n",
    "  layer2_weights = tf.Variable(tf.truncated_normal(\n",
    "      [patch_size, patch_size, depth, depth], stddev=0.1))\n",
    "  layer2_biases = tf.Variable(tf.constant(1.0, shape=[depth]))\n",
    "  layer3_weights = tf.Variable(tf.truncated_normal(\n",
    "      [image_size // 4 * image_size // 4 * depth, num_hidden], stddev=0.1))\n",
    "  layer3_biases = tf.Variable(tf.constant(1.0, shape=[num_hidden]))\n",
    "  layer4_weights = tf.Variable(tf.truncated_normal(\n",
    "      [num_hidden, 1], stddev=0.1))\n",
    "  layer4_biases = tf.Variable(tf.constant(1.0, shape=[1]))\n",
    "  \n",
    "  # Model.\n",
    "  def model(data):\n",
    "    conv = tf.nn.conv2d(data, layer1_weights, [1, 2, 2, 1], padding='SAME')\n",
    "    hidden = tf.nn.relu(conv + layer1_biases)\n",
    "    conv = tf.nn.conv2d(hidden, layer2_weights, [1, 2, 2, 1], padding='SAME')\n",
    "    hidden = tf.nn.relu(conv + layer2_biases)\n",
    "    shape = hidden.get_shape().as_list()\n",
    "    reshape = tf.reshape(hidden, [shape[0], shape[1] * shape[2] * shape[3]])\n",
    "    hidden = tf.nn.relu(tf.matmul(reshape, layer3_weights) + layer3_biases)\n",
    "    return tf.matmul(hidden, layer4_weights) + layer4_biases\n",
    "  \n",
    "  # Training computation.\n",
    "  logits = model(tf_train_dataset)\n",
    "  loss = tf.reduce_mean(tf.square(logits - tf_train_labels)){:.9f}\n",
    "    \n",
    "  # Optimizer.\n",
    "  optimizer = tf.train.GradientDescentOptimizer(0.0001).minimize(loss)\n",
    "  \n",
    "  # Predictions for the training, validation, and test data.\n",
    "  train_prediction = logits\n",
    "  test_prediction = model(tf_test_dataset)"
   ]
  },
  {
   "cell_type": "code",
   "execution_count": 50,
   "metadata": {
    "collapsed": false
   },
   "outputs": [
    {
     "name": "stdout",
     "output_type": "stream",
     "text": [
      "Initialized\n",
      "Minibatch loss at step 0: 3066.517578\n",
      "Minibatch loss at step 50: 3710.710205\n",
      "Minibatch loss at step 100: 2893.981934\n",
      "Minibatch loss at step 150: 3735.868652\n",
      "Minibatch loss at step 200: 3234.356445\n",
      "Minibatch loss at step 250: 4006.107910\n",
      "Minibatch loss at step 300: 3563.303711\n",
      "Minibatch loss at step 350: 3442.473633\n",
      "Minibatch loss at step 400: 3467.869141\n",
      "Minibatch loss at step 450: 3297.407471\n",
      "Minibatch loss at step 500: 3330.419922\n",
      "Minibatch loss at step 550: 3710.636719\n",
      "Minibatch loss at step 600: 3208.737793\n",
      "Minibatch loss at step 650: 3245.876465\n",
      "Minibatch loss at step 700: 3662.324951\n",
      "Minibatch loss at step 750: 3441.035645\n",
      "Minibatch loss at step 800: 2941.825195\n",
      "Minibatch loss at step 850: 3860.793213\n",
      "Minibatch loss at step 900: 3535.318848\n",
      "Minibatch loss at step 950: 3024.438965\n",
      "Minibatch loss at step 1000: 3782.322754\n",
      "Minibatch loss at step 1050: 3390.815918\n",
      "Minibatch loss at step 1100: 3876.671387\n",
      "Minibatch loss at step 1150: 3530.265869\n",
      "Minibatch loss at step 1200: 3003.975586\n",
      "Minibatch loss at step 1250: 3971.416992\n",
      "Minibatch loss at step 1300: 3895.437012\n",
      "Minibatch loss at step 1350: 4167.261230\n",
      "Minibatch loss at step 1400: 3481.648438\n",
      "Minibatch loss at step 1450: 3883.756592\n",
      "Minibatch loss at step 1500: 2790.859619\n",
      "Minibatch loss at step 1550: 3395.179932\n",
      "Minibatch loss at step 1600: 3870.862061\n",
      "Minibatch loss at step 1650: 3607.307861\n",
      "Minibatch loss at step 1700: 3279.884033\n",
      "Minibatch loss at step 1750: 3780.041748\n",
      "Minibatch loss at step 1800: 3280.640137\n",
      "Minibatch loss at step 1850: 4393.906250\n",
      "Minibatch loss at step 1900: 3128.738525\n",
      "Minibatch loss at step 1950: 3342.670166\n",
      "Minibatch loss at step 2000: 3437.492676\n",
      "Minibatch loss at step 2050: 3920.060059\n",
      "Minibatch loss at step 2100: 3587.893311\n",
      "Minibatch loss at step 2150: 3264.946045\n",
      "Minibatch loss at step 2200: 3894.409424\n",
      "Minibatch loss at step 2250: 3135.377441\n",
      "Minibatch loss at step 2300: 3532.139648\n",
      "Minibatch loss at step 2350: 3408.212158\n",
      "Minibatch loss at step 2400: 3080.666748\n",
      "Minibatch loss at step 2450: 3462.095947\n",
      "Minibatch loss at step 2500: 3438.512207\n",
      "Minibatch loss at step 2550: 3076.404785\n",
      "Minibatch loss at step 2600: 3543.152344\n",
      "Minibatch loss at step 2650: 3549.524170\n",
      "Minibatch loss at step 2700: 4279.714844\n",
      "Minibatch loss at step 2750: 3589.584717\n",
      "Minibatch loss at step 2800: 3414.427246\n",
      "Minibatch loss at step 2850: 3720.382568\n",
      "Minibatch loss at step 2900: 3161.094482\n",
      "Minibatch loss at step 2950: 3080.140625\n",
      "Minibatch loss at step 3000: 3468.598633\n",
      "Minibatch loss at step 3050: 3510.063477\n",
      "Minibatch loss at step 3100: 3434.336426\n",
      "Minibatch loss at step 3150: 4231.597168\n",
      "Minibatch loss at step 3200: 3588.092285\n",
      "Minibatch loss at step 3250: 3444.702148\n",
      "Minibatch loss at step 3300: 3676.885010\n",
      "Minibatch loss at step 3350: 3374.251953\n",
      "Minibatch loss at step 3400: 3729.217285\n",
      "Minibatch loss at step 3450: 3163.279297\n",
      "Minibatch loss at step 3500: 3679.833984\n",
      "Minibatch loss at step 3550: 3180.981445\n",
      "Minibatch loss at step 3600: 3826.530029\n",
      "Minibatch loss at step 3650: 3636.602783\n",
      "Minibatch loss at step 3700: 4051.343506\n",
      "Minibatch loss at step 3750: 3265.001465\n",
      "Minibatch loss at step 3800: 3894.622803\n",
      "Minibatch loss at step 3850: 3552.013672\n",
      "Minibatch loss at step 3900: 3038.631348\n",
      "Minibatch loss at step 3950: 3536.212891\n",
      "Minibatch loss at step 4000: 3046.602051\n",
      "Minibatch loss at step 4050: 3521.691406\n",
      "Minibatch loss at step 4100: 3500.184082\n",
      "Minibatch loss at step 4150: 3454.372070\n",
      "Minibatch loss at step 4200: 3707.181152\n",
      "Minibatch loss at step 4250: 3684.308350\n",
      "Minibatch loss at step 4300: 3246.997070\n",
      "Minibatch loss at step 4350: 3187.331543\n",
      "Minibatch loss at step 4400: 3269.236328\n",
      "Minibatch loss at step 4450: 3306.263672\n",
      "Minibatch loss at step 4500: 3790.745117\n",
      "Minibatch loss at step 4550: 3434.676025\n",
      "Minibatch loss at step 4600: 3400.156494\n",
      "Minibatch loss at step 4650: 3469.003174\n",
      "Minibatch loss at step 4700: 3476.593506\n",
      "Minibatch loss at step 4750: 3574.136230\n",
      "Minibatch loss at step 4800: 3195.089600\n",
      "Minibatch loss at step 4850: 3554.050537\n",
      "Minibatch loss at step 4900: 3746.663574\n",
      "Minibatch loss at step 4950: 3141.978271\n",
      "Minibatch loss at step 5000: 3254.203857\n",
      "Minibatch loss at step 5050: 3725.325928\n",
      "Minibatch loss at step 5100: 3787.336914\n",
      "Minibatch loss at step 5150: 3390.909912\n",
      "Minibatch loss at step 5200: 3910.077637\n",
      "Minibatch loss at step 5250: 4034.512939\n",
      "Minibatch loss at step 5300: 3926.552490\n",
      "Minibatch loss at step 5350: 4115.489746\n",
      "Minibatch loss at step 5400: 3677.397705\n",
      "Minibatch loss at step 5450: 4077.662842\n",
      "Minibatch loss at step 5500: 3740.653320\n",
      "Minibatch loss at step 5550: 2946.986328\n",
      "Minibatch loss at step 5600: 3908.288330\n",
      "Minibatch loss at step 5650: 3172.631104\n",
      "Minibatch loss at step 5700: 3992.158691\n",
      "Minibatch loss at step 5750: 3465.413574\n",
      "Minibatch loss at step 5800: 3553.988525\n",
      "Minibatch loss at step 5850: 3604.079102\n",
      "Minibatch loss at step 5900: 2951.842773\n",
      "Minibatch loss at step 5950: 3675.127930\n",
      "Minibatch loss at step 6000: 3609.672607\n",
      "Minibatch loss at step 6050: 3680.854980\n",
      "Minibatch loss at step 6100: 3810.668945\n",
      "Minibatch loss at step 6150: 3669.383545\n",
      "Minibatch loss at step 6200: 3937.691406\n",
      "Minibatch loss at step 6250: 3121.892822\n",
      "Minibatch loss at step 6300: 4029.269531\n",
      "Minibatch loss at step 6350: 3852.493652\n",
      "Minibatch loss at step 6400: 4292.708496\n",
      "Minibatch loss at step 6450: 3925.604004\n",
      "Minibatch loss at step 6500: 3663.582275\n",
      "Minibatch loss at step 6550: 3569.289062\n",
      "Minibatch loss at step 6600: 3022.257080\n",
      "Minibatch loss at step 6650: 3192.008057\n",
      "Minibatch loss at step 6700: 3061.668701\n",
      "Minibatch loss at step 6750: 3554.804932\n",
      "Minibatch loss at step 6800: 3242.450195\n",
      "Minibatch loss at step 6850: 3477.095947\n",
      "Minibatch loss at step 6900: 3354.335449\n",
      "Minibatch loss at step 6950: 3637.322998\n",
      "Minibatch loss at step 7000: 3584.802979\n",
      "Minibatch loss at step 7050: 3131.643555\n",
      "Minibatch loss at step 7100: 3249.834961\n",
      "Minibatch loss at step 7150: 3570.338867\n",
      "Minibatch loss at step 7200: 3502.858887\n",
      "Minibatch loss at step 7250: 3460.556641\n",
      "Minibatch loss at step 7300: 3468.673096\n",
      "Minibatch loss at step 7350: 2999.231445\n",
      "Minibatch loss at step 7400: 3740.097412\n",
      "Minibatch loss at step 7450: 3369.340820\n",
      "Minibatch loss at step 7500: 3240.229004\n",
      "Minibatch loss at step 7550: 3112.727051\n",
      "Minibatch loss at step 7600: 3568.130615\n",
      "Minibatch loss at step 7650: 3794.321777\n",
      "Minibatch loss at step 7700: 4134.290527\n",
      "Minibatch loss at step 7750: 3640.831299\n",
      "Minibatch loss at step 7800: 3669.478027\n",
      "Minibatch loss at step 7850: 3483.342773\n",
      "Minibatch loss at step 7900: 3357.042969\n",
      "Minibatch loss at step 7950: 3931.652832\n",
      "Minibatch loss at step 8000: 4158.800293\n",
      "Minibatch loss at step 8050: 3938.858154\n",
      "Minibatch loss at step 8100: 3548.901611\n",
      "Minibatch loss at step 8150: 3320.539062\n",
      "Minibatch loss at step 8200: 3656.475830\n",
      "Minibatch loss at step 8250: 4264.380859\n",
      "Minibatch loss at step 8300: 3640.927002\n",
      "Minibatch loss at step 8350: 3936.343018\n",
      "Minibatch loss at step 8400: 3563.312988\n",
      "Minibatch loss at step 8450: 4005.923340\n",
      "Minibatch loss at step 8500: 3352.687256\n",
      "Minibatch loss at step 8550: 3919.633301\n",
      "Minibatch loss at step 8600: 3876.183105\n",
      "Minibatch loss at step 8650: 3412.813965\n",
      "Minibatch loss at step 8700: 3560.757812\n",
      "Minibatch loss at step 8750: 3409.208252\n",
      "Minibatch loss at step 8800: 2951.562012\n",
      "Minibatch loss at step 8850: 3727.172119\n",
      "Minibatch loss at step 8900: 3278.516113\n",
      "Minibatch loss at step 8950: 3160.725586\n",
      "Minibatch loss at step 9000: 3236.634766\n",
      "Minibatch loss at step 9050: 3530.150391\n",
      "Minibatch loss at step 9100: 2891.291260\n",
      "Minibatch loss at step 9150: 3869.278320\n",
      "Minibatch loss at step 9200: 3129.897461\n",
      "Minibatch loss at step 9250: 4191.086914\n",
      "Minibatch loss at step 9300: 3050.003418\n",
      "Minibatch loss at step 9350: 3549.312012\n",
      "Minibatch loss at step 9400: 3672.195312\n",
      "Minibatch loss at step 9450: 3513.942383\n",
      "Minibatch loss at step 9500: 3627.723145\n",
      "Minibatch loss at step 9550: 3341.165527\n",
      "Minibatch loss at step 9600: 3422.061768\n",
      "Minibatch loss at step 9650: 3301.894287\n",
      "Minibatch loss at step 9700: 3172.313965\n",
      "Minibatch loss at step 9750: 3349.822754\n",
      "Minibatch loss at step 9800: 3552.193604\n",
      "Minibatch loss at step 9850: 3141.458740\n",
      "Minibatch loss at step 9900: 3546.411865\n",
      "Minibatch loss at step 9950: 3603.028076\n",
      "Minibatch loss at step 10000: 3663.427734\n"
     ]
    }
   ],
   "source": [
    "num_steps = 10001\n",
    "\n",
    "with tf.Session(graph=graph) as session:\n",
    "  tf.global_variables_initializer().run()\n",
    "  print('Initialized')\n",
    "  for step in range(num_steps):\n",
    "    offset = (step * batch_size) % (train_labels.shape[0] - batch_size)\n",
    "    batch_data = train_dataset[offset:(offset + batch_size), :, :, :]\n",
    "    batch_labels = train_labels[offset:(offset + batch_size),]\n",
    "    #print(\"batch_labels\", batch_labels)\n",
    "    feed_dict = {tf_train_dataset : batch_data, tf_train_labels : batch_labels}\n",
    "    #_, l, predictions = session.run(\n",
    "    #  [optimizer, loss, train_prediction], feed_dict=feed_dict)\n",
    "    tuning_cost = session.run(loss, feed_dict)\n",
    "    #print (\"Tuning cost=\", \"{:.9f}\".format(tuning_cost))\n",
    "    if (step % 50 == 0):\n",
    "      print('Minibatch loss at step %d: %f' % (step, tuning_cost))\n",
    "  #print('Test accuracy: %.1f%%' % meanSqrError(test_prediction.eval(), test_prediction))\n",
    "  #testing_cost = session.run(loss, feed_dict={tf_test_dataset: tf_test_dataset, test_labels:test_labels})    \n",
    "  #print (\"Testing data cost:\" , testing_cost)"
   ]
  },
  {
   "cell_type": "code",
   "execution_count": 31,
   "metadata": {
    "collapsed": false
   },
   "outputs": [
    {
     "data": {
      "text/plain": [
       "(150,)"
      ]
     },
     "execution_count": 31,
     "metadata": {},
     "output_type": "execute_result"
    }
   ],
   "source": [
    "predictions.shape\n",
    "batch_labels.shape"
   ]
  },
  {
   "cell_type": "code",
   "execution_count": 16,
   "metadata": {
    "collapsed": false
   },
   "outputs": [
    {
     "data": {
      "text/plain": [
       "array([ 0.17647059,  0.88235295,  0.05882353,  0.88235295,  0.52941179,\n",
       "        0.41176471,  0.29411766,  0.        ,  0.7647059 ,  0.05882353], dtype=float32)"
      ]
     },
     "execution_count": 16,
     "metadata": {},
     "output_type": "execute_result"
    }
   ],
   "source": [
    "train_labels[10:20,]"
   ]
  },
  {
   "cell_type": "code",
   "execution_count": null,
   "metadata": {
    "collapsed": true
   },
   "outputs": [],
   "source": []
  }
 ],
 "metadata": {
  "anaconda-cloud": {},
  "kernelspec": {
   "display_name": "Python [default]",
   "language": "python",
   "name": "python2"
  },
  "language_info": {
   "codemirror_mode": {
    "name": "ipython",
    "version": 2
   },
   "file_extension": ".py",
   "mimetype": "text/x-python",
   "name": "python",
   "nbconvert_exporter": "python",
   "pygments_lexer": "ipython2",
   "version": "2.7.12"
  }
 },
 "nbformat": 4,
 "nbformat_minor": 2
}
